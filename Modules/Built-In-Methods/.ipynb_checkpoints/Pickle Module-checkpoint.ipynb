{
 "cells": [
  {
   "cell_type": "markdown",
   "id": "9500b17a",
   "metadata": {},
   "source": [
    "### Pickle Module:"
   ]
  },
  {
   "cell_type": "markdown",
   "id": "56a01df6",
   "metadata": {},
   "source": [
    "•The pickle module in Python is used for serializing and deserializing Python objects.\n",
    "\n",
    "•Serialization refers to the process of converting objects into a byte stream, while deserialization is the process of reconstructing objects from that byte stream.\n",
    "\n",
    "•The pickle module allows you to save Python objects (such as lists, dictionaries, functions, and custom objects) to a file and later load them back into memory."
   ]
  },
  {
   "cell_type": "markdown",
   "id": "3424c17e",
   "metadata": {},
   "source": [
    "#### You can pickle objects with the following data types:"
   ]
  },
  {
   "cell_type": "markdown",
   "id": "bf0c20a2",
   "metadata": {},
   "source": [
    "•Booleans\n",
    "\n",
    "•Integers\n",
    "\n",
    "•Floats\n",
    "\n",
    "•Complex Numbers\n",
    "\n",
    "•(normal and unicode) Strings\n",
    "\n",
    "•Tuples\n",
    "\n",
    "•Lists\n",
    "\n",
    "•Sets\n",
    "\n",
    "•Dictionaries"
   ]
  },
  {
   "cell_type": "markdown",
   "id": "1765f049",
   "metadata": {},
   "source": [
    "#### Python Pickle functions:"
   ]
  },
  {
   "cell_type": "markdown",
   "id": "4140f0a6",
   "metadata": {},
   "source": [
    "•dump() :- This function is called to seralize an object heirarchy"
   ]
  },
  {
   "cell_type": "markdown",
   "id": "ea331642",
   "metadata": {},
   "source": [
    "•load() :-This function is called to de-seralize a data stream"
   ]
  },
  {
   "cell_type": "code",
   "execution_count": 1,
   "id": "36b8ff35",
   "metadata": {},
   "outputs": [],
   "source": [
    "#importing pickle library\n",
    "import pickle"
   ]
  },
  {
   "cell_type": "code",
   "execution_count": 5,
   "id": "c2784fbd",
   "metadata": {},
   "outputs": [],
   "source": []
  },
  {
   "cell_type": "code",
   "execution_count": null,
   "id": "d8972bd0",
   "metadata": {},
   "outputs": [],
   "source": []
  }
 ],
 "metadata": {
  "kernelspec": {
   "display_name": "Python 3 (ipykernel)",
   "language": "python",
   "name": "python3"
  },
  "language_info": {
   "codemirror_mode": {
    "name": "ipython",
    "version": 3
   },
   "file_extension": ".py",
   "mimetype": "text/x-python",
   "name": "python",
   "nbconvert_exporter": "python",
   "pygments_lexer": "ipython3",
   "version": "3.11.5"
  }
 },
 "nbformat": 4,
 "nbformat_minor": 5
}
