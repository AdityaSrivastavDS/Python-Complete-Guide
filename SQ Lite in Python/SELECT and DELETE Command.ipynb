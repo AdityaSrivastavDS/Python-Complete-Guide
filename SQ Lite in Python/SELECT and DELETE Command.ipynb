{
 "cells": [
  {
   "cell_type": "code",
   "execution_count": 1,
   "id": "00d2fee4-0c9c-44ca-a590-98f69180c38e",
   "metadata": {},
   "outputs": [],
   "source": [
    "import sqlite3"
   ]
  },
  {
   "cell_type": "code",
   "execution_count": 2,
   "id": "d8d82629-5956-4ee9-a1f0-a186f81cf079",
   "metadata": {},
   "outputs": [],
   "source": [
    "#connecting to database\n",
    "con = sqlite3.connect('database.db')"
   ]
  },
  {
   "cell_type": "code",
   "execution_count": 14,
   "id": "ae271e5b-ca5e-46f5-90c1-9f1a2a33cb8b",
   "metadata": {},
   "outputs": [
    {
     "name": "stdout",
     "output_type": "stream",
     "text": [
      "STUDENT ID STUDENT NAME STUDENT CLASS STUDENT EMAIL\n",
      "(None, 'Aditya', 'BCADS21', 'aditya@gmail.com')\n",
      "(None, 'Rahul', 'BCADS21', 'rahul@gmail.com')\n",
      "(None, 'Mahir', 'BCADS21', 'mahir@gmail.com')\n",
      "(None, 'Mansi', 'BCADS21', 'mansi@gmail.com')\n",
      "(None, 'Aditya', 'BCADS21', 'aditya@gmail.com')\n",
      "(None, 'Rahul', 'BCADS21', 'rahul@gmail.com')\n",
      "(None, 'Mahir', 'BCADS21', 'mahir@gmail.com')\n",
      "(None, 'Mansi', 'BCADS21', 'mansi@gmail.com')\n"
     ]
    }
   ],
   "source": [
    "#displaying data from database\n",
    "data = con.execute(\"SELECT * FROM student\")\n",
    "print(\"STUDENT ID\", \"STUDENT NAME\" ,\"STUDENT CLASS\" ,\"STUDENT EMAIL\")\n",
    "for n in data:\n",
    "    print(n)"
   ]
  },
  {
   "cell_type": "code",
   "execution_count": 9,
   "id": "84e50d17-3963-4f96-8770-aa9fb5b25bf2",
   "metadata": {},
   "outputs": [
    {
     "name": "stdout",
     "output_type": "stream",
     "text": [
      "STUDENT ID STUDENT NAME STUDENT CLASS STUDENT EMAIL\n",
      "None        Aditya         BCADS21        aditya@gmail.com\n",
      "None        Rahul         BCADS21        rahul@gmail.com\n",
      "None        Mahir         BCADS21        mahir@gmail.com\n",
      "None        Mansi         BCADS21        mansi@gmail.com\n",
      "None        Aditya         BCADS21        aditya@gmail.com\n",
      "None        Rahul         BCADS21        rahul@gmail.com\n",
      "None        Mahir         BCADS21        mahir@gmail.com\n",
      "None        Mansi         BCADS21        mansi@gmail.com\n"
     ]
    }
   ],
   "source": [
    "#using index number to access particular record\n",
    "data = con.execute(\"SELECT * FROM student\")\n",
    "print(\"STUDENT ID\", \"STUDENT NAME\" ,\"STUDENT CLASS\" ,\"STUDENT EMAIL\")\n",
    "for n in data:\n",
    "    print(n[0],\"      \",n[1],\"       \",n[2], \"      \",n[3])    #giving space for better readibility"
   ]
  },
  {
   "cell_type": "code",
   "execution_count": 11,
   "id": "92b8b927-dd14-4f71-adab-23ca31afadb3",
   "metadata": {},
   "outputs": [
    {
     "name": "stdout",
     "output_type": "stream",
     "text": [
      "STUDENT ID STUDENT NAME STUDENT CLASS STUDENT EMAIL\n",
      "None        Aditya         BCADS21        aditya@gmail.com\n",
      "None        Rahul         BCADS21        rahul@gmail.com\n"
     ]
    }
   ],
   "source": [
    "#using limit method to display particular range of records\n",
    "#in limit we have to define two arguments : first is starting position and second is number of records we want\n",
    "data = con.execute(\"SELECT * FROM student limit 0,2 \")\n",
    "\n",
    "print(\"STUDENT ID\", \"STUDENT NAME\" ,\"STUDENT CLASS\" ,\"STUDENT EMAIL\")\n",
    "for n in data:\n",
    "    print(n[0],\"      \",n[1],\"       \",n[2], \"      \",n[3])    #giving space for better readibility"
   ]
  },
  {
   "cell_type": "code",
   "execution_count": 12,
   "id": "5cadc060-0537-446a-8b5a-52269e4ea132",
   "metadata": {},
   "outputs": [
    {
     "name": "stdout",
     "output_type": "stream",
     "text": [
      "STUDENT ID STUDENT NAME STUDENT CLASS STUDENT EMAIL\n",
      "None        Mahir         BCADS21        mahir@gmail.com\n",
      "None        Mansi         BCADS21        mansi@gmail.com\n"
     ]
    }
   ],
   "source": [
    "data = con.execute(\"SELECT * FROM student limit 2,2 \")\n",
    "\n",
    "print(\"STUDENT ID\", \"STUDENT NAME\" ,\"STUDENT CLASS\" ,\"STUDENT EMAIL\")\n",
    "for n in data:\n",
    "    print(n[0],\"      \",n[1],\"       \",n[2], \"      \",n[3])    "
   ]
  },
  {
   "cell_type": "code",
   "execution_count": 15,
   "id": "ec9a816d-7694-44a3-afef-cb6906fc3b91",
   "metadata": {},
   "outputs": [
    {
     "name": "stdin",
     "output_type": "stream",
     "text": [
      "Enter the student Id:-  3\n"
     ]
    }
   ],
   "source": [
    "#deleting records \n",
    "\n",
    "#taking input from user which record to delete\n",
    "st_id = input(\"Enter the student Id:- \")\n",
    "con.execute(\" DELETE FROM student where st_id = \"+st_id)\n",
    "\n",
    "#commiting changes\n",
    "con.commit()\n",
    "con.close()"
   ]
  },
  {
   "cell_type": "code",
   "execution_count": null,
   "id": "10fc5d89-9cdc-4d25-b0a5-34dc80a81e62",
   "metadata": {},
   "outputs": [],
   "source": []
  }
 ],
 "metadata": {
  "kernelspec": {
   "display_name": "Python 3 (ipykernel)",
   "language": "python",
   "name": "python3"
  },
  "language_info": {
   "codemirror_mode": {
    "name": "ipython",
    "version": 3
   },
   "file_extension": ".py",
   "mimetype": "text/x-python",
   "name": "python",
   "nbconvert_exporter": "python",
   "pygments_lexer": "ipython3",
   "version": "3.11.5"
  }
 },
 "nbformat": 4,
 "nbformat_minor": 5
}
