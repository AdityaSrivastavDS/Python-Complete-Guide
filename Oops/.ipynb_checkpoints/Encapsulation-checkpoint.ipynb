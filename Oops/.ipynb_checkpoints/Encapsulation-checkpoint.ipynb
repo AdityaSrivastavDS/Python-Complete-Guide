{
 "cells": [
  {
   "cell_type": "markdown",
   "id": "05678276-4868-4a43-abcc-df41bf29bdbc",
   "metadata": {},
   "source": [
    "♦Encapsulation:-\n",
    "\n",
    "•Encapsulation in object-oriented programming (OOP) is like putting things in a box or container to keep them safe and organized. It's a way to bundle data (attributes) and methods (functions) that operate on the data into a single unit, often called a class.\r\n",
    "•\r\n",
    "Think of a class as a blueprint that contains both data (attributes or variables) and methods (functions or behaviors). Encapsulation allows you to control access to the inner workings of the class, protecting its data from outside interference and misuse.•\r\n",
    "\r\n",
    "Here's an analogy to explain encapsulation:\r\n",
    "\r\n",
    "Imagine a smartphone as a class. The smartphone has various components like a screen, battery, camera, and buttons. These components are like the attributes of the class. Now, the way you interact with the smartphone—pressing buttons, swiping the screen—is similar to calling methods or functions defined within the class.\r\n",
    "\r\n",
    "Encapsulation ensures that the inner workings of the smartphone (its components) are hidden from the user. You don't need to know the intricate details of how the screen displays images or how the battery manages power; you just interact with it through its interface (buttons, screen, etc.). Similarly, in a class, users interact with its methods to perform tasks, without needing to know the internal implementation details."
   ]
  },
  {
   "cell_type": "code",
   "execution_count": 2,
   "id": "369723e4-110e-4f1f-be4d-c90a6aeec675",
   "metadata": {},
   "outputs": [
    {
     "name": "stdout",
     "output_type": "stream",
     "text": [
      "Aditya\n"
     ]
    }
   ],
   "source": [
    "#Implementation of encapsulation concept of Oops in python\n",
    "class Student:\n",
    "    def __init__(self):\n",
    "        self.__name = \"\"\n",
    "        \n",
    "    def getname(self):\n",
    "        return self.__name\n",
    "        \n",
    "    def setname(self,name):\n",
    "        self.__name = name\n",
    "\n",
    "obj = Student()\n",
    "obj.setname(\"Aditya\")\n",
    "name = obj.getname()\n",
    "print(name)"
   ]
  },
  {
   "cell_type": "code",
   "execution_count": 1,
   "id": "0bbddd61-912f-4120-b15e-c369c288345e",
   "metadata": {},
   "outputs": [
    {
     "ename": "AttributeError",
     "evalue": "'student' object has no attribute '__name'",
     "output_type": "error",
     "traceback": [
      "\u001b[1;31m---------------------------------------------------------------------------\u001b[0m",
      "\u001b[1;31mAttributeError\u001b[0m                            Traceback (most recent call last)",
      "Cell \u001b[1;32mIn[1], line 5\u001b[0m\n\u001b[0;32m      2\u001b[0m     __name \u001b[38;5;241m=\u001b[39m \u001b[38;5;124m\"\u001b[39m\u001b[38;5;124mAditya\u001b[39m\u001b[38;5;124m\"\u001b[39m  \u001b[38;5;66;03m#private value\u001b[39;00m\n\u001b[0;32m      4\u001b[0m obj \u001b[38;5;241m=\u001b[39m student()\n\u001b[1;32m----> 5\u001b[0m \u001b[38;5;28mprint\u001b[39m(obj\u001b[38;5;241m.\u001b[39m__name)\n",
      "\u001b[1;31mAttributeError\u001b[0m: 'student' object has no attribute '__name'"
     ]
    }
   ],
   "source": [
    "#implementation of encapsulation using private varibales\n",
    "class student:\n",
    "    __name = \"Aditya\"  #we define the private variable using __(double underscore) \n",
    "\n",
    "obj = student()\n",
    "print(obj.__name)  #it will give error as we cannot directly access private variables through object"
   ]
  },
  {
   "cell_type": "code",
   "execution_count": 3,
   "id": "136de8fd-b252-4a21-8d12-a74b2520a07f",
   "metadata": {},
   "outputs": [
    {
     "name": "stdout",
     "output_type": "stream",
     "text": [
      "Aditya\n"
     ]
    }
   ],
   "source": [
    "#This program will give input because here we had not defined name as a private varibale\n",
    "class student:\n",
    "    name = \"Aditya\"\n",
    "\n",
    "obj = student()\n",
    "print(obj.name)"
   ]
  },
  {
   "cell_type": "code",
   "execution_count": 6,
   "id": "a459e15f-1b6e-4597-9c18-dc8791f7a644",
   "metadata": {},
   "outputs": [
    {
     "name": "stdout",
     "output_type": "stream",
     "text": [
      "Mahir\n"
     ]
    }
   ],
   "source": [
    "#For accessing private variables we have to create constructor\n",
    "class student:\n",
    "    __name = \"Mahir\"\n",
    "\n",
    "    def __init__(self):\n",
    "       print(self.__name)\n",
    "\n",
    "obj = student()   #constructor automatically invoked "
   ]
  },
  {
   "cell_type": "code",
   "execution_count": 9,
   "id": "32f23030-590c-44cd-ac8e-237ed55a7425",
   "metadata": {},
   "outputs": [
    {
     "name": "stdout",
     "output_type": "stream",
     "text": [
      "Adi\n",
      "Welcome to Python\n"
     ]
    }
   ],
   "source": [
    "#creating private method\n",
    "\n",
    "class student:\n",
    "    __name = \"Adi\"\n",
    "    def __init__(self):\n",
    "        print(self.__name)\n",
    "        self.__displayinfo()  #access of private method within constructor\n",
    "        \n",
    "    def __displayinfo(self):      #private method\n",
    "        print(\"Welcome to Python\")\n",
    "\n",
    "obj = student()\n",
    "        "
   ]
  },
  {
   "cell_type": "code",
   "execution_count": null,
   "id": "a4ed16b7-3e54-4c41-9199-d0542821f02f",
   "metadata": {},
   "outputs": [],
   "source": []
  }
 ],
 "metadata": {
  "kernelspec": {
   "display_name": "Python 3 (ipykernel)",
   "language": "python",
   "name": "python3"
  },
  "language_info": {
   "codemirror_mode": {
    "name": "ipython",
    "version": 3
   },
   "file_extension": ".py",
   "mimetype": "text/x-python",
   "name": "python",
   "nbconvert_exporter": "python",
   "pygments_lexer": "ipython3",
   "version": "3.11.5"
  }
 },
 "nbformat": 4,
 "nbformat_minor": 5
}
