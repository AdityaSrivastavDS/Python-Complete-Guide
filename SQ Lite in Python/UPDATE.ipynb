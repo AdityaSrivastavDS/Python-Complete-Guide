{
 "cells": [
  {
   "cell_type": "code",
   "execution_count": 1,
   "id": "f175f407-2995-41d7-a49f-d68d12a4e0cc",
   "metadata": {},
   "outputs": [],
   "source": [
    "import sqlite3"
   ]
  },
  {
   "cell_type": "code",
   "execution_count": 3,
   "id": "a08c719a-5aea-42ba-8cdf-ece7b27d99d3",
   "metadata": {},
   "outputs": [],
   "source": [
    "#connecting to database\n",
    "con = sqlite3.connect(\"database.db\")"
   ]
  },
  {
   "cell_type": "code",
   "execution_count": 4,
   "id": "1ce2d47d-406e-4ee3-88ad-90f634023b03",
   "metadata": {},
   "outputs": [],
   "source": [
    "#using update and set function to update records\n",
    "con.execute('''\n",
    "    update student set st_name = 'Adi' where st_id = 1\n",
    "    ''')\n",
    "\n",
    "con.commit()\n",
    "con.close()"
   ]
  },
  {
   "cell_type": "code",
   "execution_count": null,
   "id": "1a699717-cedf-48eb-a2f9-1764def3264c",
   "metadata": {},
   "outputs": [],
   "source": []
  }
 ],
 "metadata": {
  "kernelspec": {
   "display_name": "Python 3 (ipykernel)",
   "language": "python",
   "name": "python3"
  },
  "language_info": {
   "codemirror_mode": {
    "name": "ipython",
    "version": 3
   },
   "file_extension": ".py",
   "mimetype": "text/x-python",
   "name": "python",
   "nbconvert_exporter": "python",
   "pygments_lexer": "ipython3",
   "version": "3.11.5"
  }
 },
 "nbformat": 4,
 "nbformat_minor": 5
}
