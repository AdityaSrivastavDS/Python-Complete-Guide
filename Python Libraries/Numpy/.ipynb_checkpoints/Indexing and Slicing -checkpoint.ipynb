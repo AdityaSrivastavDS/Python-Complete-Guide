{
 "cells": [
  {
   "cell_type": "code",
   "execution_count": 1,
   "id": "f7b92004-78d9-4a79-8afc-0797427cf92b",
   "metadata": {},
   "outputs": [],
   "source": [
    "import numpy as np"
   ]
  },
  {
   "cell_type": "code",
   "execution_count": 2,
   "id": "8d9c5a9a-4dc3-45c4-be2d-8e7e5b6f9f65",
   "metadata": {},
   "outputs": [
    {
     "name": "stdout",
     "output_type": "stream",
     "text": [
      "3\n"
     ]
    }
   ],
   "source": [
    "#indexing of 1-d array\n",
    "arr = np.array([1,2,3,4])\n",
    "print(arr[2])"
   ]
  },
  {
   "cell_type": "code",
   "execution_count": 3,
   "id": "165e9a62-657a-4321-84c8-af33426d4db2",
   "metadata": {},
   "outputs": [
    {
     "name": "stdout",
     "output_type": "stream",
     "text": [
      "[2 3]\n"
     ]
    }
   ],
   "source": [
    "#slicing of 1-d array\n",
    "print(arr[1:3])"
   ]
  },
  {
   "cell_type": "code",
   "execution_count": 4,
   "id": "a6f0431a-85ad-49dc-89f0-d261651c914f",
   "metadata": {},
   "outputs": [
    {
     "name": "stdout",
     "output_type": "stream",
     "text": [
      "[[1 2 3]\n",
      " [4 5 6]]\n"
     ]
    }
   ],
   "source": [
    "#declaring 2-d array\n",
    "arr1 = np.array([1,2,3,4,5,6])\n",
    "res = arr1.reshape(2,3)\n",
    "print(res)"
   ]
  },
  {
   "cell_type": "code",
   "execution_count": 5,
   "id": "dd36d69b-f1ed-4c43-a17c-eca43a0af914",
   "metadata": {},
   "outputs": [
    {
     "name": "stdout",
     "output_type": "stream",
     "text": [
      "5\n"
     ]
    }
   ],
   "source": [
    "#indexing of 2-d array\n",
    "print(res[1,1])    #here we have to give two parameters: first is row number and second is column number "
   ]
  },
  {
   "cell_type": "code",
   "execution_count": 6,
   "id": "8f153632-285f-40ae-9cbd-c60beb30bcf5",
   "metadata": {},
   "outputs": [
    {
     "name": "stdout",
     "output_type": "stream",
     "text": [
      "[4 5]\n"
     ]
    }
   ],
   "source": [
    "#slicing of 2-d array\n",
    "#here first we have to pass row number and then we will pass the slicing criteria\n",
    "print(res[1,0:2]) "
   ]
  },
  {
   "cell_type": "code",
   "execution_count": 7,
   "id": "1b8dd45d-dfe0-4a41-938e-2f1d0a97ca8f",
   "metadata": {},
   "outputs": [
    {
     "name": "stdout",
     "output_type": "stream",
     "text": [
      "[[[ 1  2]\n",
      "  [ 3  4]\n",
      "  [ 5  6]]\n",
      "\n",
      " [[ 7  8]\n",
      "  [ 9 10]\n",
      "  [11 12]]]\n"
     ]
    }
   ],
   "source": [
    "#declaring 3-d array\n",
    "arr3 = np.arange(1,13)\n",
    "res2 = arr3.reshape(2,3,2)\n",
    "print(res2)"
   ]
  },
  {
   "cell_type": "code",
   "execution_count": 8,
   "id": "9b5b83df-d17b-47f5-8958-c411d437d9e6",
   "metadata": {},
   "outputs": [
    {
     "name": "stdout",
     "output_type": "stream",
     "text": [
      "4\n"
     ]
    }
   ],
   "source": [
    "#indexing 3-d array\n",
    "#in this we have to pass three parameters- layer:row no. of layer:column no.of layer\n",
    "print(res2[0,1,1])  "
   ]
  },
  {
   "cell_type": "code",
   "execution_count": 9,
   "id": "0c494dce-0a41-4984-b036-a5592a4c9a66",
   "metadata": {},
   "outputs": [
    {
     "name": "stdout",
     "output_type": "stream",
     "text": [
      "[ 9 10]\n"
     ]
    }
   ],
   "source": [
    "#slicing 3-d array\n",
    "#here we pass three parameters- layer no.:row no. of layer:slicing criteria\n",
    "print(res2[1,1,0:2])"
   ]
  },
  {
   "cell_type": "code",
   "execution_count": null,
   "id": "1f7013fd-e3d0-4dff-a9c6-84e0033bb5a1",
   "metadata": {},
   "outputs": [],
   "source": []
  }
 ],
 "metadata": {
  "kernelspec": {
   "display_name": "Python 3 (ipykernel)",
   "language": "python",
   "name": "python3"
  },
  "language_info": {
   "codemirror_mode": {
    "name": "ipython",
    "version": 3
   },
   "file_extension": ".py",
   "mimetype": "text/x-python",
   "name": "python",
   "nbconvert_exporter": "python",
   "pygments_lexer": "ipython3",
   "version": "3.11.5"
  }
 },
 "nbformat": 4,
 "nbformat_minor": 5
}
