{
 "cells": [
  {
   "cell_type": "code",
   "execution_count": 2,
   "id": "0e903928-60dc-4741-80cf-75fce482bb52",
   "metadata": {},
   "outputs": [],
   "source": [
    "import numpy as np"
   ]
  },
  {
   "cell_type": "markdown",
   "id": "09965782-92d6-4fe3-bd48-555f1dfddc2b",
   "metadata": {},
   "source": [
    "**Insert:-**"
   ]
  },
  {
   "cell_type": "code",
   "execution_count": 4,
   "id": "3d1d4941-d312-4239-9677-d00a3f31b843",
   "metadata": {},
   "outputs": [
    {
     "name": "stdout",
     "output_type": "stream",
     "text": [
      "[1 2 3 4]\n"
     ]
    }
   ],
   "source": [
    "var = np.array([1,2,3,4])\n",
    "\n",
    "print(var)"
   ]
  },
  {
   "cell_type": "code",
   "execution_count": 6,
   "id": "4c0bbfec-6517-451d-85ed-283560f7752f",
   "metadata": {},
   "outputs": [
    {
     "name": "stdout",
     "output_type": "stream",
     "text": [
      "[ 1  2 48  3  4]\n"
     ]
    }
   ],
   "source": [
    "#insert() used to insert element at specific position in array\n",
    "'''It takes three parameters:\n",
    "    1. Name of variable in which array is stored\n",
    "    2. Position at which we wanted to insert element\n",
    "    3. The element which we wanted to insert '''\n",
    "ins = np.insert(var, 2, 48)\n",
    "print(ins)"
   ]
  },
  {
   "cell_type": "code",
   "execution_count": 8,
   "id": "65de6f00-026f-481e-a80a-04e6e8ce3705",
   "metadata": {},
   "outputs": [
    {
     "name": "stdout",
     "output_type": "stream",
     "text": [
      "[[ 1  2  3]\n",
      " [ 4  5  6]\n",
      " [48 48 48]]\n"
     ]
    }
   ],
   "source": [
    "#inserting element in 2-d array\n",
    "var1 = np.array([[1,2,3],[4,5,6]])\n",
    "\n",
    "ins1 = np.insert(var1, 2, 48, axis=0) #inserting into row axis =0\n",
    "print(ins1)\n"
   ]
  },
  {
   "cell_type": "code",
   "execution_count": 9,
   "id": "2af0099c-2dda-49e4-8b7b-1ca16cadb154",
   "metadata": {},
   "outputs": [
    {
     "name": "stdout",
     "output_type": "stream",
     "text": [
      "[[ 1  2 48  3]\n",
      " [ 4  5 48  6]]\n"
     ]
    }
   ],
   "source": [
    "var1 = np.array([[1,2,3],[4,5,6]])\n",
    "\n",
    "ins1 = np.insert(var1, 2, 48, axis=1) #inserting into column axis =1\n",
    "print(ins1)\n"
   ]
  },
  {
   "cell_type": "code",
   "execution_count": 10,
   "id": "a4631ccd-9c54-427c-9d92-83b946712466",
   "metadata": {},
   "outputs": [
    {
     "name": "stdout",
     "output_type": "stream",
     "text": [
      "[[ 1  2  3]\n",
      " [ 4  5  6]\n",
      " [ 8  9 10]]\n"
     ]
    }
   ],
   "source": [
    "var1 = np.array([[1,2,3],[4,5,6]])\n",
    "\n",
    "ins1 = np.insert(var1, 2, (8,9,10), axis=0) #we can insert multiple elemnts as well\n",
    "print(ins1)\n"
   ]
  },
  {
   "cell_type": "markdown",
   "id": "2cfeae6c-daa7-427d-be8b-1f7bea68232d",
   "metadata": {},
   "source": [
    "***append:***"
   ]
  },
  {
   "cell_type": "code",
   "execution_count": 12,
   "id": "c1d47a06-6a8c-426a-a74f-f8aad6291afb",
   "metadata": {},
   "outputs": [
    {
     "name": "stdout",
     "output_type": "stream",
     "text": [
      "[1 2 3 4 5 6]\n"
     ]
    }
   ],
   "source": [
    "#insert value in last of sequence\n",
    "var3 = np.array([1,2,3,4,5])\n",
    "\n",
    "x = np.append(var3, 6)\n",
    "print(x)"
   ]
  },
  {
   "cell_type": "code",
   "execution_count": null,
   "id": "c0bc28d0-749f-4469-9971-92eb4084eeeb",
   "metadata": {},
   "outputs": [],
   "source": []
  },
  {
   "cell_type": "markdown",
   "id": "d4afcf9e-738d-48b0-9461-5e3dfc202687",
   "metadata": {},
   "source": [
    "**Delete:-**"
   ]
  },
  {
   "cell_type": "code",
   "execution_count": 14,
   "id": "497ce7bc-4d1a-48ae-a68d-b4251f4752f0",
   "metadata": {},
   "outputs": [
    {
     "name": "stdout",
     "output_type": "stream",
     "text": [
      "[1 2 4 5]\n"
     ]
    }
   ],
   "source": [
    "#delete() used to delete an element\n",
    "#it takes two parameter: variable in which array is stored and position of element to be deleted\n",
    "arr = np.array([1,2,3,4,5])\n",
    "\n",
    "de = np.delete(arr, 2)\n",
    "print(de)"
   ]
  },
  {
   "cell_type": "code",
   "execution_count": null,
   "id": "81473ef4-8e69-4ee2-8383-70c73bb13402",
   "metadata": {},
   "outputs": [],
   "source": []
  }
 ],
 "metadata": {
  "kernelspec": {
   "display_name": "Python 3 (ipykernel)",
   "language": "python",
   "name": "python3"
  },
  "language_info": {
   "codemirror_mode": {
    "name": "ipython",
    "version": 3
   },
   "file_extension": ".py",
   "mimetype": "text/x-python",
   "name": "python",
   "nbconvert_exporter": "python",
   "pygments_lexer": "ipython3",
   "version": "3.11.5"
  }
 },
 "nbformat": 4,
 "nbformat_minor": 5
}
