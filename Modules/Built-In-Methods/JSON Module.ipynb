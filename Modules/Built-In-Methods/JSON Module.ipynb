{
 "cells": [
  {
   "cell_type": "markdown",
   "id": "e8320b10",
   "metadata": {},
   "source": [
    "### JSON Module:"
   ]
  },
  {
   "cell_type": "markdown",
   "id": "e6b26793",
   "metadata": {},
   "source": [
    "•JSON(Javascript Object Notation)\n",
    "\n",
    "•It is mainly used for storing and transferring data between the browser and the server.\n",
    "\n",
    "•JSON is text,written with Javascript Object Notation.\n",
    "\n",
    "•Python too supports JSON with a built-in-package called JSON.\n",
    "\n",
    "•Works on key-value form.\n",
    "\n",
    "•JSON supports two operation:- write(wb) and read(r)"
   ]
  },
  {
   "cell_type": "markdown",
   "id": "7e0055df",
   "metadata": {},
   "source": [
    "JSON supports mainly 6 data types:-\n",
    "    \n",
    "    •string\n",
    "    \n",
    "    •number\n",
    "    \n",
    "    •boolean\n",
    "    \n",
    "    •null\n",
    "    \n",
    "    •object\n",
    "    \n",
    "    •array\n",
    "    "
   ]
  },
  {
   "cell_type": "code",
   "execution_count": 1,
   "id": "fb18876e",
   "metadata": {},
   "outputs": [],
   "source": [
    "#import library\n",
    "import json"
   ]
  },
  {
   "cell_type": "code",
   "execution_count": 2,
   "id": "d63da3a2",
   "metadata": {},
   "outputs": [
    {
     "name": "stdout",
     "output_type": "stream",
     "text": [
      "{\"Name\": \"Python\", \"Fees\": 15000}\n"
     ]
    }
   ],
   "source": [
    "#implementation\n",
    "#dumps() is used to convert data type to JSON\n",
    "\n",
    "d = {\n",
    "    'Name':'Python',\n",
    "    'Fees':15000\n",
    "}\n",
    "\n",
    "f = json.dumps(d)\n",
    "\n",
    "print(f)"
   ]
  },
  {
   "cell_type": "code",
   "execution_count": 3,
   "id": "229e873d",
   "metadata": {},
   "outputs": [
    {
     "data": {
      "text/plain": [
       "str"
      ]
     },
     "execution_count": 3,
     "metadata": {},
     "output_type": "execute_result"
    }
   ],
   "source": [
    "#checking type after conversion\n",
    "type(f)"
   ]
  },
  {
   "cell_type": "markdown",
   "id": "099f9f5f",
   "metadata": {},
   "source": [
    "#### Converting JSON to Python Objects:"
   ]
  },
  {
   "cell_type": "code",
   "execution_count": 4,
   "id": "c9ade0c9",
   "metadata": {},
   "outputs": [
    {
     "name": "stdout",
     "output_type": "stream",
     "text": [
      "{'Name': 'Python', 'Fees': 12000, 'Duration': '2 Months'}\n"
     ]
    }
   ],
   "source": [
    "'''\n",
    "load() function is used to deserialize a JSON string or a JSON file-like \n",
    "object into a Python object. It converts a JSON-formatted string or file\n",
    "content into Python data structures like dictionaries, lists, strings, \n",
    "numbers'''\n",
    "\n",
    "d = '{\"Name\":\"Python\",\"Fees\":12000,\"Duration\":\"2 Months\"}'\n",
    "\n",
    "js = json.loads(d)\n",
    "\n",
    "print(js)\n",
    "\n"
   ]
  },
  {
   "cell_type": "code",
   "execution_count": 7,
   "id": "187f72d8",
   "metadata": {},
   "outputs": [
    {
     "name": "stdout",
     "output_type": "stream",
     "text": [
      "Name Python\n",
      "Fees 12000\n",
      "Duration 2 Months\n"
     ]
    }
   ],
   "source": [
    "for i in js:\n",
    "    print(i,js[i])"
   ]
  },
  {
   "cell_type": "markdown",
   "id": "c6919f44",
   "metadata": {},
   "source": [
    "#### Writing and Reading JSON File:"
   ]
  },
  {
   "cell_type": "code",
   "execution_count": 11,
   "id": "18c4a270",
   "metadata": {},
   "outputs": [
    {
     "ename": "FileNotFoundError",
     "evalue": "[Errno 2] No such file or directory: 'json_file'",
     "output_type": "error",
     "traceback": [
      "\u001b[1;31m---------------------------------------------------------------------------\u001b[0m",
      "\u001b[1;31mFileNotFoundError\u001b[0m                         Traceback (most recent call last)",
      "Cell \u001b[1;32mIn[11], line 3\u001b[0m\n\u001b[0;32m      1\u001b[0m \u001b[38;5;66;03m#open() is uesd to read a json file\u001b[39;00m\n\u001b[0;32m      2\u001b[0m \u001b[38;5;66;03m#r means read\u001b[39;00m\n\u001b[1;32m----> 3\u001b[0m file \u001b[38;5;241m=\u001b[39m \u001b[38;5;28mopen\u001b[39m(\u001b[38;5;124m\"\u001b[39m\u001b[38;5;124mjson_file\u001b[39m\u001b[38;5;124m\"\u001b[39m,\u001b[38;5;124m\"\u001b[39m\u001b[38;5;124mr\u001b[39m\u001b[38;5;124m\"\u001b[39m)\n\u001b[0;32m      5\u001b[0m \u001b[38;5;66;03m#reading json data\u001b[39;00m\n\u001b[0;32m      6\u001b[0m read_data \u001b[38;5;241m=\u001b[39m file\u001b[38;5;241m.\u001b[39mread()\n",
      "File \u001b[1;32m~\\anaconda3\\Lib\\site-packages\\IPython\\core\\interactiveshell.py:286\u001b[0m, in \u001b[0;36m_modified_open\u001b[1;34m(file, *args, **kwargs)\u001b[0m\n\u001b[0;32m    279\u001b[0m \u001b[38;5;28;01mif\u001b[39;00m file \u001b[38;5;129;01min\u001b[39;00m {\u001b[38;5;241m0\u001b[39m, \u001b[38;5;241m1\u001b[39m, \u001b[38;5;241m2\u001b[39m}:\n\u001b[0;32m    280\u001b[0m     \u001b[38;5;28;01mraise\u001b[39;00m \u001b[38;5;167;01mValueError\u001b[39;00m(\n\u001b[0;32m    281\u001b[0m         \u001b[38;5;124mf\u001b[39m\u001b[38;5;124m\"\u001b[39m\u001b[38;5;124mIPython won\u001b[39m\u001b[38;5;124m'\u001b[39m\u001b[38;5;124mt let you open fd=\u001b[39m\u001b[38;5;132;01m{\u001b[39;00mfile\u001b[38;5;132;01m}\u001b[39;00m\u001b[38;5;124m by default \u001b[39m\u001b[38;5;124m\"\u001b[39m\n\u001b[0;32m    282\u001b[0m         \u001b[38;5;124m\"\u001b[39m\u001b[38;5;124mas it is likely to crash IPython. If you know what you are doing, \u001b[39m\u001b[38;5;124m\"\u001b[39m\n\u001b[0;32m    283\u001b[0m         \u001b[38;5;124m\"\u001b[39m\u001b[38;5;124myou can use builtins\u001b[39m\u001b[38;5;124m'\u001b[39m\u001b[38;5;124m open.\u001b[39m\u001b[38;5;124m\"\u001b[39m\n\u001b[0;32m    284\u001b[0m     )\n\u001b[1;32m--> 286\u001b[0m \u001b[38;5;28;01mreturn\u001b[39;00m io_open(file, \u001b[38;5;241m*\u001b[39margs, \u001b[38;5;241m*\u001b[39m\u001b[38;5;241m*\u001b[39mkwargs)\n",
      "\u001b[1;31mFileNotFoundError\u001b[0m: [Errno 2] No such file or directory: 'json_file'"
     ]
    }
   ],
   "source": [
    "#open() is uesd to read a json file\n",
    "#r means read\n",
    "file = open(\"json_file\",\"r\")\n",
    "\n",
    "#reading json data\n",
    "read_data = file.read()\n",
    "\n",
    "#converting json into python data type\n",
    "final_data = json.loads(read_data)\n",
    "\n",
    "print(final_data)\n"
   ]
  },
  {
   "cell_type": "code",
   "execution_count": null,
   "id": "d6c75bba",
   "metadata": {},
   "outputs": [],
   "source": []
  }
 ],
 "metadata": {
  "kernelspec": {
   "display_name": "Python 3 (ipykernel)",
   "language": "python",
   "name": "python3"
  },
  "language_info": {
   "codemirror_mode": {
    "name": "ipython",
    "version": 3
   },
   "file_extension": ".py",
   "mimetype": "text/x-python",
   "name": "python",
   "nbconvert_exporter": "python",
   "pygments_lexer": "ipython3",
   "version": "3.11.5"
  }
 },
 "nbformat": 4,
 "nbformat_minor": 5
}
