{
 "cells": [
  {
   "cell_type": "markdown",
   "id": "19cafbe4-9317-4d67-a44d-550afe0cce49",
   "metadata": {},
   "source": [
    "**Joining Array**"
   ]
  },
  {
   "cell_type": "markdown",
   "id": "5838b89a-56b5-4cf6-9381-adcf21e7185b",
   "metadata": {},
   "source": [
    "•Joining array means adding tow or more array to form a single array.\n",
    "\n",
    "•The array with similar shape and size can only be added,we can't add two arrays if their size is different\n",
    "\n",
    "•***Ex:-*** There are two arrays given whose shape is 2x2 and 2x2,they can be added but if we have 2x3 and 2x2 then they can't be added.\n",
    "\n",
    "•We can add arays on the basis of axis also."
   ]
  },
  {
   "cell_type": "code",
   "execution_count": 1,
   "id": "81444c18-0476-4a09-8d0e-e36ab1286b8f",
   "metadata": {},
   "outputs": [],
   "source": [
    "import numpy as np"
   ]
  },
  {
   "cell_type": "code",
   "execution_count": 4,
   "id": "87e4cf4d-9829-438d-aeb2-a9218ac53bc0",
   "metadata": {},
   "outputs": [
    {
     "name": "stdout",
     "output_type": "stream",
     "text": [
      "Concatenated array is:-  [1 2 3 4 5 6 7 8]\n"
     ]
    }
   ],
   "source": [
    "#1-d array\n",
    "var = np.array([1,2,3,4])\n",
    "var1 = np.array([5,6,7,8])\n",
    "\n",
    "arr = np.concatenate((var,var1))  #concatenate() is used to join two numpy arrays\n",
    "\n",
    "print(\"Concatenated array is:- \",arr)"
   ]
  },
  {
   "cell_type": "code",
   "execution_count": 8,
   "id": "f33a5105-a3eb-4ef9-a6b0-2cadaaf81ec8",
   "metadata": {},
   "outputs": [
    {
     "name": "stdout",
     "output_type": "stream",
     "text": [
      "[[1 2]\n",
      " [3 4]]\n",
      "\n",
      "[[5 6]\n",
      " [7 8]]\n",
      "\n",
      "Concatenated array is:- \n",
      "[[1 2 5 6]\n",
      " [3 4 7 8]]\n"
     ]
    }
   ],
   "source": [
    "#2-d array\n",
    "vr = np.array([[1,2],[3,4]])\n",
    "vr1 = np.array([[5,6],[7,8]])\n",
    "\n",
    "arr1 = np.concatenate((vr,vr1), axis = 1)  #added row wise \n",
    "\n",
    "print(vr)\n",
    "\n",
    "print()\n",
    "print(vr1)\n",
    "print()\n",
    "\n",
    "print(\"Concatenated array is:- \")\n",
    "print(arr1)"
   ]
  },
  {
   "cell_type": "code",
   "execution_count": 9,
   "id": "f6eb547b-4d66-4776-b679-42e3de674a21",
   "metadata": {},
   "outputs": [
    {
     "name": "stdout",
     "output_type": "stream",
     "text": [
      "[[1 2]\n",
      " [3 4]]\n",
      "\n",
      "[[5 6]\n",
      " [7 8]]\n",
      "\n",
      "Concatenated array is:- \n",
      "[[1 2]\n",
      " [3 4]\n",
      " [5 6]\n",
      " [7 8]]\n"
     ]
    }
   ],
   "source": [
    "vr = np.array([[1,2],[3,4]])\n",
    "vr1 = np.array([[5,6],[7,8]])\n",
    "\n",
    "arr1 = np.concatenate((vr,vr1), axis = 0)  #added column wise \n",
    "\n",
    "print(vr)\n",
    "\n",
    "print()\n",
    "print(vr1)\n",
    "print()\n",
    "\n",
    "print(\"Concatenated array is:- \")\n",
    "print(arr1)"
   ]
  },
  {
   "cell_type": "markdown",
   "id": "bca810a3-8f29-4a41-bdca-e2feb516e01e",
   "metadata": {},
   "source": [
    "**stack()**"
   ]
  },
  {
   "cell_type": "code",
   "execution_count": 13,
   "id": "87a47547-4b33-4ce0-a937-82a5708af37e",
   "metadata": {},
   "outputs": [
    {
     "name": "stdout",
     "output_type": "stream",
     "text": [
      "Concatenated array is:- \n",
      "[[1 2 3 4]\n",
      " [5 6 7 8]]\n"
     ]
    }
   ],
   "source": [
    "#stack() is also used for joining arrays\n",
    "\n",
    "var_1 = np.array([1,2,3,4])\n",
    "var_2 = np.array([5,6,7,8])\n",
    "\n",
    "arr_1 = np.stack((var_1,var_2))  \n",
    "\n",
    "print(\"Concatenated array is:- \")\n",
    "print(arr_1)"
   ]
  },
  {
   "cell_type": "code",
   "execution_count": 18,
   "id": "4acf0865-3e60-4f9c-8efb-a285956c3ca0",
   "metadata": {},
   "outputs": [
    {
     "name": "stdout",
     "output_type": "stream",
     "text": [
      "Concatenated array is:- \n",
      "[[[1 5]\n",
      "  [2 6]\n",
      "  [3 7]\n",
      "  [4 8]]]\n"
     ]
    }
   ],
   "source": [
    "var_1 = np.array([1,2,3,4])\n",
    "var_2 = np.array([5,6,7,8])\n",
    "\n",
    "arr_1 = np.dstack((var_1,var_2))  #dstack join arrays along height\n",
    "\n",
    "print(\"Concatenated array is:- \")\n",
    "print(arr_1)"
   ]
  },
  {
   "cell_type": "code",
   "execution_count": 17,
   "id": "2b5a2d9c-c43f-4ffe-89be-dabd60f8381e",
   "metadata": {},
   "outputs": [
    {
     "name": "stdout",
     "output_type": "stream",
     "text": [
      "Concatenated array is:- \n",
      "[1 2 3 4 5 6 7 8]\n"
     ]
    }
   ],
   "source": [
    "var_1 = np.array([1,2,3,4])\n",
    "var_2 = np.array([5,6,7,8])\n",
    "\n",
    "arr_1 = np.hstack((var_1,var_2))  #hstack join array along rows\n",
    "\n",
    "print(\"Concatenated array is:- \")\n",
    "print(arr_1)"
   ]
  },
  {
   "cell_type": "code",
   "execution_count": 20,
   "id": "00c29c08-63ea-4c65-b706-20a63976a986",
   "metadata": {},
   "outputs": [
    {
     "name": "stdout",
     "output_type": "stream",
     "text": [
      "Concatenated array is:- \n",
      "[[1 2 3 4]\n",
      " [5 6 7 8]]\n"
     ]
    }
   ],
   "source": [
    "var_1 = np.array([1,2,3,4])\n",
    "var_2 = np.array([5,6,7,8])\n",
    "\n",
    "arr_1 = np.vstack((var_1,var_2))  #vstack join array along column\n",
    "\n",
    "print(\"Concatenated array is:- \")\n",
    "print(arr_1)"
   ]
  },
  {
   "cell_type": "code",
   "execution_count": null,
   "id": "0dba3d15-c084-4d01-9ec7-ac1f9710d67c",
   "metadata": {},
   "outputs": [],
   "source": []
  },
  {
   "cell_type": "markdown",
   "id": "a7b709c1-95b7-47d7-aba9-53db45286f3d",
   "metadata": {},
   "source": [
    "**Split Array**"
   ]
  },
  {
   "cell_type": "code",
   "execution_count": 28,
   "id": "aa268daf-330c-4029-9066-c62fa4fe7f44",
   "metadata": {},
   "outputs": [
    {
     "name": "stdout",
     "output_type": "stream",
     "text": [
      "[1, 2, 3, 4, 5, 6]\n"
     ]
    }
   ],
   "source": [
    "ar = ([1,2,3,4,5,6])\n",
    "\n",
    "print(ar)"
   ]
  },
  {
   "cell_type": "code",
   "execution_count": 30,
   "id": "88350340-abe8-4a4e-a45f-195daea355ad",
   "metadata": {},
   "outputs": [
    {
     "name": "stdout",
     "output_type": "stream",
     "text": [
      "[array([1, 2]), array([3, 4]), array([5, 6])]\n"
     ]
    }
   ],
   "source": [
    "#spliting array using array_split() function\n",
    "#we have to pass array which we want to split and in how many parts we want to split\n",
    "ar_1 = np.array_split(ar,3)  \n",
    "print(ar_1)"
   ]
  },
  {
   "cell_type": "code",
   "execution_count": 31,
   "id": "6c1fb68f-4c51-4f86-9752-84fa73397605",
   "metadata": {},
   "outputs": [
    {
     "name": "stdout",
     "output_type": "stream",
     "text": [
      "[3 4]\n"
     ]
    }
   ],
   "source": [
    "#accessing different arrays after spliting\n",
    "print(ar_1[1])"
   ]
  },
  {
   "cell_type": "code",
   "execution_count": 34,
   "id": "6bd194b4-fa7c-4286-9440-9bf19b0a31a7",
   "metadata": {},
   "outputs": [
    {
     "name": "stdout",
     "output_type": "stream",
     "text": [
      "[[1, 2, 3], [4, 5, 6], [7, 8, 9]]\n"
     ]
    }
   ],
   "source": [
    "#2-d array\n",
    "ar1 = ([[1,2,3],[4,5,6],[7,8,9]])\n",
    "print(ar1)"
   ]
  },
  {
   "cell_type": "code",
   "execution_count": 35,
   "id": "e2ee4e64-93ec-4d11-8952-811af299bd8d",
   "metadata": {},
   "outputs": [
    {
     "name": "stdout",
     "output_type": "stream",
     "text": [
      "[array([[1, 2, 3]]), array([[4, 5, 6]]), array([[7, 8, 9]])]\n"
     ]
    }
   ],
   "source": [
    "#spliting 2-d array\n",
    "ar_2 = np.array_split(ar1,3)  \n",
    "print(ar_2)"
   ]
  },
  {
   "cell_type": "code",
   "execution_count": 37,
   "id": "7607fe60-c558-41f6-a509-b221b6344790",
   "metadata": {},
   "outputs": [
    {
     "name": "stdout",
     "output_type": "stream",
     "text": [
      "[array([[1],\n",
      "       [4],\n",
      "       [7]]), array([[2],\n",
      "       [5],\n",
      "       [8]]), array([[3],\n",
      "       [6],\n",
      "       [9]])]\n"
     ]
    }
   ],
   "source": [
    "#we can aplit 2-d array along axis also\n",
    "ar_2 = np.array_split(ar1,3,axis = 1)  \n",
    "print(ar_2)"
   ]
  },
  {
   "cell_type": "code",
   "execution_count": null,
   "id": "27516104-30da-4397-a5f5-411395d14a90",
   "metadata": {},
   "outputs": [],
   "source": []
  }
 ],
 "metadata": {
  "kernelspec": {
   "display_name": "Python 3 (ipykernel)",
   "language": "python",
   "name": "python3"
  },
  "language_info": {
   "codemirror_mode": {
    "name": "ipython",
    "version": 3
   },
   "file_extension": ".py",
   "mimetype": "text/x-python",
   "name": "python",
   "nbconvert_exporter": "python",
   "pygments_lexer": "ipython3",
   "version": "3.11.5"
  }
 },
 "nbformat": 4,
 "nbformat_minor": 5
}
