{
 "cells": [
  {
   "cell_type": "markdown",
   "id": "41558c5c-048e-4c50-8e84-e703bf901b6c",
   "metadata": {},
   "source": [
    "♦Class:-\n",
    "\n",
    "•Think of a class as a blueprint or a template that defines the properties (attributes) and behaviors (methods/functions) that objects of that class will have. It's like a blueprint for creating objects. For example, if you have a class called Car, it might have attributes like model, color, year, and methods like start_engine() or drive()."
   ]
  },
  {
   "cell_type": "markdown",
   "id": "d8033f77-2669-4dfc-9c0c-a2b5cf859506",
   "metadata": {},
   "source": [
    "♦Object:-\n",
    "\n",
    "•An object is an instance of a class. It's a tangible entity created based on the blueprint defined by the class. Going back to the Car class example, an object of the Car class could be a specific car, such as a red Toyota Corolla from the year 2022. Each object created from the Car class will have its own unique set of attributes (like color, model, year) and can perform actions defined by the class methods (like starting the engine or driving).\n",
    "\n",
    "\n",
    "•In object-oriented programming, an instance refers to a specific realization or occurrence of a class—a particular object created based on that class's blueprint. When you create an object using a class, you're creating an instance of that class.\n",
    "\n",
    "\n",
    "•So, when we say \"instance,\" it refers to a specific object that has been created based on a class, possessing its own unique set of attributes and behaviors as defined by that class."
   ]
  },
  {
   "cell_type": "markdown",
   "id": "84fe44f3-83e7-43d5-bf0b-727e497776d8",
   "metadata": {},
   "source": [
    "♦Constructor:-\n",
    "\n",
    "\r",
    "•\n",
    "In Python, a constructor is a special method used to initialize, or set up, an object when it is created from a class. It's typically named __init__().\r",
    "•\n",
    "\r\n",
    "Imagine a class as a blueprint for creating objects. When you make an object from that blueprint, the constructor helps prepare that object by setting initial values for its attributes or performing any necessary setup."
   ]
  },
  {
   "cell_type": "code",
   "execution_count": 14,
   "id": "f53110fa-4f74-4c0b-ac53-e69545cc182d",
   "metadata": {},
   "outputs": [
    {
     "name": "stdout",
     "output_type": "stream",
     "text": [
      "10\n",
      "10\n"
     ]
    }
   ],
   "source": [
    "#Creating class using class keyword\n",
    "class demo:\n",
    "    a = 10\n",
    "\n",
    "#creating object for class\n",
    "demo_obj = demo()\n",
    "demo_obj1 = demo()    #we can create multiple objects of same class\n",
    "\n",
    "#printing variable of class\n",
    "print(demo_obj.a)\n",
    "print(demo_obj1.a)"
   ]
  },
  {
   "cell_type": "code",
   "execution_count": 20,
   "id": "77fbb1c5-f38f-472b-afb5-b674cc4a3b32",
   "metadata": {},
   "outputs": [
    {
     "name": "stdout",
     "output_type": "stream",
     "text": [
      "100\n",
      "Welcome to Oops\n"
     ]
    }
   ],
   "source": [
    "#using methods within class\n",
    "#whenever we create method within class we have to pass one argument\n",
    "class ob:\n",
    "    a = 10\n",
    "    def showvalue(self):\n",
    "        self.c = self.a*self.a\n",
    "        print(self.c)\n",
    "\n",
    "    def showvalue1(self):\n",
    "        print(\"Welcome to Oops\")\n",
    "\n",
    "#creating object for the class\n",
    "obj = ob()\n",
    "\n",
    "#calling methods of class using object\n",
    "obj.showvalue()\n",
    "obj.showvalue1()\n",
    "    "
   ]
  },
  {
   "cell_type": "code",
   "execution_count": 23,
   "id": "60f33a43-6ee4-44c0-b563-9773eeab3e0b",
   "metadata": {},
   "outputs": [
    {
     "name": "stdout",
     "output_type": "stream",
     "text": [
      "Hello World!\n",
      "100\n",
      "Welcome to Oops\n"
     ]
    }
   ],
   "source": [
    "#implementation of constructor\n",
    "class ob:\n",
    "    a = 10\n",
    "\n",
    "    #creating constructor\n",
    "    #Constructor automatically called\n",
    "    def __init__(self):\n",
    "        print(\"Hello World!\")\n",
    "        \n",
    "    def showvalue(self):\n",
    "        self.c = self.a*self.a\n",
    "        print(self.c)\n",
    "\n",
    "    def showvalue1(self):\n",
    "        print(\"Welcome to Oops\")\n",
    "\n",
    "#creating object for the class\n",
    "obj = ob()\n",
    "\n",
    "#calling methods of class using object\n",
    "obj.showvalue()\n",
    "obj.showvalue1()"
   ]
  },
  {
   "cell_type": "code",
   "execution_count": null,
   "id": "f1ba1e30-1a81-4961-8184-a2dfadf3b9c0",
   "metadata": {},
   "outputs": [],
   "source": []
  }
 ],
 "metadata": {
  "kernelspec": {
   "display_name": "Python 3 (ipykernel)",
   "language": "python",
   "name": "python3"
  },
  "language_info": {
   "codemirror_mode": {
    "name": "ipython",
    "version": 3
   },
   "file_extension": ".py",
   "mimetype": "text/x-python",
   "name": "python",
   "nbconvert_exporter": "python",
   "pygments_lexer": "ipython3",
   "version": "3.11.5"
  }
 },
 "nbformat": 4,
 "nbformat_minor": 5
}
