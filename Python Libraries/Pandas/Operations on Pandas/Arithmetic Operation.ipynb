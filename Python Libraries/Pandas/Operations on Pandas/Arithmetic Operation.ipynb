{
 "cells": [
  {
   "cell_type": "code",
   "execution_count": 1,
   "id": "45308501-0afc-44ac-b928-35c6dfa35456",
   "metadata": {},
   "outputs": [],
   "source": [
    "import pandas as pd"
   ]
  },
  {
   "cell_type": "code",
   "execution_count": 2,
   "id": "0501d4ee-728c-4836-8953-4ea11f9325da",
   "metadata": {},
   "outputs": [
    {
     "name": "stdout",
     "output_type": "stream",
     "text": [
      "   A  B\n",
      "0  1  5\n",
      "1  2  6\n",
      "2  3  7\n",
      "3  4  8\n"
     ]
    }
   ],
   "source": [
    "var = pd.DataFrame({\"A\":[1,2,3,4],\"B\":[5,6,7,8]})\n",
    "print(var)"
   ]
  },
  {
   "cell_type": "markdown",
   "id": "ac3bcd49-388f-447f-8d38-0e27f136f00e",
   "metadata": {},
   "source": [
    "***addition***"
   ]
  },
  {
   "cell_type": "code",
   "execution_count": 3,
   "id": "1a83dc7a-5487-47b6-a0e3-b9f04ad36a12",
   "metadata": {},
   "outputs": [
    {
     "name": "stdout",
     "output_type": "stream",
     "text": [
      "   A  B   C\n",
      "0  1  5   6\n",
      "1  2  6   8\n",
      "2  3  7  10\n",
      "3  4  8  12\n"
     ]
    }
   ],
   "source": [
    "var[\"C\"] = var[\"A\"]+var[\"B\"]\n",
    "print(var)"
   ]
  },
  {
   "cell_type": "markdown",
   "id": "fbaa7408-3974-4b5c-a64b-22aebb729a0b",
   "metadata": {},
   "source": [
    "***subtraction***"
   ]
  },
  {
   "cell_type": "code",
   "execution_count": 4,
   "id": "6d69658c-f165-4e8d-b8ed-2e8b674ea476",
   "metadata": {},
   "outputs": [
    {
     "name": "stdout",
     "output_type": "stream",
     "text": [
      "   A  B  C\n",
      "0  1  5 -4\n",
      "1  2  6 -4\n",
      "2  3  7 -4\n",
      "3  4  8 -4\n"
     ]
    }
   ],
   "source": [
    "var[\"C\"] = var[\"A\"]-var[\"B\"]\n",
    "print(var)"
   ]
  },
  {
   "cell_type": "markdown",
   "id": "3a3a0f2d-f02b-4c4d-8870-70a83309cca9",
   "metadata": {},
   "source": [
    "***multiplication***"
   ]
  },
  {
   "cell_type": "code",
   "execution_count": 5,
   "id": "5e154365-a480-4da1-bfa1-aef1c0da2901",
   "metadata": {},
   "outputs": [
    {
     "name": "stdout",
     "output_type": "stream",
     "text": [
      "   A  B   C\n",
      "0  1  5   5\n",
      "1  2  6  12\n",
      "2  3  7  21\n",
      "3  4  8  32\n"
     ]
    }
   ],
   "source": [
    "var[\"C\"] = var[\"A\"]*var[\"B\"]\n",
    "print(var)"
   ]
  },
  {
   "cell_type": "markdown",
   "id": "30263711-99b6-4ecf-a283-91689dfd88a4",
   "metadata": {},
   "source": [
    "***division***"
   ]
  },
  {
   "cell_type": "code",
   "execution_count": 7,
   "id": "596c18be-53f0-4ceb-bb27-dfcc849e55ad",
   "metadata": {},
   "outputs": [
    {
     "name": "stdout",
     "output_type": "stream",
     "text": [
      "   A  B  C\n",
      "0  1  5  1\n",
      "1  2  6  2\n",
      "2  3  7  3\n",
      "3  4  8  4\n"
     ]
    }
   ],
   "source": [
    "var[\"C\"] = var[\"A\"]%var[\"B\"]\n",
    "print(var)"
   ]
  },
  {
   "cell_type": "markdown",
   "id": "2b3f162c-3605-4261-90f9-33f13a4a65a8",
   "metadata": {},
   "source": [
    "**Specifying conditions for data**"
   ]
  },
  {
   "cell_type": "code",
   "execution_count": 8,
   "id": "1bd4750c-60a9-4001-b55e-159737134960",
   "metadata": {},
   "outputs": [
    {
     "name": "stdout",
     "output_type": "stream",
     "text": [
      "    A   B\n",
      "0  10  50\n",
      "1  20  60\n",
      "2  30  70\n",
      "3  40  80\n"
     ]
    }
   ],
   "source": [
    "var1 = pd.DataFrame({\"A\":[10,20,30,40],\"B\":[50,60,70,80]})\n",
    "print(var1)"
   ]
  },
  {
   "cell_type": "code",
   "execution_count": 9,
   "id": "6f878f25-ef04-424b-b0e6-bc8daa979760",
   "metadata": {},
   "outputs": [
    {
     "name": "stdout",
     "output_type": "stream",
     "text": [
      "    A   B  Python\n",
      "0  10  50    True\n",
      "1  20  60    True\n",
      "2  30  70   False\n",
      "3  40  80   False\n"
     ]
    }
   ],
   "source": [
    "var1[\"Python\"] = var1[\"A\"] <= 20\n",
    "print(var1)"
   ]
  },
  {
   "cell_type": "code",
   "execution_count": 10,
   "id": "bcb982bb-3b72-4ac1-9064-c99ebf19f523",
   "metadata": {},
   "outputs": [
    {
     "name": "stdout",
     "output_type": "stream",
     "text": [
      "    A   B  Python  Python_\n",
      "0  10  50    True    False\n",
      "1  20  60    True     True\n",
      "2  30  70   False     True\n",
      "3  40  80   False     True\n"
     ]
    }
   ],
   "source": [
    "var1[\"Python_\"] = var1[\"A\"] >= 16\n",
    "print(var1)"
   ]
  },
  {
   "cell_type": "code",
   "execution_count": null,
   "id": "48bc30c3-b0d9-42fd-b8d3-f905801ed86a",
   "metadata": {},
   "outputs": [],
   "source": []
  }
 ],
 "metadata": {
  "kernelspec": {
   "display_name": "Python 3 (ipykernel)",
   "language": "python",
   "name": "python3"
  },
  "language_info": {
   "codemirror_mode": {
    "name": "ipython",
    "version": 3
   },
   "file_extension": ".py",
   "mimetype": "text/x-python",
   "name": "python",
   "nbconvert_exporter": "python",
   "pygments_lexer": "ipython3",
   "version": "3.11.5"
  }
 },
 "nbformat": 4,
 "nbformat_minor": 5
}
