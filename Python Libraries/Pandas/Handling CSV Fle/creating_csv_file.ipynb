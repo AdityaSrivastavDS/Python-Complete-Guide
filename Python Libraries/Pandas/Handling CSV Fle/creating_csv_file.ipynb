{
 "cells": [
  {
   "cell_type": "code",
   "execution_count": 1,
   "id": "f1b6a5c0-48f7-4719-ba19-bb6909adad2d",
   "metadata": {},
   "outputs": [],
   "source": [
    "import pandas as pd"
   ]
  },
  {
   "cell_type": "markdown",
   "id": "d89b0c00-1ad8-43c7-893c-cb1080904e69",
   "metadata": {},
   "source": [
    "**Write CSV**"
   ]
  },
  {
   "cell_type": "code",
   "execution_count": 4,
   "id": "36539774-14a5-42c8-86ed-c8e95a8f7009",
   "metadata": {},
   "outputs": [
    {
     "name": "stdout",
     "output_type": "stream",
     "text": [
      "   A  B  C  D\n",
      "0  1  1  1  1\n",
      "1  2  2  2  2\n",
      "2  3  3  3  3\n",
      "3  4  4  4  4\n",
      "4  5  5  5  5\n",
      "5  6  6  6  6\n"
     ]
    }
   ],
   "source": [
    "#creating DataFrame for CSV File\n",
    "dic = {\"A\":[1,2,3,4,5,6],\"B\":[1,2,3,4,5,6],\"C\":[1,2,3,4,5,6],\"D\":[1,2,3,4,5,6]}\n",
    "\n",
    "data = pd.DataFrame(dic)\n",
    "\n",
    "print(data)"
   ]
  },
  {
   "cell_type": "code",
   "execution_count": 6,
   "id": "aaff06d4-8d02-46a5-bbf9-f323a1000489",
   "metadata": {},
   "outputs": [],
   "source": [
    "#creating csv file\n",
    "#using to_csv() function\n",
    "#takes name of csv file name as parameter\n",
    "\n",
    "data.to_csv(\"Numbers\")"
   ]
  },
  {
   "cell_type": "code",
   "execution_count": 7,
   "id": "426e8aa4-5332-490f-8560-544ee6ab6a3f",
   "metadata": {},
   "outputs": [],
   "source": [
    "#removing index from csv file\n",
    "data.to_csv(\"Numbers1\", index=False)"
   ]
  },
  {
   "cell_type": "code",
   "execution_count": 9,
   "id": "b2d0e424-275f-4008-8ea2-13255d8d205f",
   "metadata": {},
   "outputs": [],
   "source": [
    "#chaning head of  csv file\n",
    "data.to_csv(\"Numbers2\", index=False, header=[\"a\",\"b\",\"c\",\"d\"])"
   ]
  },
  {
   "cell_type": "code",
   "execution_count": null,
   "id": "0a5aa729-a957-4fb4-a128-e7e5d1552009",
   "metadata": {},
   "outputs": [],
   "source": []
  }
 ],
 "metadata": {
  "kernelspec": {
   "display_name": "Python 3 (ipykernel)",
   "language": "python",
   "name": "python3"
  },
  "language_info": {
   "codemirror_mode": {
    "name": "ipython",
    "version": 3
   },
   "file_extension": ".py",
   "mimetype": "text/x-python",
   "name": "python",
   "nbconvert_exporter": "python",
   "pygments_lexer": "ipython3",
   "version": "3.11.5"
  }
 },
 "nbformat": 4,
 "nbformat_minor": 5
}
