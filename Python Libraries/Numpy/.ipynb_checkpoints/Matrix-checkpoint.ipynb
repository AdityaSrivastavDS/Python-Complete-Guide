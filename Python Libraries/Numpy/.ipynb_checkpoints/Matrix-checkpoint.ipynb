{
 "cells": [
  {
   "cell_type": "code",
   "execution_count": 1,
   "id": "2434a366-832e-4c10-b72b-26d08f03ca1a",
   "metadata": {},
   "outputs": [],
   "source": [
    "import numpy as np"
   ]
  },
  {
   "cell_type": "code",
   "execution_count": 4,
   "id": "0a11c92b-c2ec-45d4-8ca4-811da97ac700",
   "metadata": {},
   "outputs": [
    {
     "name": "stdout",
     "output_type": "stream",
     "text": [
      "[[1 2 3 4]\n",
      " [5 6 7 8]]\n",
      "<class 'numpy.matrix'>\n"
     ]
    }
   ],
   "source": [
    "arr = np.matrix([[1,2,3,4],[5,6,7,8]])\n",
    "\n",
    "print(arr)\n",
    "print(type(arr))"
   ]
  },
  {
   "cell_type": "code",
   "execution_count": 5,
   "id": "5d944ddb-0e93-4b61-8660-5ef229b40296",
   "metadata": {},
   "outputs": [
    {
     "name": "stdout",
     "output_type": "stream",
     "text": [
      "[[1 2 3 4]\n",
      " [5 6 7 8]]\n",
      "<class 'numpy.ndarray'>\n"
     ]
    }
   ],
   "source": [
    "arr1 = np.array([[1,2,3,4],[5,6,7,8]])\n",
    "\n",
    "print(arr1)\n",
    "print(type(arr1))"
   ]
  },
  {
   "cell_type": "markdown",
   "id": "6a7cded5-5a76-4549-9d01-39f1a0c25a5b",
   "metadata": {},
   "source": [
    "**Arithmetic Operation on Matrix:-**"
   ]
  },
  {
   "cell_type": "markdown",
   "id": "135de773-6b19-4a2f-ba4c-8ade0e589f13",
   "metadata": {},
   "source": [
    "***addition***"
   ]
  },
  {
   "cell_type": "code",
   "execution_count": 7,
   "id": "7e8b8de8-9556-4c9c-894d-4d12675d30d3",
   "metadata": {},
   "outputs": [
    {
     "name": "stdout",
     "output_type": "stream",
     "text": [
      "[[1 2 3 4]\n",
      " [5 6 7 8]]\n",
      "\n",
      "[[ 5  5  5  5]\n",
      " [12 14 16 14]]\n"
     ]
    }
   ],
   "source": [
    "arr = np.matrix([[1,2,3,4],[5,6,7,8]])\n",
    "arr2 = np.matrix([[4,3,2,1],[7,8,9,6]])\n",
    "\n",
    "print(arr)\n",
    "print()\n",
    "print(arr+arr2)"
   ]
  },
  {
   "cell_type": "markdown",
   "id": "fdd357b7-b564-4261-88f9-5a45570d5963",
   "metadata": {},
   "source": [
    "***multiplication***"
   ]
  },
  {
   "cell_type": "code",
   "execution_count": 13,
   "id": "8bceb399-379d-4503-ac75-87583fc12768",
   "metadata": {},
   "outputs": [
    {
     "name": "stdout",
     "output_type": "stream",
     "text": [
      "Product of two matrix: \n",
      "[[25 30]\n",
      " [69 78]]\n"
     ]
    }
   ],
   "source": [
    "#for multiplying two matrices we use dot() function \n",
    "#first way\n",
    "arr = np.matrix([[1,3],[5,7]])\n",
    "arr2 = np.matrix([[4,3],[7,9]])\n",
    "\n",
    "print(\"Product of two matrix: \")\n",
    "print(arr.dot(arr2))"
   ]
  },
  {
   "cell_type": "code",
   "execution_count": 14,
   "id": "b4a077bf-99cc-4165-be17-d11bf3b91e88",
   "metadata": {},
   "outputs": [
    {
     "name": "stdout",
     "output_type": "stream",
     "text": [
      "[[25 30]\n",
      " [69 78]]\n"
     ]
    }
   ],
   "source": [
    "#second way\n",
    "print(arr*arr2)"
   ]
  },
  {
   "cell_type": "code",
   "execution_count": null,
   "id": "ee1d86fe-df5d-4498-9c3d-bc2466b17e89",
   "metadata": {},
   "outputs": [],
   "source": []
  },
  {
   "cell_type": "markdown",
   "id": "8b9f921d-9b19-4000-986c-b5b2aa941b14",
   "metadata": {},
   "source": [
    "**Functions of Numpy Matrix:-**"
   ]
  },
  {
   "cell_type": "markdown",
   "id": "2acd2111-2c9c-4175-bc01-e2d0bd7bcd50",
   "metadata": {},
   "source": [
    "***transpose***\n",
    "\n",
    "•Column becomes row and row becomes column\n"
   ]
  },
  {
   "cell_type": "code",
   "execution_count": 16,
   "id": "b750858f-bf54-46da-a827-39420a40ac2f",
   "metadata": {},
   "outputs": [
    {
     "name": "stdout",
     "output_type": "stream",
     "text": [
      "[[1 2 3]\n",
      " [5 6 7]]\n",
      "\n",
      "Transpose matrix:\n",
      "[[1 5]\n",
      " [2 6]\n",
      " [3 7]]\n"
     ]
    }
   ],
   "source": [
    "#first way\n",
    "mtr = np.matrix([[1,2,3],[5,6,7]])\n",
    "print(mtr)\n",
    "\n",
    "print()\n",
    "\n",
    "print(\"Transpose matrix:\")\n",
    "print(np.transpose(mtr))"
   ]
  },
  {
   "cell_type": "code",
   "execution_count": 17,
   "id": "8a1d282a-e4d2-422f-9518-e66347dfdf7c",
   "metadata": {},
   "outputs": [
    {
     "name": "stdout",
     "output_type": "stream",
     "text": [
      "[[1 5]\n",
      " [2 6]\n",
      " [3 7]]\n"
     ]
    }
   ],
   "source": [
    "#second way\n",
    "print(mtr.T)"
   ]
  },
  {
   "cell_type": "markdown",
   "id": "1d14cf41-34e3-44f9-bc48-f428755dec61",
   "metadata": {},
   "source": [
    "***swipaxes***\n",
    "\n",
    "•used to swap the axes of matrix"
   ]
  },
  {
   "cell_type": "code",
   "execution_count": 20,
   "id": "99f92605-e7b2-4ae3-8b7a-3a05f5397cc6",
   "metadata": {},
   "outputs": [
    {
     "name": "stdout",
     "output_type": "stream",
     "text": [
      "[[1 5]\n",
      " [2 6]\n",
      " [3 7]]\n"
     ]
    }
   ],
   "source": [
    "mtr1 = np.matrix([[1,2,3],[5,6,7]])\n",
    "print(np.swapaxes(mtr1,0,1))"
   ]
  },
  {
   "cell_type": "markdown",
   "id": "48d312b2-93a4-4c6f-8d3d-70202527cb42",
   "metadata": {},
   "source": [
    "***inverse***\n",
    "\n",
    "•"
   ]
  },
  {
   "cell_type": "code",
   "execution_count": 22,
   "id": "cdf03e1a-649e-482b-a442-891d2373735f",
   "metadata": {},
   "outputs": [
    {
     "name": "stdout",
     "output_type": "stream",
     "text": [
      "[[-1.5   0.5 ]\n",
      " [ 1.25 -0.25]]\n"
     ]
    }
   ],
   "source": [
    "mtr2 = np.matrix([[1,2],[5,6]])\n",
    "print(np.linalg.inv(mtr2))"
   ]
  },
  {
   "cell_type": "markdown",
   "id": "86fd6ec6-8dcb-4404-ba3d-cb848a0d9600",
   "metadata": {},
   "source": [
    "***power***"
   ]
  },
  {
   "cell_type": "code",
   "execution_count": 23,
   "id": "f1a7c5f2-c557-41d0-b836-a4cb0fb68f96",
   "metadata": {},
   "outputs": [
    {
     "name": "stdout",
     "output_type": "stream",
     "text": [
      "[[1 2]\n",
      " [5 6]]\n",
      "\n",
      "[[11 14]\n",
      " [35 46]]\n",
      "\n"
     ]
    }
   ],
   "source": [
    "mtr3 = np.matrix([[1,2],[5,6]])\n",
    "print(mtr3)\n",
    "\n",
    "print()\n",
    "\n",
    "print(np.linalg.matrix_power(mtr3, 2))\n",
    "print()"
   ]
  },
  {
   "cell_type": "code",
   "execution_count": 26,
   "id": "3d70cb80-0820-4b3f-baf1-9b19d5d5e14f",
   "metadata": {},
   "outputs": [
    {
     "name": "stdout",
     "output_type": "stream",
     "text": [
      "[[1 0]\n",
      " [0 1]]\n",
      "\n"
     ]
    }
   ],
   "source": [
    "print(np.linalg.matrix_power(mtr3, 0)) #we will get an identity matrix\n",
    "print()"
   ]
  },
  {
   "cell_type": "code",
   "execution_count": 27,
   "id": "ed16ef62-cb39-48d5-a59b-cf6c1bda77d3",
   "metadata": {},
   "outputs": [
    {
     "name": "stdout",
     "output_type": "stream",
     "text": [
      "[[ 2.875  -0.875 ]\n",
      " [-2.1875  0.6875]]\n",
      "\n"
     ]
    }
   ],
   "source": [
    "print(np.linalg.matrix_power(mtr3, -2))\n",
    "print()"
   ]
  },
  {
   "cell_type": "markdown",
   "id": "868fb67e-a873-45b8-a221-7ef446382250",
   "metadata": {},
   "source": [
    "***determinant***"
   ]
  },
  {
   "cell_type": "code",
   "execution_count": 30,
   "id": "43a3e15a-bbe2-49c5-b5b2-0f11231aefaf",
   "metadata": {},
   "outputs": [
    {
     "name": "stdout",
     "output_type": "stream",
     "text": [
      "[[1 2]\n",
      " [5 6]]\n",
      "\n",
      "-3.999999999999999\n",
      "\n"
     ]
    }
   ],
   "source": [
    "#The determinant is defined only for square matrices, meaning matrices that have the same number of rows and columns.\n",
    "mtr4 = np.matrix([[1,2],[5,6]])\n",
    "print(mtr4)\n",
    "\n",
    "print()\n",
    "\n",
    "print(np.linalg.det(mtr4))\n",
    "print()"
   ]
  },
  {
   "cell_type": "code",
   "execution_count": null,
   "id": "16eaef7e-f087-434d-981a-f27cb639e3c9",
   "metadata": {},
   "outputs": [],
   "source": []
  }
 ],
 "metadata": {
  "kernelspec": {
   "display_name": "Python 3 (ipykernel)",
   "language": "python",
   "name": "python3"
  },
  "language_info": {
   "codemirror_mode": {
    "name": "ipython",
    "version": 3
   },
   "file_extension": ".py",
   "mimetype": "text/x-python",
   "name": "python",
   "nbconvert_exporter": "python",
   "pygments_lexer": "ipython3",
   "version": "3.11.5"
  }
 },
 "nbformat": 4,
 "nbformat_minor": 5
}
