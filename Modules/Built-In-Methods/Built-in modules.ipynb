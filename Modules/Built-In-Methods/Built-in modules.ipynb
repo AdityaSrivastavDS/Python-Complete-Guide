{
 "cells": [
  {
   "cell_type": "markdown",
   "id": "1a9a5185",
   "metadata": {},
   "source": [
    "# Modules:"
   ]
  },
  {
   "cell_type": "markdown",
   "id": "daee82ca",
   "metadata": {},
   "source": [
    "•A module is a file containing Python definitions and statements.\n",
    "\n",
    "•The file name is the module name with the suffix .py added.\n",
    "\n",
    "•Modules allow you to organize your Python code into reusable files, making it easier to manage and maintain large codebases."
   ]
  },
  {
   "cell_type": "markdown",
   "id": "db7a62bf",
   "metadata": {},
   "source": [
    "### User defined modules:"
   ]
  },
  {
   "cell_type": "markdown",
   "id": "dcd6e4dc",
   "metadata": {},
   "source": [
    "•A user-defined module in Python is a module that you create yourself to organize and encapsulate related pieces of code.\n",
    "\n",
    "•It allows you to structure your program into separate files, each containing functions, classes, or variables that serve a specific purpose.\n",
    "\n",
    "•These modules can then be imported and used in other Python scripts or modules."
   ]
  },
  {
   "cell_type": "markdown",
   "id": "02999df6",
   "metadata": {},
   "source": [
    "### Predefined Modules:"
   ]
  },
  {
   "cell_type": "markdown",
   "id": "b6913c4c",
   "metadata": {},
   "source": [
    "•Pre-defined modules are modules that are part of the Python Standard Library.\n",
    "\n",
    "•The Python Standard Library is a collection of modules and packages that come with the Python programming language.\n",
    "\n",
    "•These modules provide a wide range of functionalities, making it easier for developers to perform common tasks without having to write code from scratch."
   ]
  },
  {
   "cell_type": "code",
   "execution_count": 16,
   "id": "816acd45",
   "metadata": {},
   "outputs": [
    {
     "name": "stdout",
     "output_type": "stream",
     "text": [
      "{\"name\": \"John\", \"age\": 30, \"city\": \"New York\"}\n"
     ]
    }
   ],
   "source": [
    "#allow encoding and decoding of JSON\n",
    "#We use json.dumps() to convert the Python dictionary into a JSON-formatted string.\n",
    "import json\n",
    "\n",
    "data = {\"name\": \"John\", \"age\": 30, \"city\": \"New York\"}\n",
    "json_string = json.dumps(data)\n",
    "print(json_string)\n"
   ]
  },
  {
   "cell_type": "code",
   "execution_count": 17,
   "id": "848f4c3e",
   "metadata": {},
   "outputs": [
    {
     "data": {
      "text/plain": [
       "6"
      ]
     },
     "execution_count": 17,
     "metadata": {},
     "output_type": "execute_result"
    }
   ],
   "source": [
    "#contains statistical tools\n",
    "from statistics import median\n",
    "m = [2,8,9,3,6]\n",
    "median(m)"
   ]
  }
 ],
 "metadata": {
  "kernelspec": {
   "display_name": "Python 3 (ipykernel)",
   "language": "python",
   "name": "python3"
  },
  "language_info": {
   "codemirror_mode": {
    "name": "ipython",
    "version": 3
   },
   "file_extension": ".py",
   "mimetype": "text/x-python",
   "name": "python",
   "nbconvert_exporter": "python",
   "pygments_lexer": "ipython3",
   "version": "3.11.5"
  }
 },
 "nbformat": 4,
 "nbformat_minor": 5
}
