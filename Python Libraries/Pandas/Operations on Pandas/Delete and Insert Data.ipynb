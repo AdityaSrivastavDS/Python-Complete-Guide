{
 "cells": [
  {
   "cell_type": "code",
   "execution_count": 1,
   "id": "9d77f68c-7b1c-491e-9e5a-d2d8cf774cf6",
   "metadata": {},
   "outputs": [],
   "source": [
    "import pandas as pd"
   ]
  },
  {
   "cell_type": "markdown",
   "id": "828332b8-3dd6-4a69-8c20-4f9b0398442e",
   "metadata": {},
   "source": [
    "**Insert**"
   ]
  },
  {
   "cell_type": "code",
   "execution_count": 2,
   "id": "63b862e4-5921-4baf-b220-4d10ad76d160",
   "metadata": {},
   "outputs": [
    {
     "name": "stdout",
     "output_type": "stream",
     "text": [
      "   A  B\n",
      "0  1  9\n",
      "1  2  8\n",
      "2  3  7\n",
      "3  4  6\n",
      "4  5  5\n"
     ]
    }
   ],
   "source": [
    "var = pd.DataFrame({\"A\":[1,2,3,4,5],\"B\":[9,8,7,6,5]})\n",
    "print(var)"
   ]
  },
  {
   "cell_type": "code",
   "execution_count": 3,
   "id": "286634dd-02d6-4bfd-b7c9-58c340d6001b",
   "metadata": {},
   "outputs": [
    {
     "name": "stdout",
     "output_type": "stream",
     "text": [
      "   A  Python_  B\n",
      "0  1        1  9\n",
      "1  2        2  8\n",
      "2  3        3  7\n",
      "3  4        4  6\n",
      "4  5        5  5\n"
     ]
    }
   ],
   "source": [
    "#using insert function\n",
    "'''It takes three parameters\n",
    "     1.Index at which we wanted to insert\n",
    "     2.New column\n",
    "     3.Which data to insert'''\n",
    "\n",
    "var.insert(1,\"Python_\",var[\"A\"])\n",
    "print(var)"
   ]
  },
  {
   "cell_type": "code",
   "execution_count": 5,
   "id": "d9ca3ec4-4a14-4c0a-86ae-87545bb95a0b",
   "metadata": {},
   "outputs": [
    {
     "name": "stdout",
     "output_type": "stream",
     "text": [
      "   A  Python1  Python_  B\n",
      "0  1       11        1  9\n",
      "1  2       12        2  8\n",
      "2  3       13        3  7\n",
      "3  4       14        4  6\n",
      "4  5       15        5  5\n"
     ]
    }
   ],
   "source": [
    "\n",
    "var.insert(1,\"Python1\",[11,12,13,14,15])\n",
    "print(var)"
   ]
  },
  {
   "cell_type": "markdown",
   "id": "531e9d6a-0ba2-4797-9e4a-e1e9ef3d7a06",
   "metadata": {},
   "source": [
    "**Copying limited amount of Data**"
   ]
  },
  {
   "cell_type": "code",
   "execution_count": 6,
   "id": "99b81623-3b34-4b0b-a721-f5381d62d0ad",
   "metadata": {},
   "outputs": [
    {
     "name": "stdout",
     "output_type": "stream",
     "text": [
      "   A  B\n",
      "0  1  9\n",
      "1  2  8\n",
      "2  3  7\n",
      "3  4  6\n",
      "4  5  5\n"
     ]
    }
   ],
   "source": [
    "var1 = pd.DataFrame({\"A\":[1,2,3,4,5],\"B\":[9,8,7,6,5]})\n",
    "print(var1)"
   ]
  },
  {
   "cell_type": "code",
   "execution_count": 7,
   "id": "6a6c66f0-3dc4-4757-ab51-ac0d5d0000bf",
   "metadata": {},
   "outputs": [
    {
     "name": "stdout",
     "output_type": "stream",
     "text": [
      "   A  B   Py\n",
      "0  1  9  1.0\n",
      "1  2  8  2.0\n",
      "2  3  7  3.0\n",
      "3  4  6  NaN\n",
      "4  5  5  NaN\n"
     ]
    }
   ],
   "source": [
    "var1[\"Py\"] = var1[\"A\"][0:3]    #using slicing to select specific data\n",
    "print(var1)\n"
   ]
  },
  {
   "cell_type": "markdown",
   "id": "256d2845-2235-43f2-acec-0df66b5ca11c",
   "metadata": {},
   "source": [
    "**Delete**"
   ]
  },
  {
   "cell_type": "code",
   "execution_count": 8,
   "id": "de63514e-728b-4935-8fae-a8beb21b809f",
   "metadata": {},
   "outputs": [
    {
     "name": "stdout",
     "output_type": "stream",
     "text": [
      "   A  B\n",
      "0  1  9\n",
      "1  2  8\n",
      "2  3  7\n",
      "3  4  6\n",
      "4  5  5\n"
     ]
    }
   ],
   "source": [
    "var1.pop(\"Py\")\n",
    "print(var1)"
   ]
  },
  {
   "cell_type": "code",
   "execution_count": 9,
   "id": "750f2520-bc57-4aa1-92ad-a30c4d80f5c7",
   "metadata": {},
   "outputs": [
    {
     "name": "stdout",
     "output_type": "stream",
     "text": [
      "   A\n",
      "0  1\n",
      "1  2\n",
      "2  3\n",
      "3  4\n",
      "4  5\n"
     ]
    }
   ],
   "source": [
    "del var1[\"B\"]\n",
    "print(var1)"
   ]
  },
  {
   "cell_type": "code",
   "execution_count": null,
   "id": "bee6176c-3847-4eb1-853d-791e5f5ca21c",
   "metadata": {},
   "outputs": [],
   "source": []
  }
 ],
 "metadata": {
  "kernelspec": {
   "display_name": "Python 3 (ipykernel)",
   "language": "python",
   "name": "python3"
  },
  "language_info": {
   "codemirror_mode": {
    "name": "ipython",
    "version": 3
   },
   "file_extension": ".py",
   "mimetype": "text/x-python",
   "name": "python",
   "nbconvert_exporter": "python",
   "pygments_lexer": "ipython3",
   "version": "3.11.5"
  }
 },
 "nbformat": 4,
 "nbformat_minor": 5
}
