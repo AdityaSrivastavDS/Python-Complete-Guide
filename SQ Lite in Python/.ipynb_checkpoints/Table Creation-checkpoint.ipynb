{
 "cells": [
  {
   "cell_type": "code",
   "execution_count": 1,
   "id": "e19711bd-ecac-4be2-b009-b7cbbdc0334f",
   "metadata": {},
   "outputs": [],
   "source": [
    "#sqlite3 is a library that is used to create database in python\n",
    "import sqlite3"
   ]
  },
  {
   "cell_type": "code",
   "execution_count": 3,
   "id": "829818f1-ab30-49e2-96f5-43a4db33cbb8",
   "metadata": {},
   "outputs": [],
   "source": [
    "#sqlite3.connect() function is used to create a database file\n",
    "#It automatically get connected to that db file\n",
    "#the file extension should always be .db\n",
    "con = sqlite3.connect('database.db')\n",
    "cursor = con.cursor()"
   ]
  },
  {
   "cell_type": "code",
   "execution_count": 4,
   "id": "bf84ba77-e21b-4cfd-b4c5-f37535221908",
   "metadata": {},
   "outputs": [
    {
     "data": {
      "text/plain": [
       "<sqlite3.Cursor at 0x28e6cb6a4c0>"
      ]
     },
     "execution_count": 4,
     "metadata": {},
     "output_type": "execute_result"
    }
   ],
   "source": [
    "#creating table and initializing attributes\n",
    "#we create table and its attributes within .execute() function\n",
    "con.execute('''\n",
    "    Create table student(\n",
    "        st_id INT AUTO_Increment PRIMARY KEY,\n",
    "        st_name VARCHAR(50),\n",
    "        st_class VARCHAR(10),\n",
    "        st_email VARCHAR(60)\n",
    "      )\n",
    "    ''')\n",
    "\n",
    "        "
   ]
  },
  {
   "cell_type": "code",
   "execution_count": 8,
   "id": "9a8fb9af-603e-439f-b35f-2d1fa4cbafc7",
   "metadata": {},
   "outputs": [],
   "source": [
    "#inserting data\n",
    "insert_data = [\n",
    "    ('Aditya','BCADS21','aditya@gmail.com'),\n",
    "    ('Rahul','BCADS21','rahul@gmail.com'),\n",
    "    ('Mahir','BCADS21','mahir@gmail.com'),\n",
    "    ('Mansi','BCADS21','mansi@gmail.com')\n",
    "]\n",
    "      \n",
    "# SQL statement for insertion\n",
    "sql_insert = \"INSERT INTO student (st_name, st_class, st_email) VALUES (?, ?, ?)\"\n",
    "\n",
    "# Execute the SQL statement with executemany()\n",
    "cursor.executemany(sql_insert, insert_data)\n",
    "\n",
    "con.commit()\n",
    "\n",
    "# Close the connection\n",
    "con.close()"
   ]
  },
  {
   "cell_type": "code",
   "execution_count": null,
   "id": "4137a8ce-0240-429f-a827-8b4f578fab44",
   "metadata": {},
   "outputs": [],
   "source": []
  }
 ],
 "metadata": {
  "kernelspec": {
   "display_name": "Python 3 (ipykernel)",
   "language": "python",
   "name": "python3"
  },
  "language_info": {
   "codemirror_mode": {
    "name": "ipython",
    "version": 3
   },
   "file_extension": ".py",
   "mimetype": "text/x-python",
   "name": "python",
   "nbconvert_exporter": "python",
   "pygments_lexer": "ipython3",
   "version": "3.11.5"
  }
 },
 "nbformat": 4,
 "nbformat_minor": 5
}
