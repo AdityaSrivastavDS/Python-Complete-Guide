{
 "cells": [
  {
   "cell_type": "code",
   "execution_count": 1,
   "id": "605dc623-0755-475b-87b6-d65131c4ab77",
   "metadata": {},
   "outputs": [],
   "source": [
    "import pandas as pd"
   ]
  },
  {
   "cell_type": "markdown",
   "id": "213aab16-4d6d-4b00-8dda-718e75140560",
   "metadata": {},
   "source": [
    "**Read CSV File**"
   ]
  },
  {
   "cell_type": "code",
   "execution_count": 7,
   "id": "41cb08ba-6311-45f8-82ec-116f06c02d20",
   "metadata": {},
   "outputs": [],
   "source": [
    "#somtime notebook unable to read file so at that point we use double slash(\\\\) in file path\n",
    "\n",
    "data = pd.read_csv(\"C:\\\\Users\\\\PC\\\\Python\\\\Python Libraries\\\\Pandas\\\\Handling CSV Fle\\\\Dataset\\\\cereal.csv\")"
   ]
  },
  {
   "cell_type": "code",
   "execution_count": 8,
   "id": "9be6f34e-4825-4375-a0ea-f5a752fe8831",
   "metadata": {},
   "outputs": [
    {
     "name": "stdout",
     "output_type": "stream",
     "text": [
      "                         name mfr type  calories  protein  fat  sodium  fiber  \\\n",
      "0                   100% Bran   N    C        70        4    1     130   10.0   \n",
      "1           100% Natural Bran   Q    C       120        3    5      15    2.0   \n",
      "2                    All-Bran   K    C        70        4    1     260    9.0   \n",
      "3   All-Bran with Extra Fiber   K    C        50        4    0     140   14.0   \n",
      "4              Almond Delight   R    C       110        2    2     200    1.0   \n",
      "..                        ...  ..  ...       ...      ...  ...     ...    ...   \n",
      "72                    Triples   G    C       110        2    1     250    0.0   \n",
      "73                       Trix   G    C       110        1    1     140    0.0   \n",
      "74                 Wheat Chex   R    C       100        3    1     230    3.0   \n",
      "75                   Wheaties   G    C       100        3    1     200    3.0   \n",
      "76        Wheaties Honey Gold   G    C       110        2    1     200    1.0   \n",
      "\n",
      "    carbo  sugars  potass  vitamins  shelf  weight  cups     rating  \n",
      "0     5.0       6     280        25      3     1.0  0.33  68.402973  \n",
      "1     8.0       8     135         0      3     1.0  1.00  33.983679  \n",
      "2     7.0       5     320        25      3     1.0  0.33  59.425505  \n",
      "3     8.0       0     330        25      3     1.0  0.50  93.704912  \n",
      "4    14.0       8      -1        25      3     1.0  0.75  34.384843  \n",
      "..    ...     ...     ...       ...    ...     ...   ...        ...  \n",
      "72   21.0       3      60        25      3     1.0  0.75  39.106174  \n",
      "73   13.0      12      25        25      2     1.0  1.00  27.753301  \n",
      "74   17.0       3     115        25      1     1.0  0.67  49.787445  \n",
      "75   17.0       3     110        25      1     1.0  1.00  51.592193  \n",
      "76   16.0       8      60        25      1     1.0  0.75  36.187559  \n",
      "\n",
      "[77 rows x 16 columns]\n"
     ]
    }
   ],
   "source": [
    "print(data)"
   ]
  },
  {
   "cell_type": "markdown",
   "id": "2738950b-8c42-4f6a-87c2-5fa2834e1b04",
   "metadata": {},
   "source": [
    "***acessing particular rows***"
   ]
  },
  {
   "cell_type": "code",
   "execution_count": 9,
   "id": "164a2c75-8601-4a7e-9e61-a43bb59291c9",
   "metadata": {},
   "outputs": [
    {
     "name": "stdout",
     "output_type": "stream",
     "text": [
      "        name mfr type  calories  protein  fat  sodium  fiber  carbo  sugars  \\\n",
      "0  100% Bran   N    C        70        4    1     130     10      5       6   \n",
      "\n",
      "   potass  vitamins  shelf  weight  cups     rating  \n",
      "0     280        25      3       1  0.33  68.402973  \n"
     ]
    }
   ],
   "source": [
    "data1 = pd.read_csv(\"C:\\\\Users\\\\PC\\\\Python\\\\Python Libraries\\\\Pandas\\\\Handling CSV Fle\\\\Dataset\\\\cereal.csv\", nrows=1 )\n",
    "print(data1)"
   ]
  },
  {
   "cell_type": "markdown",
   "id": "c1ede82b-adf7-46f9-89cb-b3fa9c08270d",
   "metadata": {},
   "source": [
    "***acessing particular column***"
   ]
  },
  {
   "cell_type": "code",
   "execution_count": 10,
   "id": "282325dc-32a8-457e-9e53-1a23ae3b93f5",
   "metadata": {},
   "outputs": [
    {
     "name": "stdout",
     "output_type": "stream",
     "text": [
      "                         name\n",
      "0                   100% Bran\n",
      "1           100% Natural Bran\n",
      "2                    All-Bran\n",
      "3   All-Bran with Extra Fiber\n",
      "4              Almond Delight\n",
      "..                        ...\n",
      "72                    Triples\n",
      "73                       Trix\n",
      "74                 Wheat Chex\n",
      "75                   Wheaties\n",
      "76        Wheaties Honey Gold\n",
      "\n",
      "[77 rows x 1 columns]\n"
     ]
    }
   ],
   "source": [
    "data2 = pd.read_csv(\"C:\\\\Users\\\\PC\\\\Python\\\\Python Libraries\\\\Pandas\\\\Handling CSV Fle\\\\Dataset\\\\cereal.csv\", usecols=['name'])\n",
    "print(data2)"
   ]
  },
  {
   "cell_type": "markdown",
   "id": "805ee6a9-3cdb-46a9-bcaf-6fa8be8fbf90",
   "metadata": {},
   "source": [
    "***skipping particular row***"
   ]
  },
  {
   "cell_type": "code",
   "execution_count": 14,
   "id": "6eb3fb77-423f-43ea-9faf-9f68d062e176",
   "metadata": {},
   "outputs": [
    {
     "name": "stdout",
     "output_type": "stream",
     "text": [
      "                    100% Bran  N  C   70  4  1  130    10     5   6  280  25  \\\n",
      "0           100% Natural Bran  Q  C  120  3  5   15   2.0   8.0   8  135   0   \n",
      "1                    All-Bran  K  C   70  4  1  260   9.0   7.0   5  320  25   \n",
      "2   All-Bran with Extra Fiber  K  C   50  4  0  140  14.0   8.0   0  330  25   \n",
      "3              Almond Delight  R  C  110  2  2  200   1.0  14.0   8   -1  25   \n",
      "4     Apple Cinnamon Cheerios  G  C  110  2  2  180   1.5  10.5  10   70  25   \n",
      "..                        ... .. ..  ... .. ..  ...   ...   ...  ..  ...  ..   \n",
      "71                    Triples  G  C  110  2  1  250   0.0  21.0   3   60  25   \n",
      "72                       Trix  G  C  110  1  1  140   0.0  13.0  12   25  25   \n",
      "73                 Wheat Chex  R  C  100  3  1  230   3.0  17.0   3  115  25   \n",
      "74                   Wheaties  G  C  100  3  1  200   3.0  17.0   3  110  25   \n",
      "75        Wheaties Honey Gold  G  C  110  2  1  200   1.0  16.0   8   60  25   \n",
      "\n",
      "    3  1.1  0.33  68.402973  \n",
      "0   3  1.0  1.00  33.983679  \n",
      "1   3  1.0  0.33  59.425505  \n",
      "2   3  1.0  0.50  93.704912  \n",
      "3   3  1.0  0.75  34.384843  \n",
      "4   1  1.0  0.75  29.509541  \n",
      ".. ..  ...   ...        ...  \n",
      "71  3  1.0  0.75  39.106174  \n",
      "72  2  1.0  1.00  27.753301  \n",
      "73  1  1.0  0.67  49.787445  \n",
      "74  1  1.0  1.00  51.592193  \n",
      "75  1  1.0  0.75  36.187559  \n",
      "\n",
      "[76 rows x 16 columns]\n"
     ]
    }
   ],
   "source": [
    "data3 = pd.read_csv(\"C:\\\\Users\\\\PC\\\\Python\\\\Python Libraries\\\\Pandas\\\\Handling CSV Fle\\\\Dataset\\\\cereal.csv\", skiprows=[0])\n",
    "print(data3)"
   ]
  },
  {
   "cell_type": "markdown",
   "id": "8984d790-eb3d-4e15-95f3-31da0c2ba969",
   "metadata": {},
   "source": [
    "***making column as index***"
   ]
  },
  {
   "cell_type": "code",
   "execution_count": 15,
   "id": "4677ccc2-0b75-44dd-a5cc-0a8c62374901",
   "metadata": {},
   "outputs": [
    {
     "name": "stdout",
     "output_type": "stream",
     "text": [
      "                          mfr type  calories  protein  fat  sodium  fiber  \\\n",
      "name                                                                        \n",
      "100% Bran                   N    C        70        4    1     130   10.0   \n",
      "100% Natural Bran           Q    C       120        3    5      15    2.0   \n",
      "All-Bran                    K    C        70        4    1     260    9.0   \n",
      "All-Bran with Extra Fiber   K    C        50        4    0     140   14.0   \n",
      "Almond Delight              R    C       110        2    2     200    1.0   \n",
      "...                        ..  ...       ...      ...  ...     ...    ...   \n",
      "Triples                     G    C       110        2    1     250    0.0   \n",
      "Trix                        G    C       110        1    1     140    0.0   \n",
      "Wheat Chex                  R    C       100        3    1     230    3.0   \n",
      "Wheaties                    G    C       100        3    1     200    3.0   \n",
      "Wheaties Honey Gold         G    C       110        2    1     200    1.0   \n",
      "\n",
      "                           carbo  sugars  potass  vitamins  shelf  weight  \\\n",
      "name                                                                        \n",
      "100% Bran                    5.0       6     280        25      3     1.0   \n",
      "100% Natural Bran            8.0       8     135         0      3     1.0   \n",
      "All-Bran                     7.0       5     320        25      3     1.0   \n",
      "All-Bran with Extra Fiber    8.0       0     330        25      3     1.0   \n",
      "Almond Delight              14.0       8      -1        25      3     1.0   \n",
      "...                          ...     ...     ...       ...    ...     ...   \n",
      "Triples                     21.0       3      60        25      3     1.0   \n",
      "Trix                        13.0      12      25        25      2     1.0   \n",
      "Wheat Chex                  17.0       3     115        25      1     1.0   \n",
      "Wheaties                    17.0       3     110        25      1     1.0   \n",
      "Wheaties Honey Gold         16.0       8      60        25      1     1.0   \n",
      "\n",
      "                           cups     rating  \n",
      "name                                        \n",
      "100% Bran                  0.33  68.402973  \n",
      "100% Natural Bran          1.00  33.983679  \n",
      "All-Bran                   0.33  59.425505  \n",
      "All-Bran with Extra Fiber  0.50  93.704912  \n",
      "Almond Delight             0.75  34.384843  \n",
      "...                         ...        ...  \n",
      "Triples                    0.75  39.106174  \n",
      "Trix                       1.00  27.753301  \n",
      "Wheat Chex                 0.67  49.787445  \n",
      "Wheaties                   1.00  51.592193  \n",
      "Wheaties Honey Gold        0.75  36.187559  \n",
      "\n",
      "[77 rows x 15 columns]\n"
     ]
    }
   ],
   "source": [
    "data = pd.read_csv(\"C:\\\\Users\\\\PC\\\\Python\\\\Python Libraries\\\\Pandas\\\\Handling CSV Fle\\\\Dataset\\\\cereal.csv\", index_col='name')\n",
    "print(data)"
   ]
  },
  {
   "cell_type": "code",
   "execution_count": null,
   "id": "2ed8af1c-72f1-41d1-a754-4ed38ffcfb06",
   "metadata": {},
   "outputs": [],
   "source": []
  }
 ],
 "metadata": {
  "kernelspec": {
   "display_name": "Python 3 (ipykernel)",
   "language": "python",
   "name": "python3"
  },
  "language_info": {
   "codemirror_mode": {
    "name": "ipython",
    "version": 3
   },
   "file_extension": ".py",
   "mimetype": "text/x-python",
   "name": "python",
   "nbconvert_exporter": "python",
   "pygments_lexer": "ipython3",
   "version": "3.11.5"
  }
 },
 "nbformat": 4,
 "nbformat_minor": 5
}
