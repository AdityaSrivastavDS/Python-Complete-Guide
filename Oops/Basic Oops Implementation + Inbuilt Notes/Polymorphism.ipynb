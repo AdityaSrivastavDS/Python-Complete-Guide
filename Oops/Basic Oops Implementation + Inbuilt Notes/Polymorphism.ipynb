{
 "cells": [
  {
   "cell_type": "markdown",
   "id": "1c13a982-578d-48df-88ef-9ad1ab8d448e",
   "metadata": {},
   "source": [
    "♦Polymorphism:-\n",
    "\n",
    "•\n",
    "Polymorphism in programming means treating different objects as if they were the same type. It allows a single function or method to work with different types of objects, making the code more flexible and reusable.\n",
    "•\n",
    "\n",
    "Polymorphism is like a superhero power in programming that allows different things to be treated the same way even though they might be different.•\r\n",
    "\r\n",
    "Imagine you have different animals—like a dog, a cat, and a bird—and they all can make a sound. Now, if you ask each of these animals to make a sound, they will each do it in their own way. Polymorphism is like saying, \"Hey, make a sound!\" to each of these animals without worrying about what kind of animal they are. Even though they're different, they all understand the command to make a sound, and they do it in their unique wa•y.\r\n",
    "\r\n",
    "In programming, this means that different objects can be treated as instances of the same class, and they can have their own specialized way of doing things. This makes it easier to work with various objects in a unified way, helping to write more flexible and reusable code."
   ]
  },
  {
   "cell_type": "markdown",
   "id": "d8519a87-8fb6-453b-b684-d7b83ecb2dab",
   "metadata": {},
   "source": [
    "♦Overriding:- This happens when a subclass provides a specific implementation for a method that is already defined and provided by its superclass. It means replacing the method in the superclass with a new implementation in the subclass. The signature (method name, parameters) remains the same, but the behavior can be different in the subclass. This allows for more specialized behavior in the subclass while still maintaining the same method name and structure.\n",
    "\n",
    "For example, imagine a class Animal with a method makeSound(). The subclasses Dog and Cat can both override the makeSound() method to produce different sounds while maintaining the method's name."
   ]
  },
  {
   "cell_type": "code",
   "execution_count": 11,
   "id": "300512b9-e405-4526-b631-3deaffdef9b2",
   "metadata": {},
   "outputs": [
    {
     "name": "stdout",
     "output_type": "stream",
     "text": [
      "Some generic sound\n",
      "Woof!\n",
      "Meow!\n"
     ]
    }
   ],
   "source": [
    "#implementation of over riding in python\n",
    "#But remember that for over riding we have to use inheritance concept\n",
    "#over riding means that different classes uses the same method\n",
    "class Animal:\n",
    "    def make_sound(self):\n",
    "        print(\"Some generic sound\")\n",
    "\n",
    "class Dog(Animal):\n",
    "    def make_sound(self):\n",
    "        print(\"Woof!\")\n",
    "\n",
    "class Cat(Animal):\n",
    "    def make_sound(self):\n",
    "        print(\"Meow!\")\n",
    "\n",
    "# Creating instances\n",
    "animal = Animal()\n",
    "dog = Dog()\n",
    "cat = Cat()\n",
    "\n",
    "# Calling make_sound method\n",
    "animal.make_sound()  # Output: Some generic sound\n",
    "dog.make_sound()     # Output: Woof!\n",
    "cat.make_sound()     # Output: Meow!\n"
   ]
  },
  {
   "cell_type": "code",
   "execution_count": 14,
   "id": "a9a50bc8-e63e-421d-86e4-6cc9d714b7f8",
   "metadata": {},
   "outputs": [
    {
     "name": "stdout",
     "output_type": "stream",
     "text": [
      "Welcome to Jupyter Notebook\n",
      "Today weather is so cold\n"
     ]
    }
   ],
   "source": [
    "class ws:\n",
    "    def displayinfo(self):\n",
    "        print(\"Welcome to Jupyter Notebook\")\n",
    "\n",
    "#season class inheriting ws class\n",
    "class season(ws):\n",
    "    def displayinfo(self):\n",
    "\n",
    "        #using super() method to call method of parent class in child class\n",
    "        super().displayinfo()\n",
    "        \n",
    "        print(\"Today weather is so cold\")\n",
    "\n",
    "#creating instance of season class\n",
    "obj = season()\n",
    "obj.displayinfo()"
   ]
  },
  {
   "cell_type": "code",
   "execution_count": 18,
   "id": "c172c869-c97a-4507-9391-c739ec3cb6ad",
   "metadata": {},
   "outputs": [
    {
     "name": "stdout",
     "output_type": "stream",
     "text": [
      "I am in B class\n"
     ]
    }
   ],
   "source": [
    "class A:\n",
    "    def showData(self):\n",
    "        print(\"I am in A class\")\n",
    "class B(A):\n",
    "    def showData(self):\n",
    "        print(\"I am in B class\")\n",
    "\n",
    "obj = B()\n",
    "obj.showData()"
   ]
  },
  {
   "cell_type": "markdown",
   "id": "3e0a239c-c30b-4bd4-b043-91c0cc998d5e",
   "metadata": {},
   "source": [
    "♦Overloading: This refers to having multiple methods in the same class with the same name but different parameters. The methods must differ either in the number of parameters or the types of parameters. The idea is to provide multiple ways to invoke a method based on the parameters passed to it.\n",
    "\n",
    "For instance, a class Calculator might have multiple add methods: add(int a, int b), add(double a, double b), and add(int a, int b, int c). Each of these methods performs addition but can handle different types or numbers of parameters."
   ]
  },
  {
   "cell_type": "code",
   "execution_count": 12,
   "id": "3b931202-fc9f-4dee-a416-4991358b6b45",
   "metadata": {},
   "outputs": [
    {
     "name": "stdout",
     "output_type": "stream",
     "text": [
      "5\n",
      "6\n"
     ]
    }
   ],
   "source": [
    "#implementation of overloading\n",
    "#overloading means that different methods within the same class uses same arguments or parameters\n",
    "class Calculator:\n",
    "    def add(self, a, b):\n",
    "        return a + b\n",
    "\n",
    "    def add_three(self, a, b, c):\n",
    "        return a + b + c\n",
    "\n",
    "# Creating an instance\n",
    "calc = Calculator()\n",
    "\n",
    "# Using method overloading-like behavior\n",
    "print(calc.add(2, 3))          # Output: 5\n",
    "print(calc.add_three(1, 2, 3)) # Output: 6\n"
   ]
  },
  {
   "cell_type": "code",
   "execution_count": 17,
   "id": "ecfa6b16-d95b-4857-9d6e-517264536767",
   "metadata": {},
   "outputs": [
    {
     "name": "stdout",
     "output_type": "stream",
     "text": [
      "Nothing to find\n",
      "Area of rectangle is:  200\n",
      "Area of square is:  100\n"
     ]
    }
   ],
   "source": [
    "class Area:\n",
    "    def find_area(self,a = None, b = None):\n",
    "        if a!= None and b != None:\n",
    "            print(\"Area of rectangle is: \",(a*b))\n",
    "        elif a!= None:\n",
    "            print(\"Area of square is: \",(a*a))\n",
    "        else:\n",
    "            print(\"Nothing to find\")\n",
    "\n",
    "obj = Area()\n",
    "\n",
    "obj.find_area()  #output: Nothing to find as we didn't passed any argument\n",
    "\n",
    "#these two calls will give output as we have passed the argumnets\n",
    "obj.find_area(10,20)\n",
    "obj.find_area(10)\n",
    "\n",
    "    "
   ]
  },
  {
   "cell_type": "code",
   "execution_count": null,
   "id": "c7c9e284-c01f-497a-b2f1-986fd643e8e4",
   "metadata": {},
   "outputs": [],
   "source": []
  }
 ],
 "metadata": {
  "kernelspec": {
   "display_name": "Python 3 (ipykernel)",
   "language": "python",
   "name": "python3"
  },
  "language_info": {
   "codemirror_mode": {
    "name": "ipython",
    "version": 3
   },
   "file_extension": ".py",
   "mimetype": "text/x-python",
   "name": "python",
   "nbconvert_exporter": "python",
   "pygments_lexer": "ipython3",
   "version": "3.11.5"
  }
 },
 "nbformat": 4,
 "nbformat_minor": 5
}
