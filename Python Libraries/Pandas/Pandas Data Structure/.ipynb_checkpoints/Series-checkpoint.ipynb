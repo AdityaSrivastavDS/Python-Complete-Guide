{
 "cells": [
  {
   "cell_type": "code",
   "execution_count": 1,
   "id": "202e866a-99db-4e4a-a606-8a0dd44f6c2a",
   "metadata": {},
   "outputs": [],
   "source": [
    "import pandas as pd"
   ]
  },
  {
   "cell_type": "code",
   "execution_count": 10,
   "id": "f6d633e2-4733-4a52-8d12-1952c4f7e960",
   "metadata": {},
   "outputs": [
    {
     "name": "stdout",
     "output_type": "stream",
     "text": [
      "0    3\n",
      "1    4\n",
      "2    5\n",
      "3    6\n",
      "4    7\n",
      "5    8\n",
      "dtype: int64\n",
      "<class 'pandas.core.series.Series'>\n"
     ]
    }
   ],
   "source": [
    "#creating series using list\n",
    "#S of Series is always capital\n",
    "x = [3,4,5,6,7,8]\n",
    "\n",
    "data = pd.Series(x)\n",
    "print(data)\n",
    "print(type(data))"
   ]
  },
  {
   "cell_type": "code",
   "execution_count": 6,
   "id": "f0cb8517-794c-434c-a337-445651356a10",
   "metadata": {},
   "outputs": [
    {
     "name": "stdout",
     "output_type": "stream",
     "text": [
      "6\n"
     ]
    }
   ],
   "source": [
    "#accessing elemnts through index number\n",
    "print(data[3])"
   ]
  },
  {
   "cell_type": "code",
   "execution_count": 7,
   "id": "fc242acd-46cb-49b0-9e8b-332325b4b74d",
   "metadata": {},
   "outputs": [
    {
     "name": "stdout",
     "output_type": "stream",
     "text": [
      "A    3\n",
      "B    4\n",
      "C    5\n",
      "D    6\n",
      "dtype: int64\n"
     ]
    }
   ],
   "source": [
    "#changing index number of Series\n",
    "x = [3,4,5,6]\n",
    "\n",
    "data = pd.Series(x, index=['A','B','C','D'])\n",
    "print(data)"
   ]
  },
  {
   "cell_type": "code",
   "execution_count": 8,
   "id": "4a696727-c0b0-4973-8a7f-8fd3b3785aee",
   "metadata": {},
   "outputs": [
    {
     "name": "stdout",
     "output_type": "stream",
     "text": [
      "A    3.0\n",
      "B    4.0\n",
      "C    5.0\n",
      "D    6.0\n",
      "dtype: float64\n"
     ]
    }
   ],
   "source": [
    "#changing data type of elements of Series\n",
    "x = [3,4,5,6]\n",
    "\n",
    "data = pd.Series(x, index=['A','B','C','D'], dtype=\"float\")\n",
    "print(data)"
   ]
  },
  {
   "cell_type": "code",
   "execution_count": 9,
   "id": "ba5dac59-0474-450c-bfe7-0bb520ca40f6",
   "metadata": {},
   "outputs": [
    {
     "name": "stdout",
     "output_type": "stream",
     "text": [
      "A    3.0\n",
      "B    4.0\n",
      "C    5.0\n",
      "D    6.0\n",
      "Name: Numbers, dtype: float64\n"
     ]
    }
   ],
   "source": [
    "#declaring the name of data\n",
    "x = [3,4,5,6]\n",
    "\n",
    "data = pd.Series(x, index=['A','B','C','D'], dtype=\"float\", name=\"Numbers\")\n",
    "print(data)"
   ]
  },
  {
   "cell_type": "markdown",
   "id": "d3735327-a82b-4e58-9ed6-012292f0b934",
   "metadata": {},
   "source": [
    "**Series using Dictionary:**"
   ]
  },
  {
   "cell_type": "code",
   "execution_count": 12,
   "id": "8597a17b-36fe-418d-b541-8f1871936b4c",
   "metadata": {},
   "outputs": [
    {
     "name": "stdout",
     "output_type": "stream",
     "text": [
      "Name    [Python, Java, C++]\n",
      "Rank              [1, 2, 3]\n",
      "dtype: object\n"
     ]
    }
   ],
   "source": [
    "dic = {\"Name\":['Python','Java','C++'],\"Rank\":[1,2,3]}\n",
    "\n",
    "y = pd.Series(dic)\n",
    "print(y)"
   ]
  },
  {
   "cell_type": "code",
   "execution_count": 14,
   "id": "9cdc2287-1c41-4b08-8dff-54dcadeabfcf",
   "metadata": {},
   "outputs": [
    {
     "name": "stdout",
     "output_type": "stream",
     "text": [
      "0    12\n",
      "dtype: int64\n"
     ]
    }
   ],
   "source": [
    "#creatng Series using single data\n",
    "s = pd.Series(12)\n",
    "print(s)"
   ]
  },
  {
   "cell_type": "code",
   "execution_count": 15,
   "id": "42a72c60-f755-4f21-b77e-4c4db3bc087a",
   "metadata": {},
   "outputs": [
    {
     "name": "stdout",
     "output_type": "stream",
     "text": [
      "1    12\n",
      "2    12\n",
      "3    12\n",
      "4    12\n",
      "5    12\n",
      "dtype: int64\n"
     ]
    }
   ],
   "source": [
    "#creatng multiple Series of same single data\n",
    "s = pd.Series(12, index=[1,2,3,4,5])\n",
    "print(s)"
   ]
  },
  {
   "cell_type": "code",
   "execution_count": 17,
   "id": "2438bbfa-1112-415b-8466-c90bd482f845",
   "metadata": {},
   "outputs": [
    {
     "name": "stdout",
     "output_type": "stream",
     "text": [
      "1    24.0\n",
      "2    24.0\n",
      "3    24.0\n",
      "4     NaN\n",
      "5     NaN\n",
      "dtype: float64\n"
     ]
    }
   ],
   "source": [
    "#adding two series\n",
    "'''In numpy if we try to add array of different dimesnsion then it will give error \n",
    "while Pandas series allow it'''\n",
    "\n",
    "s1 = pd.Series(12, index=[1,2,3,4,5])\n",
    "s2 = pd.Series(12, index=[1,2,3])\n",
    "\n",
    "print(s1+s2)"
   ]
  },
  {
   "cell_type": "code",
   "execution_count": null,
   "id": "d9d30b85-603d-4801-b2d4-6e1021b9c115",
   "metadata": {},
   "outputs": [],
   "source": []
  }
 ],
 "metadata": {
  "kernelspec": {
   "display_name": "Python 3 (ipykernel)",
   "language": "python",
   "name": "python3"
  },
  "language_info": {
   "codemirror_mode": {
    "name": "ipython",
    "version": 3
   },
   "file_extension": ".py",
   "mimetype": "text/x-python",
   "name": "python",
   "nbconvert_exporter": "python",
   "pygments_lexer": "ipython3",
   "version": "3.11.5"
  }
 },
 "nbformat": 4,
 "nbformat_minor": 5
}
