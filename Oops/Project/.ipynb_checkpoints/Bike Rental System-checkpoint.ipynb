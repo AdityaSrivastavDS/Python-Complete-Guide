{
 "cells": [
  {
   "cell_type": "code",
   "execution_count": 1,
   "id": "355f06cc-2800-43ec-ae66-cdb996f59150",
   "metadata": {},
   "outputs": [
    {
     "name": "stdin",
     "output_type": "stream",
     "text": [
      "\n",
      "                   1. Display Stocks\n",
      "                   2. Rent a Bike\n",
      "                   3. Exit\n",
      "                    1\n"
     ]
    },
    {
     "name": "stdout",
     "output_type": "stream",
     "text": [
      "Total Bikes:  100\n"
     ]
    },
    {
     "name": "stdin",
     "output_type": "stream",
     "text": [
      "\n",
      "                   1. Display Stocks\n",
      "                   2. Rent a Bike\n",
      "                   3. Exit\n",
      "                    2\n",
      "Enter the number of bikes you want to rent:  34\n"
     ]
    },
    {
     "name": "stdout",
     "output_type": "stream",
     "text": [
      "Total prices:  3400000\n",
      "Total Bikes:  66\n"
     ]
    },
    {
     "name": "stdin",
     "output_type": "stream",
     "text": [
      "\n",
      "                   1. Display Stocks\n",
      "                   2. Rent a Bike\n",
      "                   3. Exit\n",
      "                    3\n"
     ]
    }
   ],
   "source": [
    "class bikeShop:\n",
    "    \n",
    "    def __init__(self,stock):\n",
    "        self.stock = stock\n",
    "        \n",
    "    def displayBike(self):\n",
    "        print(\"Total Bikes: \",self.stock)\n",
    "        \n",
    "    def rentForBike(self,q):\n",
    "        \n",
    "        if q<=0:\n",
    "            print(\"Enter a positive number of greater than zero\")\n",
    "        elif q>self.stock:\n",
    "            print(\"Sorry, we don't have that many bikes\")\n",
    "        else:\n",
    "            self.stock = self.stock-q\n",
    "            print(\"Total prices: \",q*100000)\n",
    "            print(\"Total Bikes: \",self.stock)\n",
    "            \n",
    "while True:\n",
    "    obj = bikeShop(100)\n",
    "    uc = int(input('''\n",
    "                   1. Display Stocks\n",
    "                   2. Rent a Bike\n",
    "                   3. Exit\n",
    "                   '''))\n",
    "    if uc == 1:\n",
    "        obj.displayBike()\n",
    "    elif uc == 2:\n",
    "        n = int(input(\"Enter the number of bikes you want to rent: \"))\n",
    "        obj.rentForBike(n)\n",
    "    else:\n",
    "        break        \n",
    "            \n",
    "            "
   ]
  },
  {
   "cell_type": "code",
   "execution_count": null,
   "id": "b5da3bca-d680-4e7e-9fb9-46f680242d8c",
   "metadata": {},
   "outputs": [],
   "source": []
  }
 ],
 "metadata": {
  "kernelspec": {
   "display_name": "Python 3 (ipykernel)",
   "language": "python",
   "name": "python3"
  },
  "language_info": {
   "codemirror_mode": {
    "name": "ipython",
    "version": 3
   },
   "file_extension": ".py",
   "mimetype": "text/x-python",
   "name": "python",
   "nbconvert_exporter": "python",
   "pygments_lexer": "ipython3",
   "version": "3.11.5"
  }
 },
 "nbformat": 4,
 "nbformat_minor": 5
}
