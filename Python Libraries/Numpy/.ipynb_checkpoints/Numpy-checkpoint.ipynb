{
 "cells": [
  {
   "cell_type": "code",
   "execution_count": 1,
   "id": "99081ede-5386-43db-b3a9-c1bdff5233b3",
   "metadata": {},
   "outputs": [],
   "source": [
    "#importing numpy library\n",
    "#Here np is the variable which we will use to utilize numpy functions\n",
    "import numpy as np"
   ]
  },
  {
   "cell_type": "code",
   "execution_count": 2,
   "id": "1f36e0d9-f0f9-439e-924f-64b7c4e57cf5",
   "metadata": {},
   "outputs": [
    {
     "name": "stdout",
     "output_type": "stream",
     "text": [
      "[1 2 3 4 5 6]\n"
     ]
    }
   ],
   "source": [
    "#creating numpy array\n",
    "arr = np.array([1,2,3,4,5,6])\n",
    "print(arr)"
   ]
  },
  {
   "cell_type": "code",
   "execution_count": 3,
   "id": "a5ed5132-cf1b-4e19-be6c-441d54d06f8a",
   "metadata": {
    "scrolled": true
   },
   "outputs": [
    {
     "name": "stdout",
     "output_type": "stream",
     "text": [
      "[1 2 3 4 5 6]\n"
     ]
    }
   ],
   "source": [
    "#memory management of numpy array\n",
    "arr = np.array([1,2,3,4,5,6], np.int32)\n",
    "print(arr)"
   ]
  },
  {
   "cell_type": "code",
   "execution_count": 4,
   "id": "16d3338b-a041-4492-ad29-5f3c81a91ccd",
   "metadata": {},
   "outputs": [
    {
     "data": {
      "text/plain": [
       "3"
      ]
     },
     "execution_count": 4,
     "metadata": {},
     "output_type": "execute_result"
    }
   ],
   "source": [
    "#accessing elements of numpy array\n",
    "arr[2]"
   ]
  },
  {
   "cell_type": "code",
   "execution_count": 5,
   "id": "efff401d-659e-4bc1-b975-681ffa08188c",
   "metadata": {},
   "outputs": [
    {
     "data": {
      "text/plain": [
       "dtype('int32')"
      ]
     },
     "execution_count": 5,
     "metadata": {},
     "output_type": "execute_result"
    }
   ],
   "source": [
    "#checking datatype of array\n",
    "arr.dtype"
   ]
  },
  {
   "cell_type": "code",
   "execution_count": 6,
   "id": "f1b46252-8401-45a8-8fa2-0375f6ff9c2f",
   "metadata": {},
   "outputs": [
    {
     "name": "stdout",
     "output_type": "stream",
     "text": [
      "217 ns ± 74.4 ns per loop (mean ± std. dev. of 7 runs, 1,000,000 loops each)\n"
     ]
    }
   ],
   "source": [
    "#we can also find the time\n",
    "#%timeit can use to get execution time of a single line while %%timeit is used to get execution time of whole program\n",
    "%timeit arr"
   ]
  },
  {
   "cell_type": "markdown",
   "id": "798d3e93-5054-4d7a-8eea-15c2819bf9e3",
   "metadata": {},
   "source": [
    "**Different ways to create array:-**"
   ]
  },
  {
   "cell_type": "code",
   "execution_count": 7,
   "id": "8653d282-f1d4-4994-a440-784632d5342b",
   "metadata": {},
   "outputs": [
    {
     "data": {
      "text/plain": [
       "array([1, 2, 3, 4, 5])"
      ]
     },
     "execution_count": 7,
     "metadata": {},
     "output_type": "execute_result"
    }
   ],
   "source": [
    "x = [1,2,3,4,5]\n",
    "\n",
    "y = np.array(x)\n",
    "\n",
    "y"
   ]
  },
  {
   "cell_type": "code",
   "execution_count": 8,
   "id": "a6c8f707-52e0-4805-8e78-480774d8912c",
   "metadata": {},
   "outputs": [
    {
     "name": "stdout",
     "output_type": "stream",
     "text": [
      "<class 'numpy.ndarray'>\n"
     ]
    }
   ],
   "source": [
    "#checking data type\n",
    "print(type(y))"
   ]
  },
  {
   "cell_type": "code",
   "execution_count": 9,
   "id": "1b6d698d-66a0-49c6-ad05-86a9fb47bfb8",
   "metadata": {},
   "outputs": [
    {
     "name": "stdin",
     "output_type": "stream",
     "text": [
      "Enter elements:-  4\n",
      "Enter elements:-  2\n",
      "Enter elements:-  4\n",
      "Enter elements:-  7\n"
     ]
    },
    {
     "name": "stdout",
     "output_type": "stream",
     "text": [
      "[4 2 4 7]\n"
     ]
    }
   ],
   "source": [
    "#taking elements from user \n",
    "l = []\n",
    "\n",
    "for i in range(1,5):\n",
    "    num = int(input(\"Enter elements:- \"))\n",
    "    l.append(num)\n",
    "\n",
    "a = np.array(l)\n",
    "print(a)"
   ]
  },
  {
   "cell_type": "code",
   "execution_count": 10,
   "id": "f84e3d9d-165f-4c70-8a77-e5a7d0f13f7e",
   "metadata": {},
   "outputs": [
    {
     "data": {
      "text/plain": [
       "1"
      ]
     },
     "execution_count": 10,
     "metadata": {},
     "output_type": "execute_result"
    }
   ],
   "source": [
    "#checking dimension of array\n",
    "a = np.array([2,3,6,3,2])\n",
    "\n",
    "a.ndim"
   ]
  },
  {
   "cell_type": "code",
   "execution_count": 11,
   "id": "93e09f83-e480-4c58-8826-08e39a92cd20",
   "metadata": {},
   "outputs": [
    {
     "name": "stdout",
     "output_type": "stream",
     "text": [
      "[[1 2 3]\n",
      " [4 5 6]]\n",
      "Dimension of given array is:-  2\n"
     ]
    }
   ],
   "source": [
    "#creating 2-D array\n",
    "arr = np.array([[1,2,3],[4,5,6]])    #No. of elements should be equal on both sides\n",
    "print(arr)\n",
    "\n",
    "print(\"Dimension of given array is:- \",arr.ndim)"
   ]
  },
  {
   "cell_type": "code",
   "execution_count": 12,
   "id": "5d3e07ab-88f8-4d83-a5ff-5029e07c32f0",
   "metadata": {},
   "outputs": [
    {
     "name": "stdout",
     "output_type": "stream",
     "text": [
      "[[[ 1  2  3]\n",
      "  [ 4  5  6]]\n",
      "\n",
      " [[ 7  8  9]\n",
      "  [10 11 12]]]\n",
      "The dimesnion of array is:-  3\n"
     ]
    }
   ],
   "source": [
    "#creating 3-d array\n",
    "arr3 = np.array([[[1,2,3],[4,5,6]],[[7,8,9],[10,11,12]]])\n",
    "print(arr3)\n",
    "\n",
    "print(\"The dimesnion of array is:- \",arr3.ndim)"
   ]
  },
  {
   "cell_type": "code",
   "execution_count": 13,
   "id": "7af674f8-6b53-4d08-b349-371eb5839017",
   "metadata": {},
   "outputs": [
    {
     "name": "stdout",
     "output_type": "stream",
     "text": [
      "[[[[[[[[[[5 6 7 8]]]]]]]]]]\n",
      "The dimension of array is:-  10\n"
     ]
    }
   ],
   "source": [
    "#creating multidimensional array using ndmin function\n",
    "arn = np.array([5,6,7,8],ndmin = 10)  \n",
    "print(arn)\n",
    "\n",
    "print(\"The dimension of array is:- \",arn.ndim)"
   ]
  },
  {
   "cell_type": "markdown",
   "id": "97f53252-bda7-4ede-844a-07e93e490f82",
   "metadata": {},
   "source": [
    "***Creating Array using Numpy functions:-***"
   ]
  },
  {
   "cell_type": "code",
   "execution_count": 14,
   "id": "843c759f-3710-4889-9659-127cd88598c2",
   "metadata": {},
   "outputs": [
    {
     "name": "stdout",
     "output_type": "stream",
     "text": [
      "[0. 0. 0. 0.]\n"
     ]
    }
   ],
   "source": [
    "#Creating  an array filled with zeros\n",
    "#zeros() function include 3 parameters:- slice:row:column\n",
    "#we can pass a single parameter also\n",
    "\n",
    "ar_zero = np.zeros(4)\n",
    "print(ar_zero)"
   ]
  },
  {
   "cell_type": "code",
   "execution_count": 15,
   "id": "58c39fb5-ca80-4985-af64-65f9580db17a",
   "metadata": {},
   "outputs": [
    {
     "name": "stdout",
     "output_type": "stream",
     "text": [
      "[[0. 0. 0.]\n",
      " [0. 0. 0.]\n",
      " [0. 0. 0.]\n",
      " [0. 0. 0.]]\n"
     ]
    }
   ],
   "source": [
    "#creating 2-D array filled with zeros\n",
    "ar_zero = np.zeros((4,3))\n",
    "print(ar_zero)"
   ]
  },
  {
   "cell_type": "code",
   "execution_count": 16,
   "id": "158b0b23-c1cc-4f01-ad6e-0dc96fba8550",
   "metadata": {},
   "outputs": [
    {
     "name": "stdout",
     "output_type": "stream",
     "text": [
      "[[[0. 0.]\n",
      "  [0. 0.]\n",
      "  [0. 0.]]\n",
      "\n",
      " [[0. 0.]\n",
      "  [0. 0.]\n",
      "  [0. 0.]]\n",
      "\n",
      " [[0. 0.]\n",
      "  [0. 0.]\n",
      "  [0. 0.]]\n",
      "\n",
      " [[0. 0.]\n",
      "  [0. 0.]\n",
      "  [0. 0.]]]\n"
     ]
    }
   ],
   "source": [
    "#creating 3-D array filled with zeros\n",
    "ar_zero = np.zeros((4,3,2))\n",
    "print(ar_zero)"
   ]
  },
  {
   "cell_type": "markdown",
   "id": "8d0ed654-b2fa-4536-a510-3f0e14c9ebc7",
   "metadata": {},
   "source": [
    "***Creating Arrays filled with one:-***"
   ]
  },
  {
   "cell_type": "code",
   "execution_count": 17,
   "id": "5ad2bfb5-367a-4583-ac2e-6b34588be24f",
   "metadata": {},
   "outputs": [
    {
     "name": "stdout",
     "output_type": "stream",
     "text": [
      "[1. 1. 1. 1.]\n"
     ]
    }
   ],
   "source": [
    "#using ones() function\n",
    "ones = np.ones(4) \n",
    "print(ones)"
   ]
  },
  {
   "cell_type": "code",
   "execution_count": 18,
   "id": "c087fc01-a601-450e-8e08-e1147ff3c039",
   "metadata": {},
   "outputs": [
    {
     "name": "stdout",
     "output_type": "stream",
     "text": [
      "[[1. 1. 1. 1. 1.]\n",
      " [1. 1. 1. 1. 1.]\n",
      " [1. 1. 1. 1. 1.]\n",
      " [1. 1. 1. 1. 1.]]\n"
     ]
    }
   ],
   "source": [
    "#creating 2-d array filled with one\n",
    "ones = np.ones((4,5))\n",
    "print(ones)"
   ]
  },
  {
   "cell_type": "markdown",
   "id": "c2809ffa-797a-4179-bdf3-47fda82ba4b4",
   "metadata": {},
   "source": [
    "***Empty Array:-***"
   ]
  },
  {
   "cell_type": "code",
   "execution_count": 19,
   "id": "9e93ca7e-7866-4bd2-ac51-781eb6647266",
   "metadata": {},
   "outputs": [
    {
     "name": "stdout",
     "output_type": "stream",
     "text": [
      "[1. 1. 1. 1.]\n"
     ]
    }
   ],
   "source": [
    "#using empty() function to create empty array\n",
    "ar_em = np.empty(4)   #takes no. of elements as argument\n",
    "print(ar_em)"
   ]
  },
  {
   "cell_type": "markdown",
   "id": "fd5696bf-cfea-4d70-afe3-ccea2952ebee",
   "metadata": {},
   "source": [
    "**Functions of Numpy:-**"
   ]
  },
  {
   "cell_type": "code",
   "execution_count": 20,
   "id": "807b7528-74d0-4f09-8afd-6fb62eaab22b",
   "metadata": {},
   "outputs": [
    {
     "name": "stdout",
     "output_type": "stream",
     "text": [
      "[1 2 3 4 5 6 7]\n"
     ]
    }
   ],
   "source": [
    "#arange() function \n",
    "#used to create an array through defined range\n",
    "ar = np.arange(1,8)     #it uses three parameters start:end:step\n",
    "print(ar)"
   ]
  },
  {
   "cell_type": "markdown",
   "id": "1d2c3bc6-4204-4f2e-95f9-a9d80d8121c4",
   "metadata": {},
   "source": [
    "***Diagonal:-***"
   ]
  },
  {
   "cell_type": "code",
   "execution_count": 21,
   "id": "09f7b5eb-6b39-4edc-8e01-77fc96c6fc94",
   "metadata": {},
   "outputs": [
    {
     "name": "stdout",
     "output_type": "stream",
     "text": [
      "[[1. 0. 0.]\n",
      " [0. 1. 0.]\n",
      " [0. 0. 1.]]\n"
     ]
    }
   ],
   "source": [
    "#.eye() function use to create an array directly\n",
    "#if we passed only one argument then both rows and column will be of same dimesnions as per difend\n",
    "ar_diag = np.eye(3)\n",
    "print(ar_diag)"
   ]
  },
  {
   "cell_type": "code",
   "execution_count": 22,
   "id": "655f9b2c-4340-4c97-8ad9-a57b48d93a06",
   "metadata": {},
   "outputs": [
    {
     "name": "stdout",
     "output_type": "stream",
     "text": [
      "[[1. 0. 0. 0.]\n",
      " [0. 1. 0. 0.]\n",
      " [0. 0. 1. 0.]]\n"
     ]
    }
   ],
   "source": [
    "ar_diag = np.eye(3,4)    #defined rows and column both in argument\n",
    "print(ar_diag)"
   ]
  },
  {
   "cell_type": "code",
   "execution_count": 23,
   "id": "13cbb41c-1c8a-456c-b808-eae249c72245",
   "metadata": {},
   "outputs": [
    {
     "name": "stdout",
     "output_type": "stream",
     "text": [
      "[ 1.    3.25  5.5   7.75 10.  ]\n"
     ]
    }
   ],
   "source": [
    "#linspace() is used to to create an array with having gap between elements\n",
    "#it takes range and number of elements we want between that range as argumwent\n",
    "ar_lin = np.linspace(1,10,num = 5)\n",
    "print(ar_lin)"
   ]
  },
  {
   "cell_type": "markdown",
   "id": "c20921d9-aec2-4a66-ae09-0a89d2291af2",
   "metadata": {},
   "source": [
    "**Creating array with random number:-**"
   ]
  },
  {
   "cell_type": "markdown",
   "id": "35637679-5c20-4bc5-8bef-b3c5798b041e",
   "metadata": {},
   "source": [
    "***rand function:***"
   ]
  },
  {
   "cell_type": "code",
   "execution_count": 24,
   "id": "3ca3337a-550a-40aa-8363-fc2b60eb1465",
   "metadata": {},
   "outputs": [
    {
     "name": "stdout",
     "output_type": "stream",
     "text": [
      "[0.70494701 0.80421791 0.8655397  0.95286613 0.21582358 0.34021077]\n"
     ]
    }
   ],
   "source": [
    "#rand() is generates random number between 0 and 1\n",
    "#it takes number of elements we want as argumnet\n",
    "\n",
    "var = np.random.rand(6)\n",
    "print(var)"
   ]
  },
  {
   "cell_type": "code",
   "execution_count": 25,
   "id": "05c29392-0161-4079-8796-3bf9c92460aa",
   "metadata": {},
   "outputs": [
    {
     "name": "stdout",
     "output_type": "stream",
     "text": [
      "[[0.67810811 0.83569114 0.22903856 0.60406437]\n",
      " [0.73755116 0.95699502 0.33934334 0.91229663]\n",
      " [0.18986524 0.23362056 0.79869996 0.1188639 ]]\n"
     ]
    }
   ],
   "source": [
    "#creating 2-d array\n",
    "var = np.random.rand(3,4)\n",
    "print(var)"
   ]
  },
  {
   "cell_type": "markdown",
   "id": "f1580950-5578-4947-b25f-efdc643242f1",
   "metadata": {},
   "source": [
    "***randn function:***"
   ]
  },
  {
   "cell_type": "markdown",
   "id": "9518f641-de0c-4ec6-80f0-3ccd40f6778c",
   "metadata": {},
   "source": [
    "•This function is used to generate a random number close to 0.\n",
    "\n",
    "•This may return positive as well as negative numbers also"
   ]
  },
  {
   "cell_type": "code",
   "execution_count": 26,
   "id": "066badab-7ac5-438d-aff1-8df666902175",
   "metadata": {},
   "outputs": [
    {
     "name": "stdout",
     "output_type": "stream",
     "text": [
      "[-0.88666502 -0.26743141  0.16816952  0.0814631   0.21214894]\n"
     ]
    }
   ],
   "source": [
    "arr = np.random.randn(5)  #number of elements as argument\n",
    "print(arr)"
   ]
  },
  {
   "cell_type": "markdown",
   "id": "8f3c9f93-8382-424a-98d5-a989d53e712a",
   "metadata": {},
   "source": [
    "***ranf function:***"
   ]
  },
  {
   "cell_type": "markdown",
   "id": "3ae8c19b-b108-4feb-a430-d8313c4fe363",
   "metadata": {},
   "source": [
    "•This function is for doing sampling in numpy.\n",
    "\n",
    "•It creates and array of specified shape and fills it with random floats in the half open interval which is greater than 0 but lesser than 1."
   ]
  },
  {
   "cell_type": "code",
   "execution_count": 27,
   "id": "5c3cf364-67fb-4cbb-ae71-84f9f4cd6701",
   "metadata": {},
   "outputs": [
    {
     "name": "stdout",
     "output_type": "stream",
     "text": [
      "[0.38000171 0.98201002 0.17134989 0.34161   ]\n"
     ]
    }
   ],
   "source": [
    "ar = np.random.ranf(4)\n",
    "print(ar)"
   ]
  },
  {
   "cell_type": "markdown",
   "id": "c55503d5-ce48-4aa8-b254-f2469f1896b5",
   "metadata": {},
   "source": [
    "***randint function:***"
   ]
  },
  {
   "cell_type": "markdown",
   "id": "c43f4f43-1fd7-4aad-82d4-37a324215c0c",
   "metadata": {},
   "source": [
    "•This function is used to generate random number between a given range."
   ]
  },
  {
   "cell_type": "code",
   "execution_count": 28,
   "id": "83424aa6-ce2c-455d-87c0-2f42ae28e668",
   "metadata": {},
   "outputs": [
    {
     "name": "stdout",
     "output_type": "stream",
     "text": [
      "[6 7 1 6 6]\n"
     ]
    }
   ],
   "source": [
    "a = np.random.randint(1,10,5)  #start:end:Number of elements\n",
    "print(a)"
   ]
  },
  {
   "cell_type": "code",
   "execution_count": null,
   "id": "b26ae56b-ce8f-4156-a185-7606edc231f5",
   "metadata": {},
   "outputs": [],
   "source": []
  }
 ],
 "metadata": {
  "kernelspec": {
   "display_name": "Python 3 (ipykernel)",
   "language": "python",
   "name": "python3"
  },
  "language_info": {
   "codemirror_mode": {
    "name": "ipython",
    "version": 3
   },
   "file_extension": ".py",
   "mimetype": "text/x-python",
   "name": "python",
   "nbconvert_exporter": "python",
   "pygments_lexer": "ipython3",
   "version": "3.11.5"
  }
 },
 "nbformat": 4,
 "nbformat_minor": 5
}
