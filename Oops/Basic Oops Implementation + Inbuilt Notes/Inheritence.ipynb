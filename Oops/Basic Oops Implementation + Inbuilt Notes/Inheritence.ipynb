{
 "cells": [
  {
   "cell_type": "markdown",
   "id": "b46156a6-10d2-4b3e-9798-2f8406b64896",
   "metadata": {},
   "source": [
    "♦Inheritance:-\n",
    "\n",
    "•\n",
    "Inheritance in object-oriented programming (OOP) is like a parent-child relationship. Imagine you have a class that defines certain characteristics or behaviors. Inheritance allows you to create a new class that \"inherits\" or takes on those characteristics from another class\n",
    "\n",
    "•So, inheritance allows new classes to be created based on existing classes, inheriting their attributes and methods while also enabling the addition of new functionalities or modifications specific to the new class.\n",
    "\r\n",
    "\r\n",
    "\r\n",
    "."
   ]
  },
  {
   "cell_type": "code",
   "execution_count": 1,
   "id": "6b26fce6-547e-4f42-8a7c-fa49416fbddb",
   "metadata": {},
   "outputs": [
    {
     "name": "stdout",
     "output_type": "stream",
     "text": [
      "Hello World!\n",
      "Welcome!\n"
     ]
    }
   ],
   "source": [
    "#Implementation of inheritance in python\n",
    "class A:\n",
    "    def displayA(self):\n",
    "        print(\"Hello World!\")\n",
    "\n",
    "\n",
    "#class B inheriting class A\n",
    "class B(A):\n",
    "    def displayB(self):\n",
    "        print(\"Welcome!\")\n",
    "\n",
    "#creating object of class \n",
    "#Remember that we always create object of that class which has inherited any other class\n",
    "obj = B()\n",
    "\n",
    "#calling methods of both classes using objec of class B\n",
    "obj.displayA()\n",
    "obj.displayB()"
   ]
  },
  {
   "cell_type": "code",
   "execution_count": 3,
   "id": "5d48c417-6cd2-4201-92f1-0a5cb426e3f0",
   "metadata": {},
   "outputs": [
    {
     "name": "stdout",
     "output_type": "stream",
     "text": [
      "Hello World!\n",
      "Welcome!\n",
      "Get Lost\n"
     ]
    }
   ],
   "source": [
    "#Implementation of multi level Inheritance\n",
    "class A:\n",
    "    def displayA(self):\n",
    "        print(\"Hello World!\")\n",
    "\n",
    "\n",
    "#class B inheriting class A\n",
    "class B(A):\n",
    "    def displayB(self):\n",
    "        print(\"Welcome!\")\n",
    "\n",
    "#class C inheriting class B as well as indirectly class A also\n",
    "class C(B):\n",
    "    def displayC(self):\n",
    "        print(\"Get Lost\")\n",
    "\n",
    "#creating object of class C\n",
    "#Remember that we always create object of that class which has inherited any other class\n",
    "obj = C()\n",
    "\n",
    "#calling methods of both classes using objec of class B\n",
    "obj.displayA()\n",
    "obj.displayB()\n",
    "obj.displayC()"
   ]
  },
  {
   "cell_type": "code",
   "execution_count": 4,
   "id": "90e0243e-5053-4645-9bbb-f8aaee188f6c",
   "metadata": {},
   "outputs": [
    {
     "name": "stdout",
     "output_type": "stream",
     "text": [
      "Hello World!\n",
      "Welcome!\n",
      "Get Lost\n"
     ]
    }
   ],
   "source": [
    "#Implementation of multiple inheritance\n",
    "class A:\n",
    "    def displayA(self):\n",
    "        print(\"Hello World!\")\n",
    "\n",
    "\n",
    "class B():\n",
    "    def displayB(self):\n",
    "        print(\"Welcome!\")\n",
    "\n",
    "#class C inheriting class B as well as class A also\n",
    "class C(A,B):\n",
    "    def displayC(self):\n",
    "        print(\"Get Lost\")\n",
    "\n",
    "#creating object of class C\n",
    "#Remember that we always create object of that class which has inherited any other class\n",
    "obj = C()\n",
    "\n",
    "#calling methods of both classes using objec of class B\n",
    "obj.displayA()\n",
    "obj.displayB()\n",
    "obj.displayC()"
   ]
  },
  {
   "cell_type": "code",
   "execution_count": null,
   "id": "07862e5b-ec0a-42c5-8a9f-70e5ff30c7ba",
   "metadata": {},
   "outputs": [],
   "source": []
  }
 ],
 "metadata": {
  "kernelspec": {
   "display_name": "Python 3 (ipykernel)",
   "language": "python",
   "name": "python3"
  },
  "language_info": {
   "codemirror_mode": {
    "name": "ipython",
    "version": 3
   },
   "file_extension": ".py",
   "mimetype": "text/x-python",
   "name": "python",
   "nbconvert_exporter": "python",
   "pygments_lexer": "ipython3",
   "version": "3.11.5"
  }
 },
 "nbformat": 4,
 "nbformat_minor": 5
}
