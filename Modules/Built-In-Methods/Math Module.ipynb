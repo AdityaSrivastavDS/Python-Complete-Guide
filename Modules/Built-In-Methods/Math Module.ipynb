{
 "cells": [
  {
   "cell_type": "code",
   "execution_count": 1,
   "id": "1c63d1a6",
   "metadata": {},
   "outputs": [
    {
     "name": "stdout",
     "output_type": "stream",
     "text": [
      "11\n"
     ]
    }
   ],
   "source": [
    "'''Return the cieling of x,the smallest integer greater than or equal to x.\n",
    "\n",
    "If x is not a float,delegate to x.__ceil__(),which should return an integral value\n",
    "\n",
    "The ceiling function is useful in situations where you need to round up to the nearest whole number.\n",
    "\n",
    "It provides a way to ensure that a value is never rounded down, always rounding towards positive\n",
    "infinity.'''\n",
    "\n",
    "import math\n",
    "n = 10.5\n",
    "print(math.ceil(n))"
   ]
  },
  {
   "cell_type": "code",
   "execution_count": 2,
   "id": "70b75a87",
   "metadata": {},
   "outputs": [
    {
     "name": "stdout",
     "output_type": "stream",
     "text": [
      "10\n"
     ]
    }
   ],
   "source": [
    "#ceil() always works on float value\n",
    "n1 = 10\n",
    "print(math.ceil(n1))"
   ]
  },
  {
   "cell_type": "code",
   "execution_count": 3,
   "id": "061881a5",
   "metadata": {},
   "outputs": [
    {
     "name": "stdout",
     "output_type": "stream",
     "text": [
      "12.0\n",
      "10\n"
     ]
    }
   ],
   "source": [
    "'''It is used to compute the absolute value of a floating-point number. \"fabs\" stands for \n",
    "\"floating-point absolute.\n",
    "\n",
    "Keep in mind that if you want to find the absolute value of an integer, you can use the built-in abs()\n",
    "function without the need to import the math module. The fabs() function is particularly useful when\n",
    "dealing specifically with floating-point numbers.'''\n",
    "\n",
    "\n",
    "a = -12\n",
    "b = 10\n",
    "print(math.fabs(a))\n",
    "print(abs(b))"
   ]
  },
  {
   "cell_type": "code",
   "execution_count": 4,
   "id": "c21be186",
   "metadata": {},
   "outputs": [
    {
     "name": "stdout",
     "output_type": "stream",
     "text": [
      "6\n"
     ]
    }
   ],
   "source": [
    "#returns factorial of a number\n",
    "#works only on positive integers\n",
    "c = 3\n",
    "print(math.factorial(c))"
   ]
  },
  {
   "cell_type": "code",
   "execution_count": 5,
   "id": "c1ea35ec",
   "metadata": {},
   "outputs": [
    {
     "name": "stdout",
     "output_type": "stream",
     "text": [
      "10\n"
     ]
    }
   ],
   "source": [
    "#works opposite of ceil()\n",
    "#returns back value \n",
    "n = 10.5\n",
    "print(math.floor(n))"
   ]
  },
  {
   "cell_type": "code",
   "execution_count": 6,
   "id": "542cc692",
   "metadata": {},
   "outputs": [
    {
     "name": "stdout",
     "output_type": "stream",
     "text": [
      "100.0\n"
     ]
    }
   ],
   "source": [
    "#return an accurate floating point sum of values of iterable\n",
    "#elements must be integer\n",
    "#return output in float value\n",
    "#works on list and tuple\n",
    "#iterable must contain multiple element\n",
    "\n",
    "l = [10,20,30,40]\n",
    "print(math.fsum(l))"
   ]
  },
  {
   "cell_type": "code",
   "execution_count": 7,
   "id": "b7093b40",
   "metadata": {},
   "outputs": [
    {
     "name": "stdout",
     "output_type": "stream",
     "text": [
      "2.23606797749979\n"
     ]
    }
   ],
   "source": [
    "#returns square root of number\n",
    "import math\n",
    "print(math.sqrt(5))"
   ]
  },
  {
   "cell_type": "code",
   "execution_count": null,
   "id": "f6666e3b",
   "metadata": {},
   "outputs": [],
   "source": []
  }
 ],
 "metadata": {
  "kernelspec": {
   "display_name": "Python 3 (ipykernel)",
   "language": "python",
   "name": "python3"
  },
  "language_info": {
   "codemirror_mode": {
    "name": "ipython",
    "version": 3
   },
   "file_extension": ".py",
   "mimetype": "text/x-python",
   "name": "python",
   "nbconvert_exporter": "python",
   "pygments_lexer": "ipython3",
   "version": "3.11.5"
  }
 },
 "nbformat": 4,
 "nbformat_minor": 5
}
