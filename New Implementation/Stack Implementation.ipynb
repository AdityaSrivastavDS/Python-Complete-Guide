{
 "cells": [
  {
   "cell_type": "markdown",
   "id": "44b0f1ed",
   "metadata": {},
   "source": [
    "### Stack:"
   ]
  },
  {
   "cell_type": "markdown",
   "id": "c1666081",
   "metadata": {},
   "source": [
    "•Stack is a linear data structure.\n",
    "\n",
    "•It works on LIFO(Last In First Out) principle or FILO(First In Last Out) principle."
   ]
  },
  {
   "cell_type": "code",
   "execution_count": 1,
   "id": "f2cfced5",
   "metadata": {},
   "outputs": [
    {
     "name": "stdout",
     "output_type": "stream",
     "text": [
      "\n",
      "    1 Push Elements\n",
      "    2 Pop Elements\n",
      "    3 Peek Elements\n",
      "    4 Display Stack\n",
      "    5 Exit1\n",
      "Enter the value10\n",
      "['10']\n",
      "\n",
      "    1 Push Elements\n",
      "    2 Pop Elements\n",
      "    3 Peek Elements\n",
      "    4 Display Stack\n",
      "    5 Exit1\n",
      "Enter the value20\n",
      "['10', '20']\n",
      "\n",
      "    1 Push Elements\n",
      "    2 Pop Elements\n",
      "    3 Peek Elements\n",
      "    4 Display Stack\n",
      "    5 Exit1\n",
      "Enter the value30\n",
      "['10', '20', '30']\n",
      "\n",
      "    1 Push Elements\n",
      "    2 Pop Elements\n",
      "    3 Peek Elements\n",
      "    4 Display Stack\n",
      "    5 Exit3\n",
      "Last stack value is:  30\n",
      "\n",
      "    1 Push Elements\n",
      "    2 Pop Elements\n",
      "    3 Peek Elements\n",
      "    4 Display Stack\n",
      "    5 Exit4\n",
      "Display Elements:  ['10', '20', '30']\n",
      "\n",
      "    1 Push Elements\n",
      "    2 Pop Elements\n",
      "    3 Peek Elements\n",
      "    4 Display Stack\n",
      "    5 Exit5\n"
     ]
    }
   ],
   "source": [
    "#stack implementation using list\n",
    "l = []\n",
    "while True: #This condition never get false\n",
    "    c = int(input('''\n",
    "    1 Push Elements\n",
    "    2 Pop Elements\n",
    "    3 Peek Elements\n",
    "    4 Display Stack\n",
    "    5 Exit'''))\n",
    "    if c == 1:\n",
    "        n = input(\"Enter the value\")\n",
    "        l.append(n)\n",
    "        print(l)\n",
    "    if c == 2:\n",
    "        if len(l) == 0:\n",
    "            print(\"List is empty\")\n",
    "        else:\n",
    "            p = l.pop()\n",
    "            print(p)\n",
    "            print(l)\n",
    "    elif c == 3:\n",
    "        if len(l)==0:\n",
    "            print(\"list is empty\")\n",
    "        else:\n",
    "            print(\"Last stack value is: \",l[-1])\n",
    "    elif c == 4:\n",
    "        print(\"Display Elements: \",l)\n",
    "    elif c == 5:\n",
    "        break;\n",
    "    else:\n",
    "        print(\"Invalid Operation\")"
   ]
  },
  {
   "cell_type": "code",
   "execution_count": null,
   "id": "4716984a",
   "metadata": {},
   "outputs": [],
   "source": []
  }
 ],
 "metadata": {
  "kernelspec": {
   "display_name": "Python 3 (ipykernel)",
   "language": "python",
   "name": "python3"
  },
  "language_info": {
   "codemirror_mode": {
    "name": "ipython",
    "version": 3
   },
   "file_extension": ".py",
   "mimetype": "text/x-python",
   "name": "python",
   "nbconvert_exporter": "python",
   "pygments_lexer": "ipython3",
   "version": "3.11.5"
  }
 },
 "nbformat": 4,
 "nbformat_minor": 5
}
