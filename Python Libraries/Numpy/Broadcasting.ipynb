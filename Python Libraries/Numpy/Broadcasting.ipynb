{
 "cells": [
  {
   "cell_type": "markdown",
   "id": "6a62e621-2cb7-47bb-9a4b-d4c9a81472ea",
   "metadata": {},
   "source": [
    "**Broadcasting in Numpy:-**"
   ]
  },
  {
   "cell_type": "markdown",
   "id": "d7f9d7e0-baf8-4fcb-b7c2-45aebbec8512",
   "metadata": {},
   "source": [
    "•In NumPy, broadcasting is a powerful feature that allows for arithmetic operations between arrays of different shapes and sizes.\n",
    "\n",
    "•Broadcasting automatically adjusts the shape of smaller arrays to make them compatible with larger arrays, so that element-wise operations can be performed without explicit looping.\n",
    "\n",
    "•The basic concept behind broadcasting is that when operating on two arrays, NumPy compares their shapes element-wise.\n",
    "\n",
    "•It starts with the trailing dimensions and works its way backward. Two dimensions are considered compatible when:\n",
    "\n",
    "                                                                                                                1)They are equal\n",
    "                                                                                                                \n",
    "                                                                                                                2)One of them is 1"
   ]
  },
  {
   "cell_type": "code",
   "execution_count": 1,
   "id": "bd04af17-7741-48af-9144-e5e987d7e23a",
   "metadata": {},
   "outputs": [],
   "source": [
    "import numpy as np"
   ]
  },
  {
   "cell_type": "code",
   "execution_count": null,
   "id": "b47e3510-e2c5-4568-9bec-adf678da4059",
   "metadata": {},
   "outputs": [],
   "source": []
  }
 ],
 "metadata": {
  "kernelspec": {
   "display_name": "Python 3 (ipykernel)",
   "language": "python",
   "name": "python3"
  },
  "language_info": {
   "codemirror_mode": {
    "name": "ipython",
    "version": 3
   },
   "file_extension": ".py",
   "mimetype": "text/x-python",
   "name": "python",
   "nbconvert_exporter": "python",
   "pygments_lexer": "ipython3",
   "version": "3.11.5"
  }
 },
 "nbformat": 4,
 "nbformat_minor": 5
}
