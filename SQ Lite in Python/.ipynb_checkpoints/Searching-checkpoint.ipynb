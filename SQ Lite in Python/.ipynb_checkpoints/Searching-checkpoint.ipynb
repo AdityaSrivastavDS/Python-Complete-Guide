{
 "cells": [
  {
   "cell_type": "code",
   "execution_count": 1,
   "id": "9e3511bb-b270-421f-85ec-9b0f81171cbe",
   "metadata": {},
   "outputs": [],
   "source": [
    "import sqlite3"
   ]
  },
  {
   "cell_type": "code",
   "execution_count": 2,
   "id": "f3008c44-6006-4fda-87a7-cf4500566c91",
   "metadata": {},
   "outputs": [],
   "source": [
    "#connecting to database\n",
    "con = sqlite3.connect(\"database.db\")"
   ]
  },
  {
   "cell_type": "code",
   "execution_count": 5,
   "id": "4c5285a6-d91f-48a0-b51b-dfefc6d70676",
   "metadata": {},
   "outputs": [
    {
     "name": "stdout",
     "output_type": "stream",
     "text": [
      "(1, 'Adi', 'BCADS21', 'aditya@gmail.com')\n"
     ]
    }
   ],
   "source": [
    "data = con.execute(\"SELECT * FROM student where st_name = 'Adi' \")\n",
    "for n in data:\n",
    "    print(n)"
   ]
  },
  {
   "cell_type": "code",
   "execution_count": 8,
   "id": "a80c633c-528b-48d1-9dc5-43b1a56b2f68",
   "metadata": {},
   "outputs": [
    {
     "name": "stdin",
     "output_type": "stream",
     "text": [
      "Enter name of student:-  'Adi'\n"
     ]
    },
    {
     "name": "stdout",
     "output_type": "stream",
     "text": [
      "(1, 'Adi', 'BCADS21', 'aditya@gmail.com')\n"
     ]
    }
   ],
   "source": [
    "#using user input to search\n",
    "st_name = input(\"Enter name of student:- \")\n",
    "data = con.execute(\"SELECT * FROM student where st_name = \"+st_name +\" \")\n",
    "for n in data:\n",
    "    print(n)"
   ]
  },
  {
   "cell_type": "code",
   "execution_count": null,
   "id": "7d833fd2-0169-4aaa-a4ba-5d1666873201",
   "metadata": {},
   "outputs": [],
   "source": []
  }
 ],
 "metadata": {
  "kernelspec": {
   "display_name": "Python 3 (ipykernel)",
   "language": "python",
   "name": "python3"
  },
  "language_info": {
   "codemirror_mode": {
    "name": "ipython",
    "version": 3
   },
   "file_extension": ".py",
   "mimetype": "text/x-python",
   "name": "python",
   "nbconvert_exporter": "python",
   "pygments_lexer": "ipython3",
   "version": "3.11.5"
  }
 },
 "nbformat": 4,
 "nbformat_minor": 5
}
