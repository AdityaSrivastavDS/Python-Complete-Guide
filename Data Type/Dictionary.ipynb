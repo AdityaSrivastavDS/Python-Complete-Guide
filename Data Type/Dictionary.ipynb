{
 "cells": [
  {
   "cell_type": "markdown",
   "id": "3efbbb04",
   "metadata": {},
   "source": [
    "### Dictionary:"
   ]
  },
  {
   "cell_type": "markdown",
   "id": "d5ba1e7b",
   "metadata": {},
   "source": [
    "•Unordered\n",
    "\n",
    "•Mutable in nature\n",
    "\n",
    "•Defined in key:value pair\n",
    "\n",
    "•Created through {}\n",
    "\n",
    "•Keys are unique but values can be duplicate"
   ]
  },
  {
   "cell_type": "code",
   "execution_count": 1,
   "id": "cab0469a",
   "metadata": {},
   "outputs": [
    {
     "name": "stdout",
     "output_type": "stream",
     "text": [
      "{'Name': 'Aditya', 'Age': 20, 'Section': 'BCADS21', 'Dept': 'BCA'}\n"
     ]
    }
   ],
   "source": [
    "#implementation\n",
    "d = {'Name':'Aditya','Age':20,'Section':'BCADS21','Dept':'BCA'}\n",
    "print(d)"
   ]
  },
  {
   "cell_type": "code",
   "execution_count": 2,
   "id": "c88f5451",
   "metadata": {},
   "outputs": [
    {
     "name": "stdout",
     "output_type": "stream",
     "text": [
      "Aditya\n"
     ]
    }
   ],
   "source": [
    "#accessing values through keys\n",
    "print(d['Name'])"
   ]
  },
  {
   "cell_type": "code",
   "execution_count": 4,
   "id": "38d3195d",
   "metadata": {},
   "outputs": [
    {
     "name": "stdout",
     "output_type": "stream",
     "text": [
      "Name\n",
      "Age\n",
      "Section\n",
      "Dept\n"
     ]
    }
   ],
   "source": [
    "#accessing all keys at same time\n",
    "for i in d:\n",
    "    print(i)"
   ]
  },
  {
   "cell_type": "code",
   "execution_count": 7,
   "id": "b8ae589e",
   "metadata": {},
   "outputs": [
    {
     "name": "stdout",
     "output_type": "stream",
     "text": [
      "Name\n",
      "Aditya\n",
      "Age\n",
      "20\n",
      "Section\n",
      "BCADS21\n",
      "Dept\n",
      "BCA\n"
     ]
    }
   ],
   "source": [
    "#accessing all keys with their respective values\n",
    "for i in d:\n",
    "    print(i)\n",
    "    print(d[i])"
   ]
  },
  {
   "cell_type": "code",
   "execution_count": 27,
   "id": "9d9c8624",
   "metadata": {},
   "outputs": [
    {
     "name": "stdout",
     "output_type": "stream",
     "text": [
      "{'Date': '10-11-2023', 'Role': 'MLSA', 'Name': 'Aditya', 'Age': 20, 'Credit': 150}\n"
     ]
    }
   ],
   "source": [
    "#different way to create dictionary\n",
    "dic = {\n",
    "    'Date':'10-11-2023',\n",
    "    'Role':'MLSA',\n",
    "    'Name':'Aditya',\n",
    "    'Age':20,\n",
    "    'Credit':150\n",
    "}\n",
    "print(dic)"
   ]
  },
  {
   "cell_type": "code",
   "execution_count": 16,
   "id": "b353cb3a",
   "metadata": {},
   "outputs": [
    {
     "name": "stdout",
     "output_type": "stream",
     "text": [
      "Date\n",
      "10-11-2023\n",
      "Role\n",
      "MLSA\n",
      "Name\n",
      "Aditya\n",
      "Age\n",
      "20\n",
      "Credit\n",
      "150\n"
     ]
    }
   ],
   "source": [
    "for i in dic:\n",
    "    print(i)\n",
    "    print(dic[i])"
   ]
  },
  {
   "cell_type": "markdown",
   "id": "86d53358",
   "metadata": {},
   "source": [
    "### Methods in dictionary: "
   ]
  },
  {
   "cell_type": "code",
   "execution_count": 17,
   "id": "96cfc38c",
   "metadata": {},
   "outputs": [],
   "source": [
    "dic = {\n",
    "    'Date':'10-11-2023',\n",
    "    'Role':'MLSA',\n",
    "    'Name':'Aditya',\n",
    "    'Age':20,\n",
    "    'Credit':150\n",
    "}"
   ]
  },
  {
   "cell_type": "code",
   "execution_count": 18,
   "id": "b5000eee",
   "metadata": {},
   "outputs": [
    {
     "data": {
      "text/plain": [
       "'10-11-2023'"
      ]
     },
     "execution_count": 18,
     "metadata": {},
     "output_type": "execute_result"
    }
   ],
   "source": [
    "#returns value of keys\n",
    "dic.get('Date')"
   ]
  },
  {
   "cell_type": "code",
   "execution_count": 20,
   "id": "52351aac",
   "metadata": {},
   "outputs": [
    {
     "data": {
      "text/plain": [
       "dict_keys(['Date', 'Role', 'Name', 'Age', 'Credit'])"
      ]
     },
     "execution_count": 20,
     "metadata": {},
     "output_type": "execute_result"
    }
   ],
   "source": [
    "#returns all keys of dictionary\n",
    "dic.keys()"
   ]
  },
  {
   "cell_type": "code",
   "execution_count": 22,
   "id": "14996fc8",
   "metadata": {},
   "outputs": [
    {
     "name": "stdout",
     "output_type": "stream",
     "text": [
      "Date\n",
      "Role\n",
      "Name\n",
      "Age\n",
      "Credit\n"
     ]
    }
   ],
   "source": [
    "for i in dic.keys():\n",
    "    print(i)"
   ]
  },
  {
   "cell_type": "code",
   "execution_count": 21,
   "id": "cc89647e",
   "metadata": {},
   "outputs": [
    {
     "data": {
      "text/plain": [
       "dict_values(['10-11-2023', 'MLSA', 'Aditya', 20, 150])"
      ]
     },
     "execution_count": 21,
     "metadata": {},
     "output_type": "execute_result"
    }
   ],
   "source": [
    "#returns value of all keys\n",
    "dic.values()"
   ]
  },
  {
   "cell_type": "code",
   "execution_count": 23,
   "id": "0358278f",
   "metadata": {},
   "outputs": [
    {
     "name": "stdout",
     "output_type": "stream",
     "text": [
      "10-11-2023\n",
      "MLSA\n",
      "Aditya\n",
      "20\n",
      "150\n"
     ]
    }
   ],
   "source": [
    "for i in dic.values():\n",
    "    print(i)"
   ]
  },
  {
   "cell_type": "code",
   "execution_count": 24,
   "id": "d0af36f1",
   "metadata": {},
   "outputs": [
    {
     "data": {
      "text/plain": [
       "dict_items([('Date', '10-11-2023'), ('Role', 'MLSA'), ('Name', 'Aditya'), ('Age', 20), ('Credit', 150)])"
      ]
     },
     "execution_count": 24,
     "metadata": {},
     "output_type": "execute_result"
    }
   ],
   "source": [
    "#returns pair of keys and value that are present in dictionary\n",
    "dic.items()"
   ]
  },
  {
   "cell_type": "code",
   "execution_count": 28,
   "id": "10830d3e",
   "metadata": {
    "scrolled": true
   },
   "outputs": [
    {
     "name": "stdout",
     "output_type": "stream",
     "text": [
      "Date : 10-11-2023\n",
      "Role : MLSA\n",
      "Name : Aditya\n",
      "Age : 20\n",
      "Credit : 150\n"
     ]
    }
   ],
   "source": [
    "for i,j in dic.items():\n",
    "    print(i,':',j)"
   ]
  },
  {
   "cell_type": "code",
   "execution_count": 39,
   "id": "e2c4292e",
   "metadata": {},
   "outputs": [],
   "source": [
    "dc = {\n",
    "    'Language':'Python',\n",
    "    'Fees':9000,\n",
    "    'Duration':'2 Months'\n",
    "}"
   ]
  },
  {
   "cell_type": "code",
   "execution_count": 40,
   "id": "320eefe6",
   "metadata": {},
   "outputs": [
    {
     "name": "stdout",
     "output_type": "stream",
     "text": [
      "{'Language': 'Python', 'Fees': 9000}\n"
     ]
    }
   ],
   "source": [
    "#deletes items from dictionary\n",
    "del dc['Duration']\n",
    "print(dc)"
   ]
  },
  {
   "cell_type": "code",
   "execution_count": 41,
   "id": "3a9984b3",
   "metadata": {},
   "outputs": [
    {
     "name": "stdout",
     "output_type": "stream",
     "text": [
      "9000\n",
      "{'Language': 'Python'}\n"
     ]
    }
   ],
   "source": [
    "#delete items from dictionary as well as returns deleted item\n",
    "a = dc.pop('Fees')\n",
    "print(a)\n",
    "print(dc)"
   ]
  },
  {
   "cell_type": "code",
   "execution_count": 42,
   "id": "421a3928",
   "metadata": {},
   "outputs": [],
   "source": [
    "dic = {\n",
    "    'Date':'10-11-2023',\n",
    "    'Role':'MLSA',\n",
    "    'Name':'Aditya',\n",
    "    'Age':20,\n",
    "    'Credit':150\n",
    "}"
   ]
  },
  {
   "cell_type": "code",
   "execution_count": 43,
   "id": "4fd651b9",
   "metadata": {},
   "outputs": [
    {
     "name": "stdout",
     "output_type": "stream",
     "text": [
      "{'Date': '10-11-2023', 'Role': 'MLSA', 'Name': 'Mahir', 'Age': 20, 'Credit': 150}\n"
     ]
    }
   ],
   "source": [
    "#updating values in dictionary\n",
    "dic['Name'] = 'Mahir'\n",
    "print(dic)"
   ]
  },
  {
   "cell_type": "code",
   "execution_count": 44,
   "id": "0fccd1e6",
   "metadata": {},
   "outputs": [
    {
     "name": "stdout",
     "output_type": "stream",
     "text": [
      "{'Python': {'Duration': '2 Months', 'Fees': 8000}, 'C++': {'Duration': '4 Months', 'Fees': 16000}, 'Java': {'Duration': '3 Months', 'Fees': 12000}}\n"
     ]
    }
   ],
   "source": [
    "#implementation of nnested dictionary\n",
    "course = {\n",
    "    'Python':{'Duration':'2 Months','Fees':8000},\n",
    "    'C++':{'Duration':'4 Months','Fees':16000},\n",
    "    'Java':{'Duration':'3 Months','Fees':12000}\n",
    "}\n",
    "print(course)"
   ]
  },
  {
   "cell_type": "code",
   "execution_count": 46,
   "id": "36c8ae7d",
   "metadata": {},
   "outputs": [
    {
     "name": "stdout",
     "output_type": "stream",
     "text": [
      "Python\n",
      "{'Duration': '2 Months', 'Fees': 8000}\n",
      "C++\n",
      "{'Duration': '4 Months', 'Fees': 16000}\n",
      "Java\n",
      "{'Duration': '3 Months', 'Fees': 12000}\n"
     ]
    }
   ],
   "source": [
    "#accessing items of nested dictionary\n",
    "for i in course:\n",
    "    print(i)\n",
    "    print(course[i])"
   ]
  },
  {
   "cell_type": "code",
   "execution_count": 47,
   "id": "992c8e99",
   "metadata": {},
   "outputs": [
    {
     "name": "stdout",
     "output_type": "stream",
     "text": [
      "Python : {'Duration': '2 Months', 'Fees': 8000}\n",
      "C++ : {'Duration': '4 Months', 'Fees': 16000}\n",
      "Java : {'Duration': '3 Months', 'Fees': 12000}\n"
     ]
    }
   ],
   "source": [
    "for i,j in course.items():\n",
    "    print(i,':',j)"
   ]
  },
  {
   "cell_type": "code",
   "execution_count": 49,
   "id": "32eacc3c",
   "metadata": {},
   "outputs": [
    {
     "name": "stdout",
     "output_type": "stream",
     "text": [
      "2 Months\n"
     ]
    }
   ],
   "source": [
    "#accessing values of a specific dictionary inside nested dictionary\n",
    "print(course['Python'],['Duration'])"
   ]
  },
  {
   "cell_type": "code",
   "execution_count": 52,
   "id": "9018f855",
   "metadata": {},
   "outputs": [
    {
     "name": "stdout",
     "output_type": "stream",
     "text": [
      "Python 2 Months 8000\n",
      "C++ 4 Months 16000\n",
      "Java 3 Months 12000\n"
     ]
    }
   ],
   "source": [
    "for i,j in course.items():\n",
    "    print(i,j['Duration'],j['Fees'])"
   ]
  },
  {
   "cell_type": "code",
   "execution_count": null,
   "id": "2c66166f",
   "metadata": {},
   "outputs": [],
   "source": []
  }
 ],
 "metadata": {
  "kernelspec": {
   "display_name": "Python 3 (ipykernel)",
   "language": "python",
   "name": "python3"
  },
  "language_info": {
   "codemirror_mode": {
    "name": "ipython",
    "version": 3
   },
   "file_extension": ".py",
   "mimetype": "text/x-python",
   "name": "python",
   "nbconvert_exporter": "python",
   "pygments_lexer": "ipython3",
   "version": "3.11.5"
  }
 },
 "nbformat": 4,
 "nbformat_minor": 5
}
