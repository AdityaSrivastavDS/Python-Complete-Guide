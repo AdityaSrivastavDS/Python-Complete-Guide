{
 "cells": [
  {
   "cell_type": "markdown",
   "id": "6effd254",
   "metadata": {},
   "source": [
    "### Tuple:"
   ]
  },
  {
   "cell_type": "markdown",
   "id": "630f954c",
   "metadata": {},
   "source": [
    "•Ordered sequence data type\n",
    "\n",
    "•Immutable in nature\n",
    "\n",
    "•Defined with ()\n",
    "\n",
    "•Heteregenous data type"
   ]
  },
  {
   "cell_type": "code",
   "execution_count": 4,
   "id": "91f2c171",
   "metadata": {},
   "outputs": [
    {
     "name": "stdout",
     "output_type": "stream",
     "text": [
      "(1, 2, 3, 'A', 'B', 'C')\n"
     ]
    }
   ],
   "source": [
    "#implementation\n",
    "t = (1,2,3,'A','B','C')\n",
    "print(t)"
   ]
  },
  {
   "cell_type": "code",
   "execution_count": 5,
   "id": "cd85d8e1",
   "metadata": {},
   "outputs": [
    {
     "name": "stdout",
     "output_type": "stream",
     "text": [
      "1\n"
     ]
    }
   ],
   "source": [
    "#accessing elements in tuple through index\n",
    "print(t[0])"
   ]
  },
  {
   "cell_type": "code",
   "execution_count": 7,
   "id": "503371c6",
   "metadata": {},
   "outputs": [
    {
     "name": "stdout",
     "output_type": "stream",
     "text": [
      "1\n",
      "2\n",
      "3\n",
      "A\n",
      "B\n",
      "C\n"
     ]
    }
   ],
   "source": [
    "for i in t:\n",
    "    print(i)"
   ]
  },
  {
   "cell_type": "code",
   "execution_count": 9,
   "id": "1dc2ec0d",
   "metadata": {},
   "outputs": [
    {
     "name": "stdout",
     "output_type": "stream",
     "text": [
      "1\n",
      "2\n",
      "3\n",
      "A\n",
      "B\n",
      "C\n"
     ]
    }
   ],
   "source": [
    "#accessing elements using len()\n",
    "l = len(t)\n",
    "for i in range(l):\n",
    "    print(t[i])"
   ]
  },
  {
   "cell_type": "code",
   "execution_count": 6,
   "id": "8780e0c1",
   "metadata": {},
   "outputs": [
    {
     "data": {
      "text/plain": [
       "str"
      ]
     },
     "execution_count": 6,
     "metadata": {},
     "output_type": "execute_result"
    }
   ],
   "source": [
    "#If a tuple contains single element in () then its not a tuple\n",
    "tu = ('Py')\n",
    "type(tu)"
   ]
  },
  {
   "cell_type": "markdown",
   "id": "ef6560ce",
   "metadata": {},
   "source": [
    "### Methods in Tuple:"
   ]
  },
  {
   "cell_type": "code",
   "execution_count": 12,
   "id": "c494cfbd",
   "metadata": {},
   "outputs": [
    {
     "name": "stdout",
     "output_type": "stream",
     "text": [
      "(10, 30, 20, 78, 90, 32)\n"
     ]
    }
   ],
   "source": [
    "tp = (10,30,20,78,90,32)\n",
    "print(tp)"
   ]
  },
  {
   "cell_type": "code",
   "execution_count": 13,
   "id": "f9c6d8c0",
   "metadata": {},
   "outputs": [
    {
     "data": {
      "text/plain": [
       "90"
      ]
     },
     "execution_count": 13,
     "metadata": {},
     "output_type": "execute_result"
    }
   ],
   "source": [
    "#returns maximum or highest value\n",
    "max(tp)"
   ]
  },
  {
   "cell_type": "code",
   "execution_count": 14,
   "id": "666b05d6",
   "metadata": {},
   "outputs": [
    {
     "data": {
      "text/plain": [
       "10"
      ]
     },
     "execution_count": 14,
     "metadata": {},
     "output_type": "execute_result"
    }
   ],
   "source": [
    "#returns minimum or lowest value\n",
    "min(tp)"
   ]
  },
  {
   "cell_type": "code",
   "execution_count": 15,
   "id": "a98e5c04",
   "metadata": {},
   "outputs": [
    {
     "data": {
      "text/plain": [
       "1"
      ]
     },
     "execution_count": 15,
     "metadata": {},
     "output_type": "execute_result"
    }
   ],
   "source": [
    "#returns frequency of occurence of an element\n",
    "tp.count(30)"
   ]
  },
  {
   "cell_type": "code",
   "execution_count": 16,
   "id": "b19df177",
   "metadata": {},
   "outputs": [
    {
     "data": {
      "text/plain": [
       "4"
      ]
     },
     "execution_count": 16,
     "metadata": {},
     "output_type": "execute_result"
    }
   ],
   "source": [
    "#returns index number of element\n",
    "tp.index(90)"
   ]
  },
  {
   "cell_type": "code",
   "execution_count": 18,
   "id": "7a91919f",
   "metadata": {},
   "outputs": [
    {
     "data": {
      "text/plain": [
       "260"
      ]
     },
     "execution_count": 18,
     "metadata": {},
     "output_type": "execute_result"
    }
   ],
   "source": [
    "#returns sum of all elements of tuple\n",
    "#always works when tuple contains only integer and float\n",
    "sum(tp)"
   ]
  },
  {
   "cell_type": "code",
   "execution_count": 20,
   "id": "97a72ed7",
   "metadata": {},
   "outputs": [
    {
     "data": {
      "text/plain": [
       "270"
      ]
     },
     "execution_count": 20,
     "metadata": {},
     "output_type": "execute_result"
    }
   ],
   "source": [
    "#we can add numbers to sum of all elements of tuple\n",
    "sum(tp,10)"
   ]
  },
  {
   "cell_type": "code",
   "execution_count": 1,
   "id": "fa80b2f7",
   "metadata": {},
   "outputs": [
    {
     "name": "stdout",
     "output_type": "stream",
     "text": [
      "(1, 2, 'a', 'b', True, False)\n",
      "(4, 7, 'u', 'k', True)\n"
     ]
    }
   ],
   "source": [
    "#tuple creation\n",
    "a = (1,2,'a','b',True,False)\n",
    "b = (4,7,'u','k',True)\n",
    "print(a)\n",
    "print(b)"
   ]
  },
  {
   "cell_type": "code",
   "execution_count": 2,
   "id": "43eed2ca",
   "metadata": {},
   "outputs": [
    {
     "data": {
      "text/plain": [
       "(1, 2, 'a', 'b', True, False, 4, 7, 'u', 'k', True)"
      ]
     },
     "execution_count": 2,
     "metadata": {},
     "output_type": "execute_result"
    }
   ],
   "source": [
    "#tuple concatanation\n",
    "a+b"
   ]
  },
  {
   "cell_type": "code",
   "execution_count": 3,
   "id": "7991806c",
   "metadata": {},
   "outputs": [
    {
     "data": {
      "text/plain": [
       "(2,)"
      ]
     },
     "execution_count": 3,
     "metadata": {},
     "output_type": "execute_result"
    }
   ],
   "source": [
    "#slicing tuple\n",
    "a[1:2:1]"
   ]
  },
  {
   "cell_type": "code",
   "execution_count": 4,
   "id": "136936d7",
   "metadata": {},
   "outputs": [],
   "source": [
    "#deletion of tuple\n",
    "del a"
   ]
  },
  {
   "cell_type": "code",
   "execution_count": null,
   "id": "f610415e",
   "metadata": {},
   "outputs": [],
   "source": []
  }
 ],
 "metadata": {
  "kernelspec": {
   "display_name": "Python 3 (ipykernel)",
   "language": "python",
   "name": "python3"
  },
  "language_info": {
   "codemirror_mode": {
    "name": "ipython",
    "version": 3
   },
   "file_extension": ".py",
   "mimetype": "text/x-python",
   "name": "python",
   "nbconvert_exporter": "python",
   "pygments_lexer": "ipython3",
   "version": "3.11.5"
  }
 },
 "nbformat": 4,
 "nbformat_minor": 5
}
