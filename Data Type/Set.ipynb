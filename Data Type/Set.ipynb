{
 "cells": [
  {
   "cell_type": "markdown",
   "id": "1dc20827",
   "metadata": {},
   "source": [
    "### Set:"
   ]
  },
  {
   "cell_type": "markdown",
   "id": "8e24e1ac",
   "metadata": {},
   "source": [
    "•Unordered\n",
    "\n",
    "•Don't have index thus can't be sliced\n",
    "\n",
    "•Represented through {}\n",
    "\n",
    "•Contains unique elemments,duplicacy is not allowed\n",
    "\n",
    "•Stores heterogenous elements\n",
    "\n",
    "•Mutable in nature"
   ]
  },
  {
   "cell_type": "code",
   "execution_count": 3,
   "id": "4a6c567c",
   "metadata": {},
   "outputs": [
    {
     "name": "stdout",
     "output_type": "stream",
     "text": [
      "{10, 20, 30}\n"
     ]
    }
   ],
   "source": [
    "#implementation\n",
    "s = {10,20,30}\n",
    "print(s)"
   ]
  },
  {
   "cell_type": "code",
   "execution_count": 4,
   "id": "aac200c0",
   "metadata": {},
   "outputs": [
    {
     "name": "stdout",
     "output_type": "stream",
     "text": [
      "10\n",
      "20\n",
      "30\n"
     ]
    }
   ],
   "source": [
    "#accessing elements of set\n",
    "for i in s:\n",
    "    print(i)"
   ]
  },
  {
   "cell_type": "markdown",
   "id": "13efab95",
   "metadata": {},
   "source": [
    "### Methods or Operation can be performed on set:"
   ]
  },
  {
   "cell_type": "code",
   "execution_count": 6,
   "id": "16818c0e",
   "metadata": {},
   "outputs": [
    {
     "name": "stdout",
     "output_type": "stream",
     "text": [
      "{50, 20, 12}\n"
     ]
    }
   ],
   "source": [
    "#used to construct set as well as can convert any data type into set\n",
    "s = [20,50,12]\n",
    "print(set(s))"
   ]
  },
  {
   "cell_type": "code",
   "execution_count": 10,
   "id": "5f42b786",
   "metadata": {},
   "outputs": [
    {
     "name": "stdout",
     "output_type": "stream",
     "text": [
      "{'hello', 'adi', 39, 19, 29}\n"
     ]
    }
   ],
   "source": [
    "#inserts element in set at any random position\n",
    "se = {19,'hello','adi',29}\n",
    "se.add(39)\n",
    "print(se)"
   ]
  },
  {
   "cell_type": "code",
   "execution_count": 11,
   "id": "1501313d",
   "metadata": {},
   "outputs": [
    {
     "name": "stdout",
     "output_type": "stream",
     "text": [
      "{'adi', 39, 19, 29}\n"
     ]
    }
   ],
   "source": [
    "#deletes any element randomly\n",
    "se.pop()\n",
    "print(se)"
   ]
  },
  {
   "cell_type": "code",
   "execution_count": 12,
   "id": "86005a6f",
   "metadata": {},
   "outputs": [
    {
     "name": "stdout",
     "output_type": "stream",
     "text": [
      "{'adi', 19, 29}\n"
     ]
    }
   ],
   "source": [
    "#deletes  a specific value from set\n",
    "se.remove(39)\n",
    "print(se)"
   ]
  },
  {
   "cell_type": "code",
   "execution_count": 13,
   "id": "40d8d777",
   "metadata": {},
   "outputs": [
    {
     "name": "stdout",
     "output_type": "stream",
     "text": [
      "{'adi', 29}\n"
     ]
    }
   ],
   "source": [
    "#deletes a specific value from set\n",
    "se.discard(19)\n",
    "print(se)"
   ]
  },
  {
   "cell_type": "code",
   "execution_count": 14,
   "id": "88219525",
   "metadata": {},
   "outputs": [
    {
     "ename": "KeyError",
     "evalue": "12",
     "output_type": "error",
     "traceback": [
      "\u001b[1;31m---------------------------------------------------------------------------\u001b[0m",
      "\u001b[1;31mKeyError\u001b[0m                                  Traceback (most recent call last)",
      "Cell \u001b[1;32mIn[14], line 3\u001b[0m\n\u001b[0;32m      1\u001b[0m \u001b[38;5;66;03m#different between remove and discard\u001b[39;00m\n\u001b[0;32m      2\u001b[0m \u001b[38;5;66;03m#if the element that is passed as argument to remove does not exist in set then remove method throughs error while discard didn't give any error\u001b[39;00m\n\u001b[1;32m----> 3\u001b[0m se\u001b[38;5;241m.\u001b[39mremove(\u001b[38;5;241m12\u001b[39m)\n",
      "\u001b[1;31mKeyError\u001b[0m: 12"
     ]
    }
   ],
   "source": [
    "#different between remove and discard\n",
    "#if the element that is passed as argument to remove does not exist in set then remove method throughs error while discard didn't give any error\n",
    "se.remove(12)\n"
   ]
  },
  {
   "cell_type": "code",
   "execution_count": 15,
   "id": "22a74986",
   "metadata": {},
   "outputs": [],
   "source": [
    "se.discard(12)"
   ]
  },
  {
   "cell_type": "code",
   "execution_count": 16,
   "id": "b19a65b2",
   "metadata": {},
   "outputs": [
    {
     "name": "stdout",
     "output_type": "stream",
     "text": [
      "{'hello', 'adi', 'mlsa', 26, 29}\n"
     ]
    }
   ],
   "source": [
    "#use to update or insert multiple elements into set\n",
    "l = ['hello','mlsa',26]\n",
    "se.update(l)\n",
    "print(se)"
   ]
  },
  {
   "cell_type": "code",
   "execution_count": 17,
   "id": "574ea4ad",
   "metadata": {},
   "outputs": [],
   "source": [
    "#deletes all elements of set\n",
    "se.clear()"
   ]
  },
  {
   "cell_type": "code",
   "execution_count": null,
   "id": "bbffb814",
   "metadata": {},
   "outputs": [],
   "source": []
  }
 ],
 "metadata": {
  "kernelspec": {
   "display_name": "Python 3 (ipykernel)",
   "language": "python",
   "name": "python3"
  },
  "language_info": {
   "codemirror_mode": {
    "name": "ipython",
    "version": 3
   },
   "file_extension": ".py",
   "mimetype": "text/x-python",
   "name": "python",
   "nbconvert_exporter": "python",
   "pygments_lexer": "ipython3",
   "version": "3.11.5"
  }
 },
 "nbformat": 4,
 "nbformat_minor": 5
}
