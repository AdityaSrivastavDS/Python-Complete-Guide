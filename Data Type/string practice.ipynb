{
 "cells": [
  {
   "cell_type": "code",
   "execution_count": 23,
   "id": "cf108f88",
   "metadata": {},
   "outputs": [
    {
     "name": "stdout",
     "output_type": "stream",
     "text": [
      "Aditya welcome to microsoft student ambassading program\n"
     ]
    }
   ],
   "source": [
    "#creating string\n",
    "a = \"Aditya welcome to microsoft student ambassading program\"\n",
    "print(a)"
   ]
  },
  {
   "cell_type": "code",
   "execution_count": 4,
   "id": "8c5208b6",
   "metadata": {},
   "outputs": [
    {
     "data": {
      "text/plain": [
       "'Aditya welcome to microsoft student ambassading program'"
      ]
     },
     "execution_count": 4,
     "metadata": {},
     "output_type": "execute_result"
    }
   ],
   "source": [
    "#convert the first letter of string into uppercase\n",
    "a.capitalize()"
   ]
  },
  {
   "cell_type": "code",
   "execution_count": 5,
   "id": "9d875c2e",
   "metadata": {},
   "outputs": [
    {
     "data": {
      "text/plain": [
       "'ADITYA WELCOME TO MICROSOFT STUDENT AMBASSADING PROGRAM'"
      ]
     },
     "execution_count": 5,
     "metadata": {},
     "output_type": "execute_result"
    }
   ],
   "source": [
    "#convert the entire string in uppercase\n",
    "a.upper()"
   ]
  },
  {
   "cell_type": "code",
   "execution_count": 6,
   "id": "ccb507c0",
   "metadata": {},
   "outputs": [
    {
     "data": {
      "text/plain": [
       "'aditya welcome to microsoft student ambassading program'"
      ]
     },
     "execution_count": 6,
     "metadata": {},
     "output_type": "execute_result"
    }
   ],
   "source": [
    "#convert the entire string into lowercase\n",
    "a.lower()"
   ]
  },
  {
   "cell_type": "code",
   "execution_count": 7,
   "id": "1d68f9dc",
   "metadata": {},
   "outputs": [
    {
     "data": {
      "text/plain": [
       "'aditya welcome to microsoft student ambassading program'"
      ]
     },
     "execution_count": 7,
     "metadata": {},
     "output_type": "execute_result"
    }
   ],
   "source": [
    "a.casefold()"
   ]
  },
  {
   "cell_type": "code",
   "execution_count": 8,
   "id": "36aa8b03",
   "metadata": {},
   "outputs": [
    {
     "data": {
      "text/plain": [
       "'Aditya Welcome To Microsoft Student Ambassading Program'"
      ]
     },
     "execution_count": 8,
     "metadata": {},
     "output_type": "execute_result"
    }
   ],
   "source": [
    "#convert the first letter of every substring into uppercase\n",
    "a.title()"
   ]
  },
  {
   "cell_type": "code",
   "execution_count": 9,
   "id": "ef38a8ca",
   "metadata": {},
   "outputs": [
    {
     "data": {
      "text/plain": [
       "'aDITYA WELCOME TO MICROSOFT STUDENT AMBASSADING PROGRAM'"
      ]
     },
     "execution_count": 9,
     "metadata": {},
     "output_type": "execute_result"
    }
   ],
   "source": [
    "#convert the lowercase into uppercase and vice versa\n",
    "a.swapcase() "
   ]
  },
  {
   "cell_type": "code",
   "execution_count": 10,
   "id": "eec75ba5",
   "metadata": {},
   "outputs": [
    {
     "data": {
      "text/plain": [
       "'Aditya welcome to microsoft student ambassading program'"
      ]
     },
     "execution_count": 10,
     "metadata": {},
     "output_type": "execute_result"
    }
   ],
   "source": [
    "a.center(50,'0')"
   ]
  },
  {
   "cell_type": "code",
   "execution_count": 11,
   "id": "41c1c88e",
   "metadata": {},
   "outputs": [
    {
     "data": {
      "text/plain": [
       "1"
      ]
     },
     "execution_count": 11,
     "metadata": {},
     "output_type": "execute_result"
    }
   ],
   "source": [
    "#count the frequency of occurence of a substring within a string\n",
    "a.count(\"Aditya\")"
   ]
  },
  {
   "cell_type": "code",
   "execution_count": 12,
   "id": "1de14440",
   "metadata": {},
   "outputs": [
    {
     "data": {
      "text/plain": [
       "b'Aditya welcome to microsoft student ambassading program'"
      ]
     },
     "execution_count": 12,
     "metadata": {},
     "output_type": "execute_result"
    }
   ],
   "source": [
    "a.encode()"
   ]
  },
  {
   "cell_type": "code",
   "execution_count": 13,
   "id": "6319e6f9",
   "metadata": {},
   "outputs": [
    {
     "data": {
      "text/plain": [
       "(True, False)"
      ]
     },
     "execution_count": 13,
     "metadata": {},
     "output_type": "execute_result"
    }
   ],
   "source": [
    "#\n",
    "a.startswith(\"Aditya\"),a.endswith(\"Lol\")"
   ]
  },
  {
   "cell_type": "code",
   "execution_count": 14,
   "id": "71618a6c",
   "metadata": {},
   "outputs": [
    {
     "data": {
      "text/plain": [
       "'Aditya welcome to microsoft student ambassading program'"
      ]
     },
     "execution_count": 14,
     "metadata": {},
     "output_type": "execute_result"
    }
   ],
   "source": [
    "a.expandtabs(40)"
   ]
  },
  {
   "cell_type": "code",
   "execution_count": 15,
   "id": "e343b4fe",
   "metadata": {},
   "outputs": [
    {
     "data": {
      "text/plain": [
       "48"
      ]
     },
     "execution_count": 15,
     "metadata": {},
     "output_type": "execute_result"
    }
   ],
   "source": [
    "#returns the index from which a substring is started \n",
    "a.find(\"program\")"
   ]
  },
  {
   "cell_type": "code",
   "execution_count": 16,
   "id": "2d3be402",
   "metadata": {},
   "outputs": [
    {
     "data": {
      "text/plain": [
       "18"
      ]
     },
     "execution_count": 16,
     "metadata": {},
     "output_type": "execute_result"
    }
   ],
   "source": [
    "#returns index numbe rof a substring\n",
    "a.index(\"microsoft\")"
   ]
  },
  {
   "cell_type": "code",
   "execution_count": 17,
   "id": "8d71e528",
   "metadata": {},
   "outputs": [
    {
     "data": {
      "text/plain": [
       "False"
      ]
     },
     "execution_count": 17,
     "metadata": {},
     "output_type": "execute_result"
    }
   ],
   "source": [
    "#returns true if string contains only numerical values\n",
    "a.isdigit()"
   ]
  },
  {
   "cell_type": "code",
   "execution_count": 18,
   "id": "67920cbd",
   "metadata": {},
   "outputs": [
    {
     "data": {
      "text/plain": [
       "False"
      ]
     },
     "execution_count": 18,
     "metadata": {},
     "output_type": "execute_result"
    }
   ],
   "source": [
    "a.isdecimal()"
   ]
  },
  {
   "cell_type": "code",
   "execution_count": 19,
   "id": "fe679d86",
   "metadata": {},
   "outputs": [
    {
     "data": {
      "text/plain": [
       "False"
      ]
     },
     "execution_count": 19,
     "metadata": {},
     "output_type": "execute_result"
    }
   ],
   "source": [
    "#returns true if string contains both alphabet and numbers\n",
    "a.isalnum()"
   ]
  },
  {
   "cell_type": "code",
   "execution_count": 20,
   "id": "308f8ef5",
   "metadata": {},
   "outputs": [
    {
     "data": {
      "text/plain": [
       "False"
      ]
     },
     "execution_count": 20,
     "metadata": {},
     "output_type": "execute_result"
    }
   ],
   "source": [
    "a.isidentifier()"
   ]
  },
  {
   "cell_type": "code",
   "execution_count": 21,
   "id": "c0e5e2e9",
   "metadata": {},
   "outputs": [
    {
     "data": {
      "text/plain": [
       "True"
      ]
     },
     "execution_count": 21,
     "metadata": {},
     "output_type": "execute_result"
    }
   ],
   "source": [
    "#returns true if the given string is printable or not\n",
    "a.isprintable()"
   ]
  },
  {
   "cell_type": "code",
   "execution_count": 28,
   "id": "4ccfb050",
   "metadata": {},
   "outputs": [
    {
     "data": {
      "text/plain": [
       "'A d i t y a   w e l c o m e   t o   m i c r o s o f t   s t u d e n t   a m b a s s a d i n g   p r o g r a m'"
      ]
     },
     "execution_count": 28,
     "metadata": {},
     "output_type": "execute_result"
    }
   ],
   "source": [
    "#separates each character of string\n",
    "\n",
    "' '.join(a)\n"
   ]
  },
  {
   "cell_type": "code",
   "execution_count": 27,
   "id": "949d5bca",
   "metadata": {},
   "outputs": [
    {
     "data": {
      "text/plain": [
       "'A-d-i-t-y-a- -w-e-l-c-o-m-e- -t-o- -m-i-c-r-o-s-o-f-t- -s-t-u-d-e-n-t- -a-m-b-a-s-s-a-d-i-n-g- -p-r-o-g-r-a-m'"
      ]
     },
     "execution_count": 27,
     "metadata": {},
     "output_type": "execute_result"
    }
   ],
   "source": [
    "#we can also use it if we wanted to insert any element between every character of a string\n",
    "\n",
    "'-'.join(a)"
   ]
  },
  {
   "cell_type": "code",
   "execution_count": 21,
   "id": "d2ec7134",
   "metadata": {},
   "outputs": [
    {
     "data": {
      "text/plain": [
       "'Aditya welcome to microsoft student ambassading '"
      ]
     },
     "execution_count": 21,
     "metadata": {},
     "output_type": "execute_result"
    }
   ],
   "source": [
    "#removes elements from last of string\n",
    "a.removesuffix(\"program\")"
   ]
  },
  {
   "cell_type": "code",
   "execution_count": 22,
   "id": "2366cbb9",
   "metadata": {},
   "outputs": [
    {
     "data": {
      "text/plain": [
       "' welcome to microsoft student ambassading program'"
      ]
     },
     "execution_count": 22,
     "metadata": {},
     "output_type": "execute_result"
    }
   ],
   "source": [
    "#removes elements from front of string\n",
    "a.removeprefix(\"Aditya\")"
   ]
  },
  {
   "cell_type": "code",
   "execution_count": 23,
   "id": "2442a54d",
   "metadata": {},
   "outputs": [
    {
     "data": {
      "text/plain": [
       "('Aditya welcome to microsoft ', 'student', ' ambassading program')"
      ]
     },
     "execution_count": 23,
     "metadata": {},
     "output_type": "execute_result"
    }
   ],
   "source": [
    "#partition the string into two portions from the substring which is passed as argument\n",
    "a.partition(\"student\")"
   ]
  },
  {
   "cell_type": "code",
   "execution_count": 24,
   "id": "1b52b08c",
   "metadata": {},
   "outputs": [
    {
     "data": {
      "text/plain": [
       "('', 'Aditya', ' welcome to microsoft student ambassading program')"
      ]
     },
     "execution_count": 24,
     "metadata": {},
     "output_type": "execute_result"
    }
   ],
   "source": [
    "a.rpartition(\"Aditya\")"
   ]
  },
  {
   "cell_type": "code",
   "execution_count": 25,
   "id": "0aeab8de",
   "metadata": {},
   "outputs": [
    {
     "data": {
      "text/plain": [
       "'Aditya welcome to IBM student ambassading program'"
      ]
     },
     "execution_count": 25,
     "metadata": {},
     "output_type": "execute_result"
    }
   ],
   "source": [
    "#used for replacing elements in string\n",
    "a.replace('microsoft','IBM')"
   ]
  },
  {
   "cell_type": "code",
   "execution_count": 26,
   "id": "08089d5e",
   "metadata": {},
   "outputs": [
    {
     "data": {
      "text/plain": [
       "['Aditya', 'welcome', 'to', 'microsoft', 'student', 'ambassading', 'program']"
      ]
     },
     "execution_count": 26,
     "metadata": {},
     "output_type": "execute_result"
    }
   ],
   "source": [
    "#breakdown the string into substrings\n",
    "a.split()"
   ]
  },
  {
   "cell_type": "code",
   "execution_count": 27,
   "id": "e00ff3cf",
   "metadata": {},
   "outputs": [
    {
     "data": {
      "text/plain": [
       "['Aditya Go', 'Ahead']"
      ]
     },
     "execution_count": 27,
     "metadata": {},
     "output_type": "execute_result"
    }
   ],
   "source": [
    "b = \"Aditya Go\\nAhead\"\n",
    "b.splitlines()"
   ]
  },
  {
   "cell_type": "code",
   "execution_count": 28,
   "id": "d3c613cb",
   "metadata": {},
   "outputs": [
    {
     "data": {
      "text/plain": [
       "'000010'"
      ]
     },
     "execution_count": 28,
     "metadata": {},
     "output_type": "execute_result"
    }
   ],
   "source": [
    "'10'.zfill(6)"
   ]
  },
  {
   "cell_type": "code",
   "execution_count": 35,
   "id": "d243668f",
   "metadata": {},
   "outputs": [
    {
     "name": "stdout",
     "output_type": "stream",
     "text": [
      "Aditya\n"
     ]
    }
   ],
   "source": [
    "c = \"Aditya\"\n",
    "print(c)"
   ]
  },
  {
   "cell_type": "code",
   "execution_count": 47,
   "id": "570198d7",
   "metadata": {},
   "outputs": [
    {
     "data": {
      "text/plain": [
       "True"
      ]
     },
     "execution_count": 47,
     "metadata": {},
     "output_type": "execute_result"
    }
   ],
   "source": [
    "#returns true if string contains only alphabets else returns false\n",
    "#works only when there is a single substring inside a string\n",
    "c.isalpha()"
   ]
  },
  {
   "cell_type": "code",
   "execution_count": 48,
   "id": "930d6189",
   "metadata": {},
   "outputs": [
    {
     "name": "stdout",
     "output_type": "stream",
     "text": [
      "Aditya123\n"
     ]
    }
   ],
   "source": [
    "d = \"Aditya123\"\n",
    "print(d)"
   ]
  },
  {
   "cell_type": "code",
   "execution_count": 49,
   "id": "e5a9f5ac",
   "metadata": {},
   "outputs": [
    {
     "data": {
      "text/plain": [
       "False"
      ]
     },
     "execution_count": 49,
     "metadata": {},
     "output_type": "execute_result"
    }
   ],
   "source": [
    "#returns true if there is only numbers in string else returns false\n",
    "#works only when there is a single substring inside a string\n",
    "d.isdigit()"
   ]
  },
  {
   "cell_type": "code",
   "execution_count": 50,
   "id": "a711a73b",
   "metadata": {},
   "outputs": [
    {
     "data": {
      "text/plain": [
       "True"
      ]
     },
     "execution_count": 50,
     "metadata": {},
     "output_type": "execute_result"
    }
   ],
   "source": [
    "#returns true if a string contains either a number or a  alphabet or both\n",
    "#It returns false when a string contains special characters such as _,@,$ etc\n",
    "##works only when there is a single substring inside a string\n",
    "d.isalnum()"
   ]
  },
  {
   "cell_type": "code",
   "execution_count": 53,
   "id": "dea01e52",
   "metadata": {},
   "outputs": [
    {
     "name": "stdout",
     "output_type": "stream",
     "text": [
      "b\n"
     ]
    }
   ],
   "source": [
    "#chr() method takes integer as input and returns its character as output(through ASCII code)\n",
    "f = chr(98)\n",
    "print(f)"
   ]
  },
  {
   "cell_type": "code",
   "execution_count": 54,
   "id": "603c7e5e",
   "metadata": {},
   "outputs": [
    {
     "name": "stdout",
     "output_type": "stream",
     "text": [
      "98\n"
     ]
    }
   ],
   "source": [
    "#ord() method takes character as input and returns its integer value as output\n",
    "g = ord('b')\n",
    "print(g)"
   ]
  },
  {
   "cell_type": "code",
   "execution_count": 61,
   "id": "ed1f728a",
   "metadata": {},
   "outputs": [
    {
     "name": "stdout",
     "output_type": "stream",
     "text": [
      "Aditya is a Intelligent Boy\n"
     ]
    }
   ],
   "source": [
    "#used to add values at any place in string\n",
    "name = 'Aditya'\n",
    "quality = 'Intelligent Boy'\n",
    "message = \"{} is a {}\".format(name,quality)\n",
    "print(message)"
   ]
  },
  {
   "cell_type": "code",
   "execution_count": 63,
   "id": "95eabe7c",
   "metadata": {},
   "outputs": [
    {
     "name": "stdout",
     "output_type": "stream",
     "text": [
      "Congrats you are selected as Microsoft Student Ambassador\n"
     ]
    }
   ],
   "source": [
    "#you can directly pass the value also to format() for {} without using another varibales\n",
    "mess = \"{} you are selected as {}\".format('Congrats','Microsoft Student Ambassador')\n",
    "print(mess)"
   ]
  },
  {
   "cell_type": "code",
   "execution_count": null,
   "id": "f595ff1d",
   "metadata": {},
   "outputs": [],
   "source": []
  }
 ],
 "metadata": {
  "kernelspec": {
   "display_name": "Python 3 (ipykernel)",
   "language": "python",
   "name": "python3"
  },
  "language_info": {
   "codemirror_mode": {
    "name": "ipython",
    "version": 3
   },
   "file_extension": ".py",
   "mimetype": "text/x-python",
   "name": "python",
   "nbconvert_exporter": "python",
   "pygments_lexer": "ipython3",
   "version": "3.11.5"
  }
 },
 "nbformat": 4,
 "nbformat_minor": 5
}
