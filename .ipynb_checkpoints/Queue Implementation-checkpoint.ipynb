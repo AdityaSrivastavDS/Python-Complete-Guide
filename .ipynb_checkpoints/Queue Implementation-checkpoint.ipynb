{
 "cells": [
  {
   "cell_type": "markdown",
   "id": "97d71a29",
   "metadata": {},
   "source": [
    "### Queue:"
   ]
  },
  {
   "cell_type": "markdown",
   "id": "6ec7884c",
   "metadata": {},
   "source": [
    "•Queue is a linear data structure\n",
    "\n",
    "•It works on the basis of FIFO(First In First Out) principle"
   ]
  },
  {
   "cell_type": "markdown",
   "id": "6f3a5621",
   "metadata": {},
   "source": [
    "### Methods:"
   ]
  },
  {
   "cell_type": "markdown",
   "id": "2a019f50",
   "metadata": {},
   "source": [
    "•enqueue(): used to add an item to queue\n",
    "\n",
    "•dequeue() : removes an item from a queue\n",
    "\n",
    "•front() : get the front element of queue\n",
    "\n",
    "•rear() : get the last element of queue"
   ]
  },
  {
   "cell_type": "code",
   "execution_count": 2,
   "id": "fc25f040",
   "metadata": {},
   "outputs": [
    {
     "name": "stdout",
     "output_type": "stream",
     "text": [
      "\n",
      "    1 Enqueue Elements\n",
      "    2 Dequeue first Elements\n",
      "    3 Front first Elements\n",
      "    4 Rear Last Elements\n",
      "    5 Display Queue\n",
      "    6 Break1\n",
      "Enter the value10\n",
      "['10']\n",
      "\n",
      "    1 Enqueue Elements\n",
      "    2 Dequeue first Elements\n",
      "    3 Front first Elements\n",
      "    4 Rear Last Elements\n",
      "    5 Display Queue\n",
      "    6 Break1\n",
      "Enter the value20\n",
      "['10', '20']\n",
      "\n",
      "    1 Enqueue Elements\n",
      "    2 Dequeue first Elements\n",
      "    3 Front first Elements\n",
      "    4 Rear Last Elements\n",
      "    5 Display Queue\n",
      "    6 Break1\n",
      "Enter the value30\n",
      "['10', '20', '30']\n",
      "\n",
      "    1 Enqueue Elements\n",
      "    2 Dequeue first Elements\n",
      "    3 Front first Elements\n",
      "    4 Rear Last Elements\n",
      "    5 Display Queue\n",
      "    6 Break2\n",
      "['20', '30']\n",
      "\n",
      "    1 Enqueue Elements\n",
      "    2 Dequeue first Elements\n",
      "    3 Front first Elements\n",
      "    4 Rear Last Elements\n",
      "    5 Display Queue\n",
      "    6 Break3\n",
      "First element of Queue is:  20\n",
      "\n",
      "    1 Enqueue Elements\n",
      "    2 Dequeue first Elements\n",
      "    3 Front first Elements\n",
      "    4 Rear Last Elements\n",
      "    5 Display Queue\n",
      "    6 Break4\n",
      "Last element of Queue:  30\n",
      "\n",
      "    1 Enqueue Elements\n",
      "    2 Dequeue first Elements\n",
      "    3 Front first Elements\n",
      "    4 Rear Last Elements\n",
      "    5 Display Queue\n",
      "    6 Break5\n",
      "Display Queue:  ['20', '30']\n",
      "\n",
      "    1 Enqueue Elements\n",
      "    2 Dequeue first Elements\n",
      "    3 Front first Elements\n",
      "    4 Rear Last Elements\n",
      "    5 Display Queue\n",
      "    6 Break6\n"
     ]
    }
   ],
   "source": [
    "#queue implementation\n",
    "l = []\n",
    "while True: #This condition never get false\n",
    "    c = int(input('''\n",
    "    1 Enqueue Elements\n",
    "    2 Dequeue first Elements\n",
    "    3 Front first Elements\n",
    "    4 Rear Last Elements\n",
    "    5 Display Queue\n",
    "    6 Break'''))\n",
    "    if c == 1:\n",
    "        n = input(\"Enter the value\")\n",
    "        l.append(n)\n",
    "        print(l)\n",
    "    elif c == 2:\n",
    "        if len(l) == 0:\n",
    "            print(\"Queue is empty\")\n",
    "        else:\n",
    "            del l[0]\n",
    "            print(l)\n",
    "    elif c == 3:\n",
    "        if len(l)==0:\n",
    "            print(\"Queue is empty\")\n",
    "        else:\n",
    "            print(\"First element of Queue is: \",l[0])\n",
    "    elif c == 4:\n",
    "        print(\"Last element of Queue: \",l[-1])\n",
    "    elif c == 5:\n",
    "        print(\"Display Queue: \",l)\n",
    "    elif c == 6:\n",
    "        break;\n",
    "    else:\n",
    "        print(\"Invalid Operation\")"
   ]
  },
  {
   "cell_type": "code",
   "execution_count": null,
   "id": "2d81ae99",
   "metadata": {},
   "outputs": [],
   "source": []
  }
 ],
 "metadata": {
  "kernelspec": {
   "display_name": "Python 3 (ipykernel)",
   "language": "python",
   "name": "python3"
  },
  "language_info": {
   "codemirror_mode": {
    "name": "ipython",
    "version": 3
   },
   "file_extension": ".py",
   "mimetype": "text/x-python",
   "name": "python",
   "nbconvert_exporter": "python",
   "pygments_lexer": "ipython3",
   "version": "3.11.5"
  }
 },
 "nbformat": 4,
 "nbformat_minor": 5
}
