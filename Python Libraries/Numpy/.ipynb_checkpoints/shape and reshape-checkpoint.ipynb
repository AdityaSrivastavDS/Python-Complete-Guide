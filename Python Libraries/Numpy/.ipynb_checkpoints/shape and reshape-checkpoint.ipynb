{
 "cells": [
  {
   "cell_type": "code",
   "execution_count": 1,
   "id": "20583bd9-7878-4dbd-bfca-95e41652424b",
   "metadata": {},
   "outputs": [],
   "source": [
    "import numpy as np"
   ]
  },
  {
   "cell_type": "markdown",
   "id": "9dd7d6f0-af0a-4525-bef7-24b40ba490f6",
   "metadata": {},
   "source": [
    "***shape***"
   ]
  },
  {
   "cell_type": "code",
   "execution_count": 10,
   "id": "54558c0d-bacd-4559-83dc-22193176ec15",
   "metadata": {},
   "outputs": [
    {
     "name": "stdout",
     "output_type": "stream",
     "text": [
      "[[1 2 3 4]\n",
      " [1 2 3 4]]\n"
     ]
    }
   ],
   "source": [
    "var = np.array([[1,2,3,4],[1,2,3,4]])\n",
    "\n",
    "print(var)"
   ]
  },
  {
   "cell_type": "code",
   "execution_count": 11,
   "id": "98aa0f8b-ecdc-43d2-b4f5-753dd7201f89",
   "metadata": {},
   "outputs": [
    {
     "name": "stdout",
     "output_type": "stream",
     "text": [
      "(2, 4)\n"
     ]
    }
   ],
   "source": [
    "print(var.shape)"
   ]
  },
  {
   "cell_type": "code",
   "execution_count": 14,
   "id": "f6516175-0d7a-4617-80f0-ada71983ff67",
   "metadata": {},
   "outputs": [
    {
     "name": "stdout",
     "output_type": "stream",
     "text": [
      "[[[[1 2 3 4]]]]\n",
      "4\n",
      "Shape of array is:-  (1, 1, 1, 4)\n"
     ]
    }
   ],
   "source": [
    "var1 = np.array([1,2,3,4], ndmin = 4)\n",
    "print(var1)\n",
    "\n",
    "print(var1.ndim)\n",
    "\n",
    "print(\"Shape of array is:- \",var1.shape)"
   ]
  },
  {
   "cell_type": "markdown",
   "id": "68df301e-87b4-4873-92a8-3a3e92b37c35",
   "metadata": {},
   "source": [
    "***reshape***\n",
    "\n",
    "•this function is used to convert 1-d array into 2-d and 3-d array"
   ]
  },
  {
   "cell_type": "code",
   "execution_count": 19,
   "id": "3f137bb5-1ffd-48ef-a790-84a416defd4d",
   "metadata": {},
   "outputs": [
    {
     "name": "stdout",
     "output_type": "stream",
     "text": [
      "Original array:-  [1 2 3 4 5 6]\n",
      "\n",
      "Array after reshaping:- \n",
      "[[1 2 3]\n",
      " [4 5 6]]\n"
     ]
    }
   ],
   "source": [
    "arr = np.array([1,2,3,4,5,6])\n",
    "print(\"Original array:- \",arr)\n",
    "\n",
    "print()\n",
    "\n",
    "x = arr.reshape(2,3)   #number of elements in array should be equal to product rows and column\n",
    "print(\"Array after reshaping:- \")\n",
    "print(x)"
   ]
  },
  {
   "cell_type": "code",
   "execution_count": 21,
   "id": "fe1f52c4-3968-417b-a086-e63b4a86561c",
   "metadata": {},
   "outputs": [
    {
     "name": "stdout",
     "output_type": "stream",
     "text": [
      "Original array:-  [ 1  2  3  4  5  6  7  8  9 10 11 12]\n",
      "\n",
      "Array after reshaping:- \n",
      "[[[ 1  2]\n",
      "  [ 3  4]\n",
      "  [ 5  6]]\n",
      "\n",
      " [[ 7  8]\n",
      "  [ 9 10]\n",
      "  [11 12]]]\n"
     ]
    }
   ],
   "source": [
    "arr1 = np.array([1,2,3,4,5,6,7,8,9,10,11,12])\n",
    "print(\"Original array:- \",arr1)\n",
    "\n",
    "print()\n",
    "\n",
    "x1 = arr1.reshape(2,3,2)\n",
    "print(\"Array after reshaping:- \")\n",
    "print(x1)"
   ]
  },
  {
   "cell_type": "markdown",
   "id": "0f8b2f62-99f8-4062-8ee4-0c2794e22f7e",
   "metadata": {},
   "source": [
    "***converting 3-d array into 1-d array***"
   ]
  },
  {
   "cell_type": "code",
   "execution_count": 23,
   "id": "4d3fed35-3b9f-4f8d-aee2-889f0536dc43",
   "metadata": {},
   "outputs": [
    {
     "name": "stdout",
     "output_type": "stream",
     "text": [
      "[ 1  2  3  4  5  6  7  8  9 10 11 12]\n"
     ]
    }
   ],
   "source": [
    "one = x1.reshape(-1)\n",
    "print(one)"
   ]
  },
  {
   "cell_type": "code",
   "execution_count": null,
   "id": "5affa750-f4d1-4983-b23c-ae65ce8632f8",
   "metadata": {},
   "outputs": [],
   "source": []
  }
 ],
 "metadata": {
  "kernelspec": {
   "display_name": "Python 3 (ipykernel)",
   "language": "python",
   "name": "python3"
  },
  "language_info": {
   "codemirror_mode": {
    "name": "ipython",
    "version": 3
   },
   "file_extension": ".py",
   "mimetype": "text/x-python",
   "name": "python",
   "nbconvert_exporter": "python",
   "pygments_lexer": "ipython3",
   "version": "3.11.5"
  }
 },
 "nbformat": 4,
 "nbformat_minor": 5
}
