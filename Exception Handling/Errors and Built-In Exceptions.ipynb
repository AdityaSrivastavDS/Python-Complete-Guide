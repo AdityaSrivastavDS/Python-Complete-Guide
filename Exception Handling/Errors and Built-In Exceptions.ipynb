{
 "cells": [
  {
   "cell_type": "raw",
   "id": "ef79baa0-5249-43dc-a6eb-82efbd8931cb",
   "metadata": {},
   "source": [
    "♦Errors and Exceptions:-"
   ]
  },
  {
   "cell_type": "markdown",
   "id": "aa275df4-fdca-4d6e-92ae-a24d5ae97633",
   "metadata": {},
   "source": [
    "•In Python, errors and exceptions are issues that arise during the execution of a program. They can be classified into two main types: syntax errors and exceptions."
   ]
  },
  {
   "cell_type": "raw",
   "id": "7489e2df-dd89-425e-9a98-89bf71b61a00",
   "metadata": {},
   "source": [
    "♦Syntax Errors:-"
   ]
  },
  {
   "cell_type": "markdown",
   "id": "12b8b78a-0a74-4ebc-b4dc-329970d1189e",
   "metadata": {},
   "source": [
    "•Syntax errors, also known as parsing errors, occur when the code is not properly written according to the syntax rules of Python. These errors are detected by the interpreter during the parsing of the code.\n",
    "\r",
    "•\n",
    "Examples of syntax errors include missing colons at the end of a statement block, mismatched parentheses, incorrect indentation, etc."
   ]
  },
  {
   "cell_type": "code",
   "execution_count": 1,
   "id": "531ceb44-273a-477d-ad4e-f05e88efaaa9",
   "metadata": {},
   "outputs": [
    {
     "ename": "SyntaxError",
     "evalue": "expected ':' (1634730185.py, line 2)",
     "output_type": "error",
     "traceback": [
      "\u001b[1;36m  Cell \u001b[1;32mIn[1], line 2\u001b[1;36m\u001b[0m\n\u001b[1;33m    if x == 5  # Missing colon at the end of the if statement\u001b[0m\n\u001b[1;37m               ^\u001b[0m\n\u001b[1;31mSyntaxError\u001b[0m\u001b[1;31m:\u001b[0m expected ':'\n"
     ]
    }
   ],
   "source": [
    "# Syntax Error Examples\n",
    "if x == 5  # Missing colon at the end of the if statement\n",
    "    print(\"x is 5\")\n"
   ]
  },
  {
   "cell_type": "raw",
   "id": "0ab03e06-ee1b-4750-805d-60314f8e37f1",
   "metadata": {},
   "source": [
    "♦Exceptions/Logical Errors:-"
   ]
  },
  {
   "cell_type": "markdown",
   "id": "906bb61f-a9b9-42be-87df-68a1e9604bdd",
   "metadata": {},
   "source": [
    "•Exceptions occur during the execution of a program when something unexpected or erroneous happens that disrupts the normal flow of the program. They are not syntax errors but issues that arise while the program is running.\n",
    "\r",
    "•Python has a vast number of built-in exceptions that handle various types of errors during execution. Some common built-in exceptions include:e definition."
   ]
  },
  {
   "cell_type": "markdown",
   "id": "c31979a5-85c9-4b8f-b6f0-3b6dfd668e57",
   "metadata": {},
   "source": [
    "1)SyntaxError: As mentioned above, it's a syntax error raised when the parser encounters a syntax error.\n",
    "\n",
    "\n",
    "2)IndentationError: Raised when there's incorrect indentation in the code.\n",
    "."
   ]
  },
  {
   "cell_type": "markdown",
   "id": "9198eadc-7e24-452c-9d82-312328caf481",
   "metadata": {},
   "source": [
    "3)NameError: Occurs when a local or global name is not found.\n",
    "\n",
    "\n",
    "4)TypeError: Raised when an operation or function is applied to an object of an inappropriate type.\n"
   ]
  },
  {
   "cell_type": "markdown",
   "id": "6addbc6b-ad97-40d7-a3c1-75b5040822d5",
   "metadata": {},
   "source": [
    "5)ValueError: Occurs when a built-in operation or function receives an argument that has the right type but an inappropriate value.\n",
    "\n",
    "\n",
    "6)ZeroDivisionError: Raised when the second argument of a division or modulo operation is zero."
   ]
  },
  {
   "cell_type": "markdown",
   "id": "b58ff761-84ef-49f0-bc6b-dd6da4359184",
   "metadata": {},
   "source": [
    "7)FileNotFoundError: Raised when a file or directory is requested, but it doesn't exist.\n",
    "\n",
    "\r",
    "8)KeyError: Raised when a dictionary key is not found.."
   ]
  },
  {
   "cell_type": "markdown",
   "id": "932c51d1-93d5-4c2c-a724-7a898683ac49",
   "metadata": {},
   "source": [
    "9)IndexError: Occurs when a sequence index is out of range.\n",
    "\n",
    "\n",
    "10)ImportError: Raised when an import statement fails to find the module definition."
   ]
  },
  {
   "cell_type": "raw",
   "id": "2a30f491-4c5f-4924-b5b5-105ce87ec406",
   "metadata": {},
   "source": [
    "•Handling exceptions using try and except blocks allows programmers to gracefully manage these errors by catching the exceptions and taking appropriate actions to prevent the program from crashing.\n",
    "\n",
    "\n",
    "•Apart from built-in exceptions, Python allows users to create custom exceptions by inheriting from the Exception class. This helps in defining specific error cases in larger applications."
   ]
  },
  {
   "cell_type": "code",
   "execution_count": 3,
   "id": "544e603e-39dc-42fc-856a-259348687863",
   "metadata": {},
   "outputs": [
    {
     "name": "stdout",
     "output_type": "stream",
     "text": [
      "Error: division by zero\n"
     ]
    }
   ],
   "source": [
    "# Examples of Exceptions\n",
    "x = 10\n",
    "y = 0\n",
    "\n",
    "try:\n",
    "    result = x / y  # ZeroDivisionError\n",
    "except ZeroDivisionError as e:\n",
    "    print(\"Error:\", e)\n"
   ]
  },
  {
   "cell_type": "code",
   "execution_count": null,
   "id": "015feeef-0336-4760-b849-1dc174aa5a50",
   "metadata": {},
   "outputs": [],
   "source": []
  }
 ],
 "metadata": {
  "kernelspec": {
   "display_name": "Python 3 (ipykernel)",
   "language": "python",
   "name": "python3"
  },
  "language_info": {
   "codemirror_mode": {
    "name": "ipython",
    "version": 3
   },
   "file_extension": ".py",
   "mimetype": "text/x-python",
   "name": "python",
   "nbconvert_exporter": "python",
   "pygments_lexer": "ipython3",
   "version": "3.11.5"
  }
 },
 "nbformat": 4,
 "nbformat_minor": 5
}
